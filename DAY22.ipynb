{
  "nbformat": 4,
  "nbformat_minor": 0,
  "metadata": {
    "colab": {
      "provenance": [],
      "toc_visible": true,
      "authorship_tag": "ABX9TyO72uOz9mRs+i8Dl42y9Tj2",
      "include_colab_link": true
    },
    "kernelspec": {
      "name": "python3",
      "display_name": "Python 3"
    },
    "language_info": {
      "name": "python"
    }
  },
  "cells": [
    {
      "cell_type": "markdown",
      "metadata": {
        "id": "view-in-github",
        "colab_type": "text"
      },
      "source": [
        "<a href=\"https://colab.research.google.com/github/OmkarSolat/Data-Science-in-DevTown/blob/main/DAY22.ipynb\" target=\"_parent\"><img src=\"https://colab.research.google.com/assets/colab-badge.svg\" alt=\"Open In Colab\"/></a>"
      ]
    },
    {
      "cell_type": "markdown",
      "source": [
        "# Introduction to Pandas"
      ],
      "metadata": {
        "id": "xFn7-D4Rvq6c"
      }
    },
    {
      "cell_type": "markdown",
      "source": [
        "* It's a Python Library that is used while you are working with the datasets\n",
        "* It has some function\n",
        "\n",
        "\n",
        "* Functions---->\n",
        "1. Analyze\n",
        "2. Cleaning\n",
        "3. Explore\n",
        "4. Manipulation\n",
        "\n",
        "\n",
        "* Why Pandas? ----->\n",
        "\n",
        "* It allows us to analyze big datas\n",
        "* It is used to clean messy datasets and then make it readable and relevant"
      ],
      "metadata": {
        "id": "xDgolcJGyOAQ"
      }
    },
    {
      "cell_type": "code",
      "source": [
        "#Note:\n",
        "'''\n",
        "datsets -> table(Row & Column)\n",
        "datapoint -> particular row\n",
        "\n",
        "'''"
      ],
      "metadata": {
        "id": "ejEapY7ovn2w"
      },
      "execution_count": null,
      "outputs": []
    },
    {
      "cell_type": "code",
      "source": [],
      "metadata": {
        "id": "cFBZVBGEvn-K"
      },
      "execution_count": null,
      "outputs": []
    },
    {
      "cell_type": "markdown",
      "source": [
        "# Importation of Pandas"
      ],
      "metadata": {
        "id": "QvEZUxBg11ek"
      }
    },
    {
      "cell_type": "code",
      "source": [
        "import pandas as pd\n",
        "\n",
        "#it doesn't come handy with python ,  but comes handy with colab\n",
        "#we have to install it to work on it."
      ],
      "metadata": {
        "id": "GlSiidovvoBM"
      },
      "execution_count": null,
      "outputs": []
    },
    {
      "cell_type": "code",
      "source": [
        "pd.__version__"
      ],
      "metadata": {
        "colab": {
          "base_uri": "https://localhost:8080/",
          "height": 35
        },
        "id": "beD_HiPDvoEq",
        "outputId": "1feb4689-eb4d-4db6-fc3b-b4975483a5fc"
      },
      "execution_count": null,
      "outputs": [
        {
          "output_type": "execute_result",
          "data": {
            "text/plain": [
              "'1.5.3'"
            ],
            "application/vnd.google.colaboratory.intrinsic+json": {
              "type": "string"
            }
          },
          "metadata": {},
          "execution_count": 4
        }
      ]
    },
    {
      "cell_type": "code",
      "source": [],
      "metadata": {
        "id": "ErN2W2nqvoIj"
      },
      "execution_count": null,
      "outputs": []
    },
    {
      "cell_type": "markdown",
      "source": [
        "# Pandas Data Structure\n",
        "\n",
        "1. Series -> CRUD\n",
        "2. Dataframe -> CRUD\n",
        "3. Panel\n",
        "\n",
        "* Pandas DS are very fast because the DS are built on top of the NumPy array."
      ],
      "metadata": {
        "id": "FJR5in063HQV"
      }
    },
    {
      "cell_type": "code",
      "source": [],
      "metadata": {
        "id": "BfL8J4eyvoMB"
      },
      "execution_count": null,
      "outputs": []
    },
    {
      "cell_type": "markdown",
      "source": [
        "# Series\n",
        "\n",
        "1. It is a 1D array like Datastructure\n",
        "2. [1,2,3,4,5,6,7,8] -> column"
      ],
      "metadata": {
        "id": "V7CqoPmt5H8D"
      }
    },
    {
      "cell_type": "code",
      "source": [
        "# SYNTAX:\n",
        "'''\n",
        " pd.Series(data, index, dtype)\n",
        "\n",
        "You can create a series by using various input datas such as\n",
        "1. Array\n",
        "2. Dict\n",
        "3. Scalar Value\n",
        "\n",
        "'''"
      ],
      "metadata": {
        "id": "dAPA2GXXvoPf"
      },
      "execution_count": null,
      "outputs": []
    },
    {
      "cell_type": "markdown",
      "source": [
        "# C- CREATION"
      ],
      "metadata": {
        "id": "1byfcOPS57MA"
      }
    },
    {
      "cell_type": "code",
      "source": [
        "s = pd.Series()"
      ],
      "metadata": {
        "colab": {
          "base_uri": "https://localhost:8080/"
        },
        "id": "NlxDTnYQvoSy",
        "outputId": "456208f5-3daa-44a0-a7b2-58b153559591"
      },
      "execution_count": null,
      "outputs": [
        {
          "output_type": "stream",
          "name": "stderr",
          "text": [
            "<ipython-input-7-399a7d257b44>:1: FutureWarning: The default dtype for empty Series will be 'object' instead of 'float64' in a future version. Specify a dtype explicitly to silence this warning.\n",
            "  s = pd.Series()\n"
          ]
        }
      ]
    },
    {
      "cell_type": "code",
      "source": [
        "s"
      ],
      "metadata": {
        "colab": {
          "base_uri": "https://localhost:8080/"
        },
        "id": "3da4LeEzvoWm",
        "outputId": "9242ae00-a3b0-46fa-ce9b-e2821d0d02f9"
      },
      "execution_count": null,
      "outputs": [
        {
          "output_type": "execute_result",
          "data": {
            "text/plain": [
              "Series([], dtype: float64)"
            ]
          },
          "metadata": {},
          "execution_count": 8
        }
      ]
    },
    {
      "cell_type": "markdown",
      "source": [
        "* Creating a series using Numpy Array"
      ],
      "metadata": {
        "id": "1etVxypj6eqE"
      }
    },
    {
      "cell_type": "code",
      "source": [
        "import numpy as np"
      ],
      "metadata": {
        "id": "znIozD82voZ2"
      },
      "execution_count": null,
      "outputs": []
    },
    {
      "cell_type": "code",
      "source": [
        "data = np.array([18,45,7,1,93,10])\n",
        "data"
      ],
      "metadata": {
        "colab": {
          "base_uri": "https://localhost:8080/"
        },
        "id": "amEOMcNOvodK",
        "outputId": "3e580bfb-7a0b-4bc9-d156-e6c5424ec3d2"
      },
      "execution_count": null,
      "outputs": [
        {
          "output_type": "execute_result",
          "data": {
            "text/plain": [
              "array([18, 45,  7,  1, 93, 10])"
            ]
          },
          "metadata": {},
          "execution_count": 11
        }
      ]
    },
    {
      "cell_type": "code",
      "source": [
        "s = pd.Series(data)\n",
        "s"
      ],
      "metadata": {
        "colab": {
          "base_uri": "https://localhost:8080/"
        },
        "id": "rEz4jphkvoge",
        "outputId": "5b034fed-ac34-40cf-d466-452853aa9b80"
      },
      "execution_count": null,
      "outputs": [
        {
          "output_type": "execute_result",
          "data": {
            "text/plain": [
              "0    18\n",
              "1    45\n",
              "2     7\n",
              "3     1\n",
              "4    93\n",
              "5    10\n",
              "dtype: int64"
            ]
          },
          "metadata": {},
          "execution_count": 13
        }
      ]
    },
    {
      "cell_type": "code",
      "source": [
        "data = np.array([\"Virat\",\"Kane\",\"Smith\",\"Root\"])\n",
        "s = pd.Series(data,index=[1,2,3,4])"
      ],
      "metadata": {
        "id": "G3eB0s1wvouI"
      },
      "execution_count": null,
      "outputs": []
    },
    {
      "cell_type": "code",
      "source": [
        "s"
      ],
      "metadata": {
        "colab": {
          "base_uri": "https://localhost:8080/"
        },
        "id": "Ecn0vDeL7wnQ",
        "outputId": "db8a917e-b22c-4060-ec5b-bdf77f4e7bf8"
      },
      "execution_count": null,
      "outputs": [
        {
          "output_type": "execute_result",
          "data": {
            "text/plain": [
              "1    Virat\n",
              "2     Kane\n",
              "3    Smith\n",
              "4     Root\n",
              "dtype: object"
            ]
          },
          "metadata": {},
          "execution_count": 17
        }
      ]
    },
    {
      "cell_type": "code",
      "source": [],
      "metadata": {
        "id": "2l3M0Qqv7wqR"
      },
      "execution_count": null,
      "outputs": []
    },
    {
      "cell_type": "markdown",
      "source": [
        "* crating series using dictionary"
      ],
      "metadata": {
        "id": "lYk1TwEC9gNo"
      }
    },
    {
      "cell_type": "code",
      "source": [
        "data = {\"a\":10, \"b\":40, \"c\":90, \"d\":95}"
      ],
      "metadata": {
        "id": "Q2Asnkt77ws9"
      },
      "execution_count": null,
      "outputs": []
    },
    {
      "cell_type": "code",
      "source": [
        "s = pd.Series(data)\n",
        "s"
      ],
      "metadata": {
        "colab": {
          "base_uri": "https://localhost:8080/"
        },
        "id": "X0bWrQ687wvm",
        "outputId": "f1d2d41c-d154-446d-c28a-d99d01f53ffe"
      },
      "execution_count": null,
      "outputs": [
        {
          "output_type": "execute_result",
          "data": {
            "text/plain": [
              "a    10\n",
              "b    40\n",
              "c    90\n",
              "d    95\n",
              "dtype: int64"
            ]
          },
          "metadata": {},
          "execution_count": 22
        }
      ]
    },
    {
      "cell_type": "code",
      "source": [
        "s = pd.Series(data,index=[\"p\",\"q\",\"r\",\"s\"])\n",
        "s"
      ],
      "metadata": {
        "colab": {
          "base_uri": "https://localhost:8080/"
        },
        "id": "h0zyQyXK7wyg",
        "outputId": "8377d1ff-f04d-41ba-a65e-2ec057c66418"
      },
      "execution_count": null,
      "outputs": [
        {
          "output_type": "execute_result",
          "data": {
            "text/plain": [
              "p   NaN\n",
              "q   NaN\n",
              "r   NaN\n",
              "s   NaN\n",
              "dtype: float64"
            ]
          },
          "metadata": {},
          "execution_count": 24
        }
      ]
    },
    {
      "cell_type": "code",
      "source": [
        "s = pd.Series(data,index=[\"c\",\"d\",\"e\",\"b\",\"a\"])\n",
        "s"
      ],
      "metadata": {
        "colab": {
          "base_uri": "https://localhost:8080/"
        },
        "id": "S0WEt8WM7w1A",
        "outputId": "3d75d1dc-8420-48af-a772-705ac30fe62d"
      },
      "execution_count": null,
      "outputs": [
        {
          "output_type": "execute_result",
          "data": {
            "text/plain": [
              "c    90.0\n",
              "d    95.0\n",
              "e     NaN\n",
              "b    40.0\n",
              "a    10.0\n",
              "dtype: float64"
            ]
          },
          "metadata": {},
          "execution_count": 25
        }
      ]
    },
    {
      "cell_type": "code",
      "source": [
        "s['e'] = 85.5           #assighning data to NaN value"
      ],
      "metadata": {
        "id": "keiRHs21GRvw"
      },
      "execution_count": null,
      "outputs": []
    },
    {
      "cell_type": "code",
      "source": [
        "s"
      ],
      "metadata": {
        "colab": {
          "base_uri": "https://localhost:8080/"
        },
        "id": "PP9hS2jfGYrB",
        "outputId": "734cc9f6-26b1-4d23-c705-3e6489fb529f"
      },
      "execution_count": null,
      "outputs": [
        {
          "output_type": "execute_result",
          "data": {
            "text/plain": [
              "c    90.0\n",
              "d    95.0\n",
              "e    85.5\n",
              "b    40.0\n",
              "a    10.0\n",
              "dtype: float64"
            ]
          },
          "metadata": {},
          "execution_count": 45
        }
      ]
    },
    {
      "cell_type": "markdown",
      "source": [
        "* Creating series using the scalar value"
      ],
      "metadata": {
        "id": "FMo15gHX_wst"
      }
    },
    {
      "cell_type": "code",
      "source": [
        "data = 99\n",
        "s = pd.Series(data,index=[101,201,301,401])\n",
        "s"
      ],
      "metadata": {
        "colab": {
          "base_uri": "https://localhost:8080/"
        },
        "id": "h8k8C_Oo7w4o",
        "outputId": "5680297e-8b41-4a04-9a69-be1d29c8a3f8"
      },
      "execution_count": null,
      "outputs": [
        {
          "output_type": "execute_result",
          "data": {
            "text/plain": [
              "101    99\n",
              "201    99\n",
              "301    99\n",
              "401    99\n",
              "dtype: int64"
            ]
          },
          "metadata": {},
          "execution_count": 26
        }
      ]
    },
    {
      "cell_type": "markdown",
      "source": [
        "# U - Updation\n",
        "\n",
        " Accessing the data from the Pandas series DS"
      ],
      "metadata": {
        "id": "LFt0mXG6APe-"
      }
    },
    {
      "cell_type": "code",
      "source": [
        "data = np.array([12,45,32,89,7,-10,21,-0.5,-7,30])\n",
        "s = pd.Series(data)\n",
        "s"
      ],
      "metadata": {
        "colab": {
          "base_uri": "https://localhost:8080/"
        },
        "id": "g94l8NYVvoxk",
        "outputId": "d853081b-e79a-42e2-dd89-b12b7b7c5179"
      },
      "execution_count": null,
      "outputs": [
        {
          "output_type": "execute_result",
          "data": {
            "text/plain": [
              "0    12.0\n",
              "1    45.0\n",
              "2    32.0\n",
              "3    89.0\n",
              "4     7.0\n",
              "5   -10.0\n",
              "6    21.0\n",
              "7    -0.5\n",
              "8    -7.0\n",
              "9    30.0\n",
              "dtype: float64"
            ]
          },
          "metadata": {},
          "execution_count": 27
        }
      ]
    },
    {
      "cell_type": "code",
      "source": [
        "s[4]       #accesing data in series by using index"
      ],
      "metadata": {
        "colab": {
          "base_uri": "https://localhost:8080/"
        },
        "id": "WrngtNyW_vOE",
        "outputId": "4ccb35f7-cf9e-4ebb-e40b-99ad42eea752"
      },
      "execution_count": null,
      "outputs": [
        {
          "output_type": "execute_result",
          "data": {
            "text/plain": [
              "7.0"
            ]
          },
          "metadata": {},
          "execution_count": 29
        }
      ]
    },
    {
      "cell_type": "code",
      "source": [
        "s[:3]"
      ],
      "metadata": {
        "colab": {
          "base_uri": "https://localhost:8080/"
        },
        "id": "qxRo-25R_vQ9",
        "outputId": "5aa93a7e-34cb-4124-9342-9b30cafe94d5"
      },
      "execution_count": null,
      "outputs": [
        {
          "output_type": "execute_result",
          "data": {
            "text/plain": [
              "0    12.0\n",
              "1    45.0\n",
              "2    32.0\n",
              "dtype: float64"
            ]
          },
          "metadata": {},
          "execution_count": 31
        }
      ]
    },
    {
      "cell_type": "code",
      "source": [
        "s[7:]"
      ],
      "metadata": {
        "colab": {
          "base_uri": "https://localhost:8080/"
        },
        "id": "7iOdHGcQ_vTi",
        "outputId": "94329251-3b68-4e9e-9873-c097f15fe083"
      },
      "execution_count": null,
      "outputs": [
        {
          "output_type": "execute_result",
          "data": {
            "text/plain": [
              "7    -0.5\n",
              "8    -7.0\n",
              "9    30.0\n",
              "dtype: float64"
            ]
          },
          "metadata": {},
          "execution_count": 32
        }
      ]
    },
    {
      "cell_type": "code",
      "source": [
        "s[4:7]                  #In list series won't includes end value"
      ],
      "metadata": {
        "colab": {
          "base_uri": "https://localhost:8080/"
        },
        "id": "rpGOoNL1_vWW",
        "outputId": "d22a1f5a-8612-440b-d703-d2cb1cc4489a"
      },
      "execution_count": null,
      "outputs": [
        {
          "output_type": "execute_result",
          "data": {
            "text/plain": [
              "4     7.0\n",
              "5   -10.0\n",
              "6    21.0\n",
              "dtype: float64"
            ]
          },
          "metadata": {},
          "execution_count": 33
        }
      ]
    },
    {
      "cell_type": "code",
      "source": [
        "data = {\"a\":10, \"b\":40, \"c\":90, \"d\":95}\n",
        "s = pd.Series(data)\n",
        "s"
      ],
      "metadata": {
        "colab": {
          "base_uri": "https://localhost:8080/"
        },
        "id": "lT63mSY6_vYy",
        "outputId": "ababdc4c-bfd7-4239-c54a-2c5d8db9d43a"
      },
      "execution_count": null,
      "outputs": [
        {
          "output_type": "execute_result",
          "data": {
            "text/plain": [
              "a    10\n",
              "b    40\n",
              "c    90\n",
              "d    95\n",
              "dtype: int64"
            ]
          },
          "metadata": {},
          "execution_count": 35
        }
      ]
    },
    {
      "cell_type": "code",
      "source": [
        "s['a':'c']            #In dictionary series includes slicing end value as well"
      ],
      "metadata": {
        "colab": {
          "base_uri": "https://localhost:8080/"
        },
        "id": "RKtFVcBj_vbi",
        "outputId": "26d66bd0-0607-4392-8bef-29bb2af52730"
      },
      "execution_count": null,
      "outputs": [
        {
          "output_type": "execute_result",
          "data": {
            "text/plain": [
              "a    10\n",
              "b    40\n",
              "c    90\n",
              "dtype: int64"
            ]
          },
          "metadata": {},
          "execution_count": 37
        }
      ]
    },
    {
      "cell_type": "code",
      "source": [
        "s[['a','c']]             #for accesing particular element"
      ],
      "metadata": {
        "colab": {
          "base_uri": "https://localhost:8080/"
        },
        "id": "Vomhtyxl_veY",
        "outputId": "94c7b1c4-c4bf-49ad-a6a4-0ae57179b81c"
      },
      "execution_count": null,
      "outputs": [
        {
          "output_type": "execute_result",
          "data": {
            "text/plain": [
              "a    10\n",
              "c    90\n",
              "dtype: int64"
            ]
          },
          "metadata": {},
          "execution_count": 41
        }
      ]
    },
    {
      "cell_type": "code",
      "source": [],
      "metadata": {
        "id": "XTZPdaJKFsom"
      },
      "execution_count": null,
      "outputs": []
    },
    {
      "cell_type": "markdown",
      "source": [
        "* Boolean Masking\n",
        "\n",
        "0 - False\n",
        "\n",
        "1 - True"
      ],
      "metadata": {
        "id": "JNjBwvyQGjLS"
      }
    },
    {
      "cell_type": "code",
      "source": [
        "data = {\"a\":10, \"b\":40, \"c\":90, \"d\":95}\n",
        "s = pd.Series(data)\n",
        "s"
      ],
      "metadata": {
        "colab": {
          "base_uri": "https://localhost:8080/"
        },
        "id": "yQOmXvLNFsrA",
        "outputId": "c6a3bde5-24f5-4410-8557-2a4d7b4c292b"
      },
      "execution_count": null,
      "outputs": [
        {
          "output_type": "execute_result",
          "data": {
            "text/plain": [
              "a    10\n",
              "b    40\n",
              "c    90\n",
              "d    95\n",
              "dtype: int64"
            ]
          },
          "metadata": {},
          "execution_count": 46
        }
      ]
    },
    {
      "cell_type": "code",
      "source": [
        "s > 50"
      ],
      "metadata": {
        "colab": {
          "base_uri": "https://localhost:8080/"
        },
        "id": "zkhBRZbFFsum",
        "outputId": "5f7ef40a-a401-4906-e6e5-58179df21b91"
      },
      "execution_count": null,
      "outputs": [
        {
          "output_type": "execute_result",
          "data": {
            "text/plain": [
              "a    False\n",
              "b    False\n",
              "c     True\n",
              "d     True\n",
              "dtype: bool"
            ]
          },
          "metadata": {},
          "execution_count": 47
        }
      ]
    },
    {
      "cell_type": "code",
      "source": [
        "s[s>50]          #To retrive only satisfied values"
      ],
      "metadata": {
        "colab": {
          "base_uri": "https://localhost:8080/"
        },
        "id": "5azIA439Fs6t",
        "outputId": "c8647969-d56f-47d1-da53-f5c9024ea61d"
      },
      "execution_count": null,
      "outputs": [
        {
          "output_type": "execute_result",
          "data": {
            "text/plain": [
              "c    90\n",
              "d    95\n",
              "dtype: int64"
            ]
          },
          "metadata": {},
          "execution_count": 49
        }
      ]
    },
    {
      "cell_type": "code",
      "source": [
        "s"
      ],
      "metadata": {
        "colab": {
          "base_uri": "https://localhost:8080/"
        },
        "id": "E5s-9rnQFtAo",
        "outputId": "3c543487-0dc5-481b-b5cf-03ea86f81d9f"
      },
      "execution_count": null,
      "outputs": [
        {
          "output_type": "execute_result",
          "data": {
            "text/plain": [
              "a    10\n",
              "b    40\n",
              "c    90\n",
              "d    95\n",
              "dtype: int64"
            ]
          },
          "metadata": {},
          "execution_count": 53
        }
      ]
    },
    {
      "cell_type": "code",
      "source": [
        "s.ndim"
      ],
      "metadata": {
        "colab": {
          "base_uri": "https://localhost:8080/"
        },
        "id": "SX8T-OR8JDH7",
        "outputId": "7e91117e-3081-4456-86b8-49785e5848b5"
      },
      "execution_count": null,
      "outputs": [
        {
          "output_type": "execute_result",
          "data": {
            "text/plain": [
              "1"
            ]
          },
          "metadata": {},
          "execution_count": 55
        }
      ]
    },
    {
      "cell_type": "code",
      "source": [
        "s.shape"
      ],
      "metadata": {
        "colab": {
          "base_uri": "https://localhost:8080/"
        },
        "id": "BKgsksiQJDLL",
        "outputId": "9f4ab380-00f4-4558-cf95-3a0ab234c6e2"
      },
      "execution_count": null,
      "outputs": [
        {
          "output_type": "execute_result",
          "data": {
            "text/plain": [
              "(4,)"
            ]
          },
          "metadata": {},
          "execution_count": 56
        }
      ]
    },
    {
      "cell_type": "code",
      "source": [
        "s.size"
      ],
      "metadata": {
        "colab": {
          "base_uri": "https://localhost:8080/"
        },
        "id": "bX2ekvfrJDOT",
        "outputId": "5d6f318c-932e-4e86-8213-32301839c71f"
      },
      "execution_count": null,
      "outputs": [
        {
          "output_type": "execute_result",
          "data": {
            "text/plain": [
              "4"
            ]
          },
          "metadata": {},
          "execution_count": 57
        }
      ]
    },
    {
      "cell_type": "code",
      "source": [
        "s.index"
      ],
      "metadata": {
        "colab": {
          "base_uri": "https://localhost:8080/"
        },
        "id": "lPE-s2AJJDSA",
        "outputId": "98e45c4b-5a6b-44ce-cc4a-94cad8d223c6"
      },
      "execution_count": null,
      "outputs": [
        {
          "output_type": "execute_result",
          "data": {
            "text/plain": [
              "Index(['a', 'b', 'c', 'd'], dtype='object')"
            ]
          },
          "metadata": {},
          "execution_count": 58
        }
      ]
    },
    {
      "cell_type": "code",
      "source": [
        "s.values"
      ],
      "metadata": {
        "colab": {
          "base_uri": "https://localhost:8080/"
        },
        "id": "Nzzeg5VWJy5e",
        "outputId": "13a718d6-03ef-4a9d-da1c-4eae0e74dcf6"
      },
      "execution_count": null,
      "outputs": [
        {
          "output_type": "execute_result",
          "data": {
            "text/plain": [
              "array([10, 40, 90, 95])"
            ]
          },
          "metadata": {},
          "execution_count": 59
        }
      ]
    },
    {
      "cell_type": "code",
      "source": [
        "\"10\" in s"
      ],
      "metadata": {
        "colab": {
          "base_uri": "https://localhost:8080/"
        },
        "id": "6Kx_5zQKJy9B",
        "outputId": "72291957-514d-4620-de86-1784ebba64a1"
      },
      "execution_count": null,
      "outputs": [
        {
          "output_type": "execute_result",
          "data": {
            "text/plain": [
              "False"
            ]
          },
          "metadata": {},
          "execution_count": 60
        }
      ]
    },
    {
      "cell_type": "code",
      "source": [
        "10 in s"
      ],
      "metadata": {
        "colab": {
          "base_uri": "https://localhost:8080/"
        },
        "id": "BB2icYM8JzAa",
        "outputId": "e1176f37-82a2-4732-cbf8-6422e3042f79"
      },
      "execution_count": null,
      "outputs": [
        {
          "output_type": "execute_result",
          "data": {
            "text/plain": [
              "False"
            ]
          },
          "metadata": {},
          "execution_count": 61
        }
      ]
    },
    {
      "cell_type": "code",
      "source": [
        "'a' in s               #Index is use to acces data of series"
      ],
      "metadata": {
        "colab": {
          "base_uri": "https://localhost:8080/"
        },
        "id": "mDAhiHhKJzFe",
        "outputId": "cff26a51-0545-4fff-a6d7-dfbc92a66271"
      },
      "execution_count": null,
      "outputs": [
        {
          "output_type": "execute_result",
          "data": {
            "text/plain": [
              "True"
            ]
          },
          "metadata": {},
          "execution_count": 64
        }
      ]
    },
    {
      "cell_type": "code",
      "source": [],
      "metadata": {
        "id": "6kTxIiFpLrUk"
      },
      "execution_count": null,
      "outputs": []
    },
    {
      "cell_type": "markdown",
      "source": [
        "# D- DELETION"
      ],
      "metadata": {
        "id": "2Eil7QC3LsTK"
      }
    },
    {
      "cell_type": "code",
      "source": [
        "data = {\"a\":10, \"b\":40, \"c\":90, \"d\":95,\"e\":86,\"f\":77}\n",
        "s = pd.Series(data)\n",
        "s"
      ],
      "metadata": {
        "colab": {
          "base_uri": "https://localhost:8080/"
        },
        "id": "OTnfwR8nLrYe",
        "outputId": "a67f7893-7874-4e0a-91ce-605997909ab5"
      },
      "execution_count": null,
      "outputs": [
        {
          "output_type": "execute_result",
          "data": {
            "text/plain": [
              "a    10\n",
              "b    40\n",
              "c    90\n",
              "d    95\n",
              "e    86\n",
              "f    77\n",
              "dtype: int64"
            ]
          },
          "metadata": {},
          "execution_count": 76
        }
      ]
    },
    {
      "cell_type": "code",
      "source": [
        "s.drop('a',inplace=False)              #Temporary deletion"
      ],
      "metadata": {
        "colab": {
          "base_uri": "https://localhost:8080/"
        },
        "id": "XhJA6oceLrci",
        "outputId": "638a1959-1aaf-4413-9f52-81c78b60749c"
      },
      "execution_count": null,
      "outputs": [
        {
          "output_type": "execute_result",
          "data": {
            "text/plain": [
              "b    40\n",
              "c    90\n",
              "d    95\n",
              "e    86\n",
              "f    77\n",
              "dtype: int64"
            ]
          },
          "metadata": {},
          "execution_count": 77
        }
      ]
    },
    {
      "cell_type": "code",
      "source": [
        "s"
      ],
      "metadata": {
        "colab": {
          "base_uri": "https://localhost:8080/"
        },
        "id": "7xUBmyqRLrgK",
        "outputId": "87005374-1863-4949-84d6-e6a0275cc677"
      },
      "execution_count": null,
      "outputs": [
        {
          "output_type": "execute_result",
          "data": {
            "text/plain": [
              "a    10\n",
              "b    40\n",
              "c    90\n",
              "d    95\n",
              "e    86\n",
              "f    77\n",
              "dtype: int64"
            ]
          },
          "metadata": {},
          "execution_count": 78
        }
      ]
    },
    {
      "cell_type": "code",
      "source": [
        "s.drop('a',inplace=True)      #Permanent deletion"
      ],
      "metadata": {
        "id": "gVO2f6O4Lrj0"
      },
      "execution_count": null,
      "outputs": []
    },
    {
      "cell_type": "code",
      "source": [
        "s"
      ],
      "metadata": {
        "colab": {
          "base_uri": "https://localhost:8080/"
        },
        "id": "bp9_hOltLrnL",
        "outputId": "857b01de-93d3-4f09-89d8-f96cf2123abd"
      },
      "execution_count": null,
      "outputs": [
        {
          "output_type": "execute_result",
          "data": {
            "text/plain": [
              "b    40\n",
              "c    90\n",
              "d    95\n",
              "e    86\n",
              "f    77\n",
              "dtype: int64"
            ]
          },
          "metadata": {},
          "execution_count": 80
        }
      ]
    },
    {
      "cell_type": "code",
      "source": [
        "s.drop(['e',\"f\"])"
      ],
      "metadata": {
        "colab": {
          "base_uri": "https://localhost:8080/"
        },
        "id": "a78mGyg8JzKb",
        "outputId": "375c13ec-ee03-4c73-9b45-c2f37a401342"
      },
      "execution_count": null,
      "outputs": [
        {
          "output_type": "execute_result",
          "data": {
            "text/plain": [
              "b    40\n",
              "c    90\n",
              "d    95\n",
              "dtype: int64"
            ]
          },
          "metadata": {},
          "execution_count": 81
        }
      ]
    },
    {
      "cell_type": "code",
      "source": [
        "s"
      ],
      "metadata": {
        "colab": {
          "base_uri": "https://localhost:8080/"
        },
        "id": "k0qCSl7qJDVe",
        "outputId": "4710bb63-92f2-4b3a-c9bb-f0604d504e96"
      },
      "execution_count": null,
      "outputs": [
        {
          "output_type": "execute_result",
          "data": {
            "text/plain": [
              "b    40\n",
              "c    90\n",
              "d    95\n",
              "e    86\n",
              "f    77\n",
              "dtype: int64"
            ]
          },
          "metadata": {},
          "execution_count": 82
        }
      ]
    },
    {
      "cell_type": "code",
      "source": [
        "s+2"
      ],
      "metadata": {
        "colab": {
          "base_uri": "https://localhost:8080/"
        },
        "id": "P8pzR0cZPcv9",
        "outputId": "40507100-2710-467e-e567-79d1f893318f"
      },
      "execution_count": null,
      "outputs": [
        {
          "output_type": "execute_result",
          "data": {
            "text/plain": [
              "b    42\n",
              "c    92\n",
              "d    97\n",
              "e    88\n",
              "f    79\n",
              "dtype: int64"
            ]
          },
          "metadata": {},
          "execution_count": 83
        }
      ]
    },
    {
      "cell_type": "code",
      "source": [
        "s-2"
      ],
      "metadata": {
        "colab": {
          "base_uri": "https://localhost:8080/"
        },
        "id": "eyqxL1h1Pczh",
        "outputId": "9f9bb151-1916-42ce-8242-3e6eae4a7091"
      },
      "execution_count": null,
      "outputs": [
        {
          "output_type": "execute_result",
          "data": {
            "text/plain": [
              "b    38\n",
              "c    88\n",
              "d    93\n",
              "e    84\n",
              "f    75\n",
              "dtype: int64"
            ]
          },
          "metadata": {},
          "execution_count": 84
        }
      ]
    },
    {
      "cell_type": "code",
      "source": [
        "s*2"
      ],
      "metadata": {
        "colab": {
          "base_uri": "https://localhost:8080/"
        },
        "id": "OGmR8OudPc2m",
        "outputId": "508e982b-be5a-4840-bf01-ee3d7da690b5"
      },
      "execution_count": null,
      "outputs": [
        {
          "output_type": "execute_result",
          "data": {
            "text/plain": [
              "b     80\n",
              "c    180\n",
              "d    190\n",
              "e    172\n",
              "f    154\n",
              "dtype: int64"
            ]
          },
          "metadata": {},
          "execution_count": 85
        }
      ]
    },
    {
      "cell_type": "code",
      "source": [
        "s/2"
      ],
      "metadata": {
        "colab": {
          "base_uri": "https://localhost:8080/"
        },
        "id": "6KlLP-RWPc5q",
        "outputId": "109a4f17-5d55-48ef-d44f-617c25494966"
      },
      "execution_count": null,
      "outputs": [
        {
          "output_type": "execute_result",
          "data": {
            "text/plain": [
              "b    20.0\n",
              "c    45.0\n",
              "d    47.5\n",
              "e    43.0\n",
              "f    38.5\n",
              "dtype: float64"
            ]
          },
          "metadata": {},
          "execution_count": 90
        }
      ]
    },
    {
      "cell_type": "code",
      "source": [
        "np.power(s,2)"
      ],
      "metadata": {
        "colab": {
          "base_uri": "https://localhost:8080/"
        },
        "id": "HM7oewyxPc9J",
        "outputId": "1111baa9-7c50-4174-c918-4022c3291637"
      },
      "execution_count": null,
      "outputs": [
        {
          "output_type": "execute_result",
          "data": {
            "text/plain": [
              "b    1600\n",
              "c    8100\n",
              "d    9025\n",
              "e    7396\n",
              "f    5929\n",
              "dtype: int64"
            ]
          },
          "metadata": {},
          "execution_count": 91
        }
      ]
    },
    {
      "cell_type": "code",
      "source": [
        "s**2"
      ],
      "metadata": {
        "colab": {
          "base_uri": "https://localhost:8080/"
        },
        "id": "eYdMRAOJPzMg",
        "outputId": "9d8beaba-5399-48e7-bd4c-b25b3baaf9fc"
      },
      "execution_count": null,
      "outputs": [
        {
          "output_type": "execute_result",
          "data": {
            "text/plain": [
              "b    1600\n",
              "c    8100\n",
              "d    9025\n",
              "e    7396\n",
              "f    5929\n",
              "dtype: int64"
            ]
          },
          "metadata": {},
          "execution_count": 92
        }
      ]
    },
    {
      "cell_type": "code",
      "source": [
        "s"
      ],
      "metadata": {
        "colab": {
          "base_uri": "https://localhost:8080/"
        },
        "id": "ybd78SXFPzQA",
        "outputId": "000c02da-09ad-4158-d85e-fafb7d3f1bd6"
      },
      "execution_count": null,
      "outputs": [
        {
          "output_type": "execute_result",
          "data": {
            "text/plain": [
              "b    40\n",
              "c    90\n",
              "d    95\n",
              "e    86\n",
              "f    77\n",
              "dtype: int64"
            ]
          },
          "metadata": {},
          "execution_count": 93
        }
      ]
    },
    {
      "cell_type": "code",
      "source": [
        "s['f']-7"
      ],
      "metadata": {
        "colab": {
          "base_uri": "https://localhost:8080/"
        },
        "id": "jln2icA6FtED",
        "outputId": "c9d28baf-84e5-45e8-cdf7-7350ec0f87ff"
      },
      "execution_count": null,
      "outputs": [
        {
          "output_type": "execute_result",
          "data": {
            "text/plain": [
              "70"
            ]
          },
          "metadata": {},
          "execution_count": 94
        }
      ]
    },
    {
      "cell_type": "code",
      "source": [
        "s"
      ],
      "metadata": {
        "colab": {
          "base_uri": "https://localhost:8080/"
        },
        "id": "KRShNQ_-QURa",
        "outputId": "7ad2441e-3862-4d7f-b45f-92908e81b411"
      },
      "execution_count": null,
      "outputs": [
        {
          "output_type": "execute_result",
          "data": {
            "text/plain": [
              "b    40\n",
              "c    90\n",
              "d    95\n",
              "e    86\n",
              "f    77\n",
              "dtype: int64"
            ]
          },
          "metadata": {},
          "execution_count": 95
        }
      ]
    },
    {
      "cell_type": "code",
      "source": [],
      "metadata": {
        "id": "lWrgyyVJQUUo"
      },
      "execution_count": null,
      "outputs": []
    },
    {
      "cell_type": "code",
      "source": [],
      "metadata": {
        "id": "WIrFB0cAQUYV"
      },
      "execution_count": null,
      "outputs": []
    }
  ]
}