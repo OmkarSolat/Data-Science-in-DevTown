{
  "nbformat": 4,
  "nbformat_minor": 0,
  "metadata": {
    "colab": {
      "provenance": [],
      "toc_visible": true,
      "authorship_tag": "ABX9TyNpxaNAmN0hTVw4bt9b2+Sr",
      "include_colab_link": true
    },
    "kernelspec": {
      "name": "python3",
      "display_name": "Python 3"
    },
    "language_info": {
      "name": "python"
    }
  },
  "cells": [
    {
      "cell_type": "markdown",
      "metadata": {
        "id": "view-in-github",
        "colab_type": "text"
      },
      "source": [
        "<a href=\"https://colab.research.google.com/github/OmkarSolat/Data-Science-in-DevTown/blob/main/DAY10.ipynb\" target=\"_parent\"><img src=\"https://colab.research.google.com/assets/colab-badge.svg\" alt=\"Open In Colab\"/></a>"
      ]
    },
    {
      "cell_type": "markdown",
      "source": [
        "# OOP-(Object Oriented Programming)\n"
      ],
      "metadata": {
        "id": "wyOtzaPi1k9Z"
      }
    },
    {
      "cell_type": "markdown",
      "source": [
        "1. It is an approach that will allow you to develop applications\n",
        "2. It focuses on the code reusability\n",
        "3. It allows to do programming using the concept of classes and object"
      ],
      "metadata": {
        "id": "y9mreXL12Bey"
      }
    },
    {
      "cell_type": "code",
      "source": [],
      "metadata": {
        "id": "6q2-kSij1qV3"
      },
      "execution_count": null,
      "outputs": []
    },
    {
      "cell_type": "markdown",
      "source": [
        "1. Class\n",
        "2. Object\n",
        "3. Method (Function)\n",
        "* Properties of OOPs\n",
        "4. Inheritance\n",
        "5. Data Abstraction\n",
        "6. Polymorphism\n",
        "7. Encapsulation"
      ],
      "metadata": {
        "id": "HQVX1f4y3dW8"
      }
    },
    {
      "cell_type": "markdown",
      "source": [
        "# class\n"
      ],
      "metadata": {
        "id": "0kk2RzZz3tFl"
      }
    },
    {
      "cell_type": "markdown",
      "source": [
        "1. It is a blueprint/plan/map of defining the entire structure of programming\n",
        "\n",
        "2. It is a collection of objects, functions, specific attributes, etc."
      ],
      "metadata": {
        "id": "CaHo0tNX3oNl"
      }
    },
    {
      "cell_type": "code",
      "source": [
        "SYNTAX:\n",
        "\n",
        "class name_of_the_class():\n",
        "  statements"
      ],
      "metadata": {
        "id": "VRoHwWdq1rMp"
      },
      "execution_count": null,
      "outputs": []
    },
    {
      "cell_type": "code",
      "source": [
        "class First():\n",
        "  def result(self, marks):\n",
        "    if marks > 75:\n",
        "      print(\"Pass\")\n",
        "    else:\n",
        "      print(\"Fail\")"
      ],
      "metadata": {
        "id": "EsUqxXqe1rCJ"
      },
      "execution_count": null,
      "outputs": []
    },
    {
      "cell_type": "markdown",
      "source": [
        "# object"
      ],
      "metadata": {
        "id": "xHLpVND361ic"
      }
    },
    {
      "cell_type": "markdown",
      "source": [
        "1. It is an instance of a class\n",
        "\n",
        "* Instance -> an example/ a case"
      ],
      "metadata": {
        "id": "z-9wkU6v7RdA"
      }
    },
    {
      "cell_type": "code",
      "source": [
        "SYNTAX:\n",
        "\n",
        "object_name=class_name(arguments)"
      ],
      "metadata": {
        "id": "uc3qbmx01q-r"
      },
      "execution_count": null,
      "outputs": []
    },
    {
      "cell_type": "code",
      "source": [
        "obj=First()"
      ],
      "metadata": {
        "id": "mE5AmydB1q7l"
      },
      "execution_count": null,
      "outputs": []
    },
    {
      "cell_type": "code",
      "source": [
        "obj.result(95)"
      ],
      "metadata": {
        "colab": {
          "base_uri": "https://localhost:8080/"
        },
        "id": "R3GktG4L1q4y",
        "outputId": "024cd9cf-2728-4bea-ad2b-fb7ee2dd9693"
      },
      "execution_count": null,
      "outputs": [
        {
          "output_type": "stream",
          "name": "stdout",
          "text": [
            "Pass\n"
          ]
        }
      ]
    },
    {
      "cell_type": "markdown",
      "source": [
        "# Scope of variables\n"
      ],
      "metadata": {
        "id": "3K2tf1om8sE_"
      }
    },
    {
      "cell_type": "markdown",
      "source": [
        "1. Global Variable\n",
        "2. Local Variable"
      ],
      "metadata": {
        "id": "8x5H1xcF8y-0"
      }
    },
    {
      "cell_type": "code",
      "source": [
        "var = 10 # Global Variable\n",
        "\n",
        "def function(inp):\n",
        "  var = 8 # Local Variable\n",
        "  print(inp+var)"
      ],
      "metadata": {
        "id": "X3uzL-oe1q1n"
      },
      "execution_count": null,
      "outputs": []
    },
    {
      "cell_type": "code",
      "source": [
        "function(12)"
      ],
      "metadata": {
        "colab": {
          "base_uri": "https://localhost:8080/"
        },
        "id": "L2y8_hDz1qyd",
        "outputId": "01000dda-b977-40a1-e6b6-5b4e7b6c5aaf"
      },
      "execution_count": null,
      "outputs": [
        {
          "output_type": "stream",
          "name": "stdout",
          "text": [
            "20\n"
          ]
        }
      ]
    },
    {
      "cell_type": "code",
      "source": [
        "var = 10 # Global Variable\n",
        "\n",
        "def function(inp):\n",
        "  vari = 8 # Local Variable\n",
        "  var = var + 20\n",
        "  return var\n",
        "\n",
        "print(random_function(12))\n",
        "print(var)"
      ],
      "metadata": {
        "colab": {
          "base_uri": "https://localhost:8080/"
        },
        "id": "1QbIpgdo1qvX",
        "outputId": "88ecfbdd-be19-4464-d657-bb86bca5958b"
      },
      "execution_count": null,
      "outputs": [
        {
          "output_type": "stream",
          "name": "stdout",
          "text": [
            "20\n",
            "None\n",
            "10\n"
          ]
        }
      ]
    },
    {
      "cell_type": "code",
      "source": [
        "# How to change global variable\n",
        "\n",
        "var = 10\n",
        "\n",
        "def ran():\n",
        "  global var     #using keyword global\n",
        "  var = var + 20\n",
        "  return var"
      ],
      "metadata": {
        "id": "XD2UNqOS1qsO"
      },
      "execution_count": null,
      "outputs": []
    },
    {
      "cell_type": "code",
      "source": [
        "ran()"
      ],
      "metadata": {
        "colab": {
          "base_uri": "https://localhost:8080/"
        },
        "id": "JFdJrdl61qox",
        "outputId": "46f0bb1e-3047-4152-baab-6830717f224d"
      },
      "execution_count": null,
      "outputs": [
        {
          "output_type": "execute_result",
          "data": {
            "text/plain": [
              "30"
            ]
          },
          "metadata": {},
          "execution_count": 13
        }
      ]
    },
    {
      "cell_type": "code",
      "source": [
        "# Quiz\n",
        "\n",
        "def fun1():\n",
        "  var = 20\n",
        "  def fun2():\n",
        "    #global var\n",
        "    var = 30\n",
        "    print(f\"Value of var after: {var}\")\n",
        "\n",
        "  print(f\"Value of var before: {var}\")\n",
        "  return fun2()"
      ],
      "metadata": {
        "id": "BuSr7i311qkr"
      },
      "execution_count": null,
      "outputs": []
    },
    {
      "cell_type": "code",
      "source": [
        "fun1()"
      ],
      "metadata": {
        "colab": {
          "base_uri": "https://localhost:8080/"
        },
        "id": "MhYdQfTM1qgO",
        "outputId": "f80e7f61-ebf1-4dfb-8ffc-e80dbe504f9d"
      },
      "execution_count": null,
      "outputs": [
        {
          "output_type": "stream",
          "name": "stdout",
          "text": [
            "Value of var before: 20\n",
            "Value of var after: 30\n"
          ]
        }
      ]
    },
    {
      "cell_type": "code",
      "source": [],
      "metadata": {
        "id": "WC8b69NS1qcE"
      },
      "execution_count": null,
      "outputs": []
    },
    {
      "cell_type": "markdown",
      "source": [
        "# Inheritance\n"
      ],
      "metadata": {
        "id": "6f-xuwkPDFMl"
      }
    },
    {
      "cell_type": "markdown",
      "source": [
        "\n",
        "\n",
        "1.   single\n",
        "2.   multiple\n",
        "3.   multilevel\n",
        "\n"
      ],
      "metadata": {
        "id": "ST91ekN-EZEI"
      }
    },
    {
      "cell_type": "code",
      "source": [],
      "metadata": {
        "id": "Eg3-s4tRDA_o"
      },
      "execution_count": null,
      "outputs": []
    },
    {
      "cell_type": "markdown",
      "source": [
        "Single Inheritance"
      ],
      "metadata": {
        "id": "ex0I6UIJEkCW"
      }
    },
    {
      "cell_type": "code",
      "source": [
        "class Animal:\n",
        "  def speak(self):\n",
        "    print(\"Animal is speaking\")\n",
        "\n",
        "class Dog(Animal):\n",
        "  def bark(self):\n",
        "    print(\"The dog barks\")"
      ],
      "metadata": {
        "id": "YlD9gpODDA8M"
      },
      "execution_count": null,
      "outputs": []
    },
    {
      "cell_type": "code",
      "source": [
        "obj=Dog()"
      ],
      "metadata": {
        "id": "4CKJTwh7DA5W"
      },
      "execution_count": null,
      "outputs": []
    },
    {
      "cell_type": "code",
      "source": [
        "obj.bark()"
      ],
      "metadata": {
        "colab": {
          "base_uri": "https://localhost:8080/"
        },
        "id": "Amcrsr3zDA21",
        "outputId": "74fb1d49-f058-4922-a589-c85be57aa8ac"
      },
      "execution_count": null,
      "outputs": [
        {
          "output_type": "stream",
          "name": "stdout",
          "text": [
            "The dog barks\n"
          ]
        }
      ]
    },
    {
      "cell_type": "code",
      "source": [
        "obj.speak()"
      ],
      "metadata": {
        "colab": {
          "base_uri": "https://localhost:8080/"
        },
        "id": "lUevc6ldFwRs",
        "outputId": "1b747a86-da6d-4658-a0a4-b86046335d5a"
      },
      "execution_count": null,
      "outputs": [
        {
          "output_type": "stream",
          "name": "stdout",
          "text": [
            "Animal is speaking\n"
          ]
        }
      ]
    },
    {
      "cell_type": "code",
      "source": [],
      "metadata": {
        "id": "8I3AkzzRFwOW"
      },
      "execution_count": null,
      "outputs": []
    },
    {
      "cell_type": "markdown",
      "source": [
        "Multilevel Inheritance"
      ],
      "metadata": {
        "id": "buQKjtLNHM0M"
      }
    },
    {
      "cell_type": "code",
      "source": [
        "class Animal:\n",
        "  def speak(self):\n",
        "    print(\"Animal is speaking\")\n",
        "\n",
        "class Dog(Animal):\n",
        "  def bark(self):\n",
        "    print(\"The dog barks\")\n",
        "\n",
        "class Puppy(Dog):\n",
        "  def eat(self):\n",
        "    print(\"The puppy is eating\")\n",
        "  def bark(self):\n",
        "    print(\"The puppy is not barking\")\n"
      ],
      "metadata": {
        "id": "uW1gvoh5FwLN"
      },
      "execution_count": null,
      "outputs": []
    },
    {
      "cell_type": "code",
      "source": [
        "obj=Puppy()"
      ],
      "metadata": {
        "id": "VQGmGG9yFwIa"
      },
      "execution_count": null,
      "outputs": []
    },
    {
      "cell_type": "code",
      "source": [
        "obj.eat()"
      ],
      "metadata": {
        "colab": {
          "base_uri": "https://localhost:8080/"
        },
        "id": "Vc_jEupZFwFU",
        "outputId": "620cba9d-1cc0-424c-e433-7419c9cbb8a5"
      },
      "execution_count": null,
      "outputs": [
        {
          "output_type": "stream",
          "name": "stdout",
          "text": [
            "The puppy is eating\n"
          ]
        }
      ]
    },
    {
      "cell_type": "code",
      "source": [
        "obj.bark()"
      ],
      "metadata": {
        "colab": {
          "base_uri": "https://localhost:8080/"
        },
        "id": "RriGE9kEJTiS",
        "outputId": "4eee0dcd-78fc-41b2-c984-f7b614c84b7c"
      },
      "execution_count": null,
      "outputs": [
        {
          "output_type": "stream",
          "name": "stdout",
          "text": [
            "The puppy is not barking\n"
          ]
        }
      ]
    },
    {
      "cell_type": "code",
      "source": [
        "obj.speak()"
      ],
      "metadata": {
        "colab": {
          "base_uri": "https://localhost:8080/"
        },
        "id": "ZG4GIRiNJTfC",
        "outputId": "ea976abb-6848-42c1-fa51-54f6bcc53422"
      },
      "execution_count": null,
      "outputs": [
        {
          "output_type": "stream",
          "name": "stdout",
          "text": [
            "Animal is speaking\n"
          ]
        }
      ]
    },
    {
      "cell_type": "code",
      "source": [],
      "metadata": {
        "id": "mJxLzUvlJTcO"
      },
      "execution_count": null,
      "outputs": []
    },
    {
      "cell_type": "markdown",
      "source": [
        "Multiple Inheritance"
      ],
      "metadata": {
        "id": "XvkRWFvfKQ5H"
      }
    },
    {
      "cell_type": "code",
      "source": [
        "class Animal:\n",
        "  def speak(self):\n",
        "    print(\"Animal is speaking\")\n",
        "\n",
        "class Dog():\n",
        "  def bark(self):\n",
        "    print(\"The dog barks\")\n",
        "\n",
        "class Puppy(Dog,Animal):\n",
        "  def eat(self):\n",
        "    print(\"The puppy is eating\")"
      ],
      "metadata": {
        "id": "_CvLLeq_KUwj"
      },
      "execution_count": null,
      "outputs": []
    },
    {
      "cell_type": "code",
      "source": [
        "obj=Puppy()"
      ],
      "metadata": {
        "id": "RJlaGCx-KUtF"
      },
      "execution_count": null,
      "outputs": []
    },
    {
      "cell_type": "code",
      "source": [
        "obj.eat()"
      ],
      "metadata": {
        "colab": {
          "base_uri": "https://localhost:8080/"
        },
        "id": "EYWR8rZWKUqV",
        "outputId": "836eba1b-7d89-469b-b082-02e886814e4c"
      },
      "execution_count": null,
      "outputs": [
        {
          "output_type": "stream",
          "name": "stdout",
          "text": [
            "The puppy is eating\n"
          ]
        }
      ]
    },
    {
      "cell_type": "code",
      "source": [
        "obj.bark()"
      ],
      "metadata": {
        "colab": {
          "base_uri": "https://localhost:8080/"
        },
        "id": "tzQ62qF-KUnR",
        "outputId": "d407e9a6-a832-49ef-eeca-20f29696596f"
      },
      "execution_count": null,
      "outputs": [
        {
          "output_type": "stream",
          "name": "stdout",
          "text": [
            "The dog barks\n"
          ]
        }
      ]
    },
    {
      "cell_type": "code",
      "source": [
        "obj.speak()"
      ],
      "metadata": {
        "colab": {
          "base_uri": "https://localhost:8080/"
        },
        "id": "CSDzjeqvJTW3",
        "outputId": "6cae469c-9497-4ea7-967b-93a3d081d5f4"
      },
      "execution_count": null,
      "outputs": [
        {
          "output_type": "stream",
          "name": "stdout",
          "text": [
            "Animal is speaking\n"
          ]
        }
      ]
    },
    {
      "cell_type": "code",
      "source": [],
      "metadata": {
        "id": "VNzVFvRmMU9y"
      },
      "execution_count": null,
      "outputs": []
    },
    {
      "cell_type": "code",
      "source": [
        "class Samp1:\n",
        "  def new1(self):\n",
        "    print(\"This is the 1st class\")\n",
        "  def new2(self):\n",
        "    print(\"This is the 1st class\")\n",
        "\n",
        "class Samp2:\n",
        "  def new1(self):\n",
        "    print(\"This is the 2nd class\")\n",
        "  def new2(self):\n",
        "    print(\"This is the 2nd class\")\n",
        "\n",
        "\n",
        "class finale(Samp1,Samp2):\n",
        "  def eat(self):\n",
        "    print(\"The dog is eating\")\n",
        "  #def new1(self):\n",
        "   # print(\"This is the child class\")"
      ],
      "metadata": {
        "id": "-EWuzXlQMU6b"
      },
      "execution_count": null,
      "outputs": []
    },
    {
      "cell_type": "code",
      "source": [
        "obj=finale()"
      ],
      "metadata": {
        "id": "W0EO8oMVMU3q"
      },
      "execution_count": null,
      "outputs": []
    },
    {
      "cell_type": "code",
      "source": [
        "obj.new1()"
      ],
      "metadata": {
        "colab": {
          "base_uri": "https://localhost:8080/"
        },
        "id": "j3EZvxfHMU1I",
        "outputId": "09199943-17d1-43c8-9417-a0c93de73286"
      },
      "execution_count": null,
      "outputs": [
        {
          "output_type": "stream",
          "name": "stdout",
          "text": [
            "This is the 1st class\n"
          ]
        }
      ]
    },
    {
      "cell_type": "code",
      "source": [],
      "metadata": {
        "id": "wOlPk7czMUx9"
      },
      "execution_count": null,
      "outputs": []
    },
    {
      "cell_type": "markdown",
      "source": [
        "#Method Overriding\n"
      ],
      "metadata": {
        "id": "3WVXZE7AWMRk"
      }
    },
    {
      "cell_type": "code",
      "source": [
        "class Animal:\n",
        "  def speak(self):\n",
        "    return 10\n",
        "\n",
        "class Dog(Animal):\n",
        "  def speak(self):\n",
        "    return 7\n",
        "\n",
        "class Cat(Animal):\n",
        "  def speak(self):\n",
        "    return 2"
      ],
      "metadata": {
        "id": "16RJmDvkMUuy"
      },
      "execution_count": null,
      "outputs": []
    },
    {
      "cell_type": "code",
      "source": [
        "obj1 = Animal()\n",
        "obj2 = Dog()\n",
        "obj3 = Cat()"
      ],
      "metadata": {
        "id": "1FbkwUtzMUr5"
      },
      "execution_count": null,
      "outputs": []
    },
    {
      "cell_type": "code",
      "source": [
        "obj1.speak()"
      ],
      "metadata": {
        "colab": {
          "base_uri": "https://localhost:8080/"
        },
        "id": "mntr8DTOMUow",
        "outputId": "e2b963ee-2f60-4f52-fdcb-4e9b58756407"
      },
      "execution_count": null,
      "outputs": [
        {
          "output_type": "execute_result",
          "data": {
            "text/plain": [
              "10"
            ]
          },
          "metadata": {},
          "execution_count": 50
        }
      ]
    },
    {
      "cell_type": "code",
      "source": [
        "obj2.speak()"
      ],
      "metadata": {
        "colab": {
          "base_uri": "https://localhost:8080/"
        },
        "id": "LpuimAOzXWgp",
        "outputId": "bd2bc419-f4a1-4e74-8857-d59a18f66166"
      },
      "execution_count": null,
      "outputs": [
        {
          "output_type": "execute_result",
          "data": {
            "text/plain": [
              "7"
            ]
          },
          "metadata": {},
          "execution_count": 51
        }
      ]
    },
    {
      "cell_type": "code",
      "source": [
        "obj3.speak()"
      ],
      "metadata": {
        "colab": {
          "base_uri": "https://localhost:8080/"
        },
        "id": "_1w-6PcmXWaI",
        "outputId": "99279751-5725-4164-ceb2-7bae64175b87"
      },
      "execution_count": null,
      "outputs": [
        {
          "output_type": "execute_result",
          "data": {
            "text/plain": [
              "2"
            ]
          },
          "metadata": {},
          "execution_count": 52
        }
      ]
    },
    {
      "cell_type": "code",
      "source": [
        "def sum(a,b,):    #method overloading not possible\n",
        "  print(a+b)\n",
        "\n",
        "def sum(a,b,c):\n",
        "  print(a+b+c)\n"
      ],
      "metadata": {
        "id": "rMiBeiia93aG"
      },
      "execution_count": null,
      "outputs": []
    },
    {
      "cell_type": "code",
      "source": [
        "sum(1,2,3)"
      ],
      "metadata": {
        "colab": {
          "base_uri": "https://localhost:8080/"
        },
        "id": "f8F_7mXW952P",
        "outputId": "80339767-d588-411d-cc09-26bd288137a1"
      },
      "execution_count": null,
      "outputs": [
        {
          "output_type": "stream",
          "name": "stdout",
          "text": [
            "6\n"
          ]
        }
      ]
    },
    {
      "cell_type": "code",
      "source": [
        "def sum(a,b,):    #method overriding is possible\n",
        "  print(a+b)\n",
        "\n",
        "def sum(a,b):\n",
        "  print(a*b)"
      ],
      "metadata": {
        "id": "6Nz8gx-Z-VZj"
      },
      "execution_count": null,
      "outputs": []
    },
    {
      "cell_type": "code",
      "source": [
        "sum(2,5)"
      ],
      "metadata": {
        "colab": {
          "base_uri": "https://localhost:8080/"
        },
        "id": "pp1ccFAC-bt6",
        "outputId": "cf1b59d6-a3f4-457d-c280-5f380513cefb"
      },
      "execution_count": null,
      "outputs": [
        {
          "output_type": "stream",
          "name": "stdout",
          "text": [
            "10\n"
          ]
        }
      ]
    }
  ]
}