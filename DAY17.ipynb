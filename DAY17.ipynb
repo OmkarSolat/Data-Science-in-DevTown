{
  "nbformat": 4,
  "nbformat_minor": 0,
  "metadata": {
    "colab": {
      "provenance": [],
      "toc_visible": true,
      "authorship_tag": "ABX9TyMR5rh30tqfzV9hJKzP7Igl",
      "include_colab_link": true
    },
    "kernelspec": {
      "name": "python3",
      "display_name": "Python 3"
    },
    "language_info": {
      "name": "python"
    }
  },
  "cells": [
    {
      "cell_type": "markdown",
      "metadata": {
        "id": "view-in-github",
        "colab_type": "text"
      },
      "source": [
        "<a href=\"https://colab.research.google.com/github/OmkarSolat/Data-Science-in-DevTown/blob/main/DAY17.ipynb\" target=\"_parent\"><img src=\"https://colab.research.google.com/assets/colab-badge.svg\" alt=\"Open In Colab\"/></a>"
      ]
    },
    {
      "cell_type": "markdown",
      "source": [
        "# Introduction to NumPy"
      ],
      "metadata": {
        "id": "hCwwmJW5GQdg"
      }
    },
    {
      "cell_type": "markdown",
      "source": [
        "More Faster than list\n",
        "\n",
        "Commands:->\n",
        "\n",
        "import numpy\n",
        "\n",
        "import numpy as np\n",
        "\n",
        "pip install numpy"
      ],
      "metadata": {
        "id": "wXVo3ZyNLU-x"
      }
    },
    {
      "cell_type": "code",
      "source": [
        "import numpy as np\n",
        "import time"
      ],
      "metadata": {
        "id": "IpVbyGOPGTF-"
      },
      "execution_count": null,
      "outputs": []
    },
    {
      "cell_type": "code",
      "source": [
        "a = np.random.rand(1000000000)"
      ],
      "metadata": {
        "id": "lEk3uwTPGTCV"
      },
      "execution_count": null,
      "outputs": []
    },
    {
      "cell_type": "code",
      "source": [
        "a"
      ],
      "metadata": {
        "colab": {
          "base_uri": "https://localhost:8080/"
        },
        "id": "x-JJdutwKqAk",
        "outputId": "bdebba39-4ed3-4416-aa21-170599b2506f"
      },
      "execution_count": null,
      "outputs": [
        {
          "output_type": "execute_result",
          "data": {
            "text/plain": [
              "array([0.37947963, 0.17361886, 0.29731149, ..., 0.30529966, 0.06780225,\n",
              "       0.56575858])"
            ]
          },
          "metadata": {},
          "execution_count": 4
        }
      ]
    },
    {
      "cell_type": "code",
      "source": [
        "# List  (more time required)\n",
        "\n",
        "start = time.time()\n",
        "mean_list = sum(a)/len(a)\n",
        "print(time.time()-start)\n"
      ],
      "metadata": {
        "id": "60NrRUBgGS_i",
        "colab": {
          "base_uri": "https://localhost:8080/"
        },
        "outputId": "fabea84f-5536-440f-a9a6-78f690b34c08"
      },
      "execution_count": null,
      "outputs": [
        {
          "output_type": "stream",
          "name": "stdout",
          "text": [
            "72.25315165519714\n"
          ]
        }
      ]
    },
    {
      "cell_type": "code",
      "source": [
        "mean_list"
      ],
      "metadata": {
        "colab": {
          "base_uri": "https://localhost:8080/"
        },
        "id": "ReOPy7QsK-bm",
        "outputId": "e02d2726-29c7-4833-82c8-eda91192db40"
      },
      "execution_count": null,
      "outputs": [
        {
          "output_type": "execute_result",
          "data": {
            "text/plain": [
              "0.499999093206319"
            ]
          },
          "metadata": {},
          "execution_count": 6
        }
      ]
    },
    {
      "cell_type": "code",
      "source": [
        "# Numpy    (less time required)\n",
        "\n",
        "start = time.time()\n",
        "mean_np= np.mean(a)\n",
        "print(time.time()-start)"
      ],
      "metadata": {
        "id": "0jXYEAzsGS8t",
        "colab": {
          "base_uri": "https://localhost:8080/"
        },
        "outputId": "85f8e43a-3ba9-49f6-802b-1fb3205a26ae"
      },
      "execution_count": null,
      "outputs": [
        {
          "output_type": "stream",
          "name": "stdout",
          "text": [
            "0.4342062473297119\n"
          ]
        }
      ]
    },
    {
      "cell_type": "code",
      "source": [
        "mean_np"
      ],
      "metadata": {
        "id": "Hptss3njGS53",
        "colab": {
          "base_uri": "https://localhost:8080/"
        },
        "outputId": "f14b79b0-4293-458a-ff1a-9e18e0fdf525"
      },
      "execution_count": null,
      "outputs": [
        {
          "output_type": "execute_result",
          "data": {
            "text/plain": [
              "0.4999990932056776"
            ]
          },
          "metadata": {},
          "execution_count": 8
        }
      ]
    },
    {
      "cell_type": "code",
      "source": [],
      "metadata": {
        "id": "00LsCHsrQOCa"
      },
      "execution_count": null,
      "outputs": []
    },
    {
      "cell_type": "markdown",
      "source": [
        "# Operations"
      ],
      "metadata": {
        "id": "MiYzZgw2QM-u"
      }
    },
    {
      "cell_type": "markdown",
      "source": [
        "Initializing the NumPy array"
      ],
      "metadata": {
        "id": "RNIsNBrVQLG_"
      }
    },
    {
      "cell_type": "code",
      "source": [
        "#syntax\n",
        "arr = np.array()"
      ],
      "metadata": {
        "id": "qqeqMUrzGSzc"
      },
      "execution_count": null,
      "outputs": []
    },
    {
      "cell_type": "code",
      "source": [
        "# 0D (Zero Dimensional)\n",
        "arr = np.array(4)\n",
        "arr"
      ],
      "metadata": {
        "colab": {
          "base_uri": "https://localhost:8080/"
        },
        "id": "s-ZG20EeMG86",
        "outputId": "b7dc4538-e325-43b5-e708-f1b0cbc402cc"
      },
      "execution_count": null,
      "outputs": [
        {
          "output_type": "execute_result",
          "data": {
            "text/plain": [
              "array(4)"
            ]
          },
          "metadata": {},
          "execution_count": 3
        }
      ]
    },
    {
      "cell_type": "code",
      "source": [
        "# 1D (One Dimensional)\n",
        "arr = np.array([1,2,3,4,5,6,7,8,9,10])\n",
        "arr"
      ],
      "metadata": {
        "colab": {
          "base_uri": "https://localhost:8080/"
        },
        "id": "ESnRjnIZMG5k",
        "outputId": "ce4652d0-b4f5-4d57-d192-172c33500fb2"
      },
      "execution_count": null,
      "outputs": [
        {
          "output_type": "execute_result",
          "data": {
            "text/plain": [
              "array([ 1,  2,  3,  4,  5,  6,  7,  8,  9, 10])"
            ]
          },
          "metadata": {},
          "execution_count": 4
        }
      ]
    },
    {
      "cell_type": "code",
      "source": [
        "# 2D (Two Dimensional)\n",
        "arr = np.array([[1,2,3,4,5],[6,7,8,9,10],[11,12,13,14,15]])\n",
        "arr"
      ],
      "metadata": {
        "colab": {
          "base_uri": "https://localhost:8080/"
        },
        "id": "jKCMQad_MG2d",
        "outputId": "1cda8af2-d697-460f-aa6e-64b4b565e11c"
      },
      "execution_count": null,
      "outputs": [
        {
          "output_type": "execute_result",
          "data": {
            "text/plain": [
              "array([[ 1,  2,  3,  4,  5],\n",
              "       [ 6,  7,  8,  9, 10],\n",
              "       [11, 12, 13, 14, 15]])"
            ]
          },
          "metadata": {},
          "execution_count": 5
        }
      ]
    },
    {
      "cell_type": "code",
      "source": [
        "# 3D (Three Dimensional)\n",
        "arr = np.array([\n",
        "                [\n",
        "                 [1,2,3,4],\n",
        "                 [5,6,7,8]\n",
        "                ],\n",
        "                [\n",
        "                 [8,7,6,5],\n",
        "                 [4,3,2,1]\n",
        "                ]\n",
        "                ])\n",
        "\n",
        "arr"
      ],
      "metadata": {
        "colab": {
          "base_uri": "https://localhost:8080/"
        },
        "id": "WYaUWrKsMGzl",
        "outputId": "36fdc0f7-3d06-486a-d4a3-3dfcb0e0d5e6"
      },
      "execution_count": null,
      "outputs": [
        {
          "output_type": "execute_result",
          "data": {
            "text/plain": [
              "array([[[1, 2, 3, 4],\n",
              "        [5, 6, 7, 8]],\n",
              "\n",
              "       [[8, 7, 6, 5],\n",
              "        [4, 3, 2, 1]]])"
            ]
          },
          "metadata": {},
          "execution_count": 6
        }
      ]
    },
    {
      "cell_type": "code",
      "source": [
        "type(arr)"
      ],
      "metadata": {
        "colab": {
          "base_uri": "https://localhost:8080/"
        },
        "id": "P91Cpw7SMGwp",
        "outputId": "8094d1ee-1a64-4bfa-a5f7-7e6d7e431a03"
      },
      "execution_count": null,
      "outputs": [
        {
          "output_type": "execute_result",
          "data": {
            "text/plain": [
              "numpy.ndarray"
            ]
          },
          "metadata": {},
          "execution_count": 8
        }
      ]
    },
    {
      "cell_type": "code",
      "source": [],
      "metadata": {
        "id": "H-eTQR6xitkY"
      },
      "execution_count": null,
      "outputs": []
    },
    {
      "cell_type": "markdown",
      "source": [
        "\n",
        "\n",
        "*   ndim attribute - It will gonna return the dimensions of the array.\n",
        "\n"
      ],
      "metadata": {
        "id": "YftPG8Y0ipHn"
      }
    },
    {
      "cell_type": "code",
      "source": [
        "#0D\n",
        "arr = np.array(4)\n"
      ],
      "metadata": {
        "id": "KXtMkYJkMGty"
      },
      "execution_count": null,
      "outputs": []
    },
    {
      "cell_type": "code",
      "source": [
        "arr.ndim"
      ],
      "metadata": {
        "colab": {
          "base_uri": "https://localhost:8080/"
        },
        "id": "AD0e6Eb9jUq0",
        "outputId": "9a7a6022-2acc-48d1-ff40-dde53abb5993"
      },
      "execution_count": null,
      "outputs": [
        {
          "output_type": "execute_result",
          "data": {
            "text/plain": [
              "0"
            ]
          },
          "metadata": {},
          "execution_count": 10
        }
      ]
    },
    {
      "cell_type": "code",
      "source": [
        "# 1D (One Dimensional)\n",
        "arr = np.array([1,2,3,4,5,6,7,8,9,10])"
      ],
      "metadata": {
        "id": "YAUQPJrehbvS"
      },
      "execution_count": null,
      "outputs": []
    },
    {
      "cell_type": "code",
      "source": [
        "arr.ndim"
      ],
      "metadata": {
        "colab": {
          "base_uri": "https://localhost:8080/"
        },
        "id": "Hqwi_FTNjYCC",
        "outputId": "80a5264f-0bbe-4e89-cfb2-220c5f29eaa8"
      },
      "execution_count": null,
      "outputs": [
        {
          "output_type": "execute_result",
          "data": {
            "text/plain": [
              "1"
            ]
          },
          "metadata": {},
          "execution_count": 12
        }
      ]
    },
    {
      "cell_type": "code",
      "source": [
        "# 2D (Two Dimensional)\n",
        "arr = np.array([[1,2,3,4,5],[6,7,8,9,10],[11,12,13,14,15]])"
      ],
      "metadata": {
        "id": "a2O7-DMFhboN"
      },
      "execution_count": null,
      "outputs": []
    },
    {
      "cell_type": "code",
      "source": [
        "arr.ndim"
      ],
      "metadata": {
        "colab": {
          "base_uri": "https://localhost:8080/"
        },
        "id": "5BzJZ-4rjazA",
        "outputId": "565db0ff-cd2a-46b2-db9c-2e4161a09f75"
      },
      "execution_count": null,
      "outputs": [
        {
          "output_type": "execute_result",
          "data": {
            "text/plain": [
              "2"
            ]
          },
          "metadata": {},
          "execution_count": 14
        }
      ]
    },
    {
      "cell_type": "code",
      "source": [
        " #3D (Three Dimensional)\n",
        "arr = np.array([\n",
        "                [\n",
        "                 [1,2,3,4],\n",
        "                 [5,6,7,8]\n",
        "                ],\n",
        "                [\n",
        "                 [8,7,6,5],\n",
        "                 [4,3,2,1]\n",
        "                ]\n",
        "                ])\n"
      ],
      "metadata": {
        "id": "sl8R6rkNhbkM"
      },
      "execution_count": null,
      "outputs": []
    },
    {
      "cell_type": "code",
      "source": [
        "arr.ndim"
      ],
      "metadata": {
        "colab": {
          "base_uri": "https://localhost:8080/"
        },
        "id": "mYK-uZJXhbhk",
        "outputId": "81565d9c-e6ca-4d1e-b585-c3fd258039b7"
      },
      "execution_count": null,
      "outputs": [
        {
          "output_type": "execute_result",
          "data": {
            "text/plain": [
              "3"
            ]
          },
          "metadata": {},
          "execution_count": 16
        }
      ]
    },
    {
      "cell_type": "markdown",
      "source": [
        "converting into n-dimentional array"
      ],
      "metadata": {
        "id": "muKvfEN7kMzq"
      }
    },
    {
      "cell_type": "code",
      "source": [
        "arr = np.array([1,2,3,4],ndmin=10)"
      ],
      "metadata": {
        "id": "4l2DXIX7MGq9"
      },
      "execution_count": null,
      "outputs": []
    },
    {
      "cell_type": "code",
      "source": [
        "arr.ndim"
      ],
      "metadata": {
        "colab": {
          "base_uri": "https://localhost:8080/"
        },
        "id": "tAVCslGNjfdt",
        "outputId": "a3b6ecb2-727c-4b34-877c-026ac6cced76"
      },
      "execution_count": null,
      "outputs": [
        {
          "output_type": "execute_result",
          "data": {
            "text/plain": [
              "10"
            ]
          },
          "metadata": {},
          "execution_count": 4
        }
      ]
    },
    {
      "cell_type": "code",
      "source": [
        "arr"
      ],
      "metadata": {
        "colab": {
          "base_uri": "https://localhost:8080/"
        },
        "id": "3-us-FzMjfaJ",
        "outputId": "f04ad88f-df92-454d-e9e8-77797a155c0e"
      },
      "execution_count": null,
      "outputs": [
        {
          "output_type": "execute_result",
          "data": {
            "text/plain": [
              "array([[[[[[[[[[1, 2, 3, 4]]]]]]]]]])"
            ]
          },
          "metadata": {},
          "execution_count": 19
        }
      ]
    },
    {
      "cell_type": "code",
      "source": [],
      "metadata": {
        "id": "nnJuDjSzjfWv"
      },
      "execution_count": null,
      "outputs": []
    },
    {
      "cell_type": "markdown",
      "source": [
        "\n",
        "\n",
        "* Shape - It tells about the size of the array\n",
        "\n"
      ],
      "metadata": {
        "id": "bMCfKxUblWnG"
      }
    },
    {
      "cell_type": "code",
      "source": [
        "arr = np.array([\n",
        "                [1,2,3,4,5],\n",
        "                [6,7,8,9,10],\n",
        "                [11,12,13,14,15]\n",
        "                ])\n",
        "\n",
        "#3x5 (dimentions)\n",
        "#row x column"
      ],
      "metadata": {
        "id": "KjBOCLqpjfSY"
      },
      "execution_count": null,
      "outputs": []
    },
    {
      "cell_type": "code",
      "source": [
        "arr.shape"
      ],
      "metadata": {
        "colab": {
          "base_uri": "https://localhost:8080/"
        },
        "id": "spxRPM9ejfO3",
        "outputId": "3a94e097-f532-4b62-9ab7-3c991a1d089f"
      },
      "execution_count": null,
      "outputs": [
        {
          "output_type": "execute_result",
          "data": {
            "text/plain": [
              "(3, 5)"
            ]
          },
          "metadata": {},
          "execution_count": 25
        }
      ]
    },
    {
      "cell_type": "code",
      "source": [
        "arr = np.array([\n",
        "                [\n",
        "                 [1,2,3,4],\n",
        "                 [5,6,7,8]\n",
        "                ],\n",
        "                [\n",
        "                 [8,7,6,5],\n",
        "                 [4,3,2,1]\n",
        "                ]\n",
        "                ])\n",
        "\n",
        "# no.of 2D array x row x column"
      ],
      "metadata": {
        "id": "yYxNj8JJjfL-"
      },
      "execution_count": null,
      "outputs": []
    },
    {
      "cell_type": "code",
      "source": [
        "arr.shape"
      ],
      "metadata": {
        "colab": {
          "base_uri": "https://localhost:8080/"
        },
        "id": "IYq2mRGYjfI6",
        "outputId": "cd2fc07c-4056-47e4-9024-58c936890408"
      },
      "execution_count": null,
      "outputs": [
        {
          "output_type": "execute_result",
          "data": {
            "text/plain": [
              "(2, 2, 4)"
            ]
          },
          "metadata": {},
          "execution_count": 29
        }
      ]
    },
    {
      "cell_type": "code",
      "source": [],
      "metadata": {
        "id": "aGG5ATbWjfF2"
      },
      "execution_count": null,
      "outputs": []
    },
    {
      "cell_type": "markdown",
      "source": [
        "\n",
        "\n",
        "*   dtype - It tells about the type of the data\n",
        "\n"
      ],
      "metadata": {
        "id": "EPOvLpxanFQR"
      }
    },
    {
      "cell_type": "code",
      "source": [
        "arr = np.array([\n",
        "                [1,2,3,4,5],\n",
        "                [6,7,8,9,10],\n",
        "                [11,12,13,14,15]\n",
        "                ])"
      ],
      "metadata": {
        "id": "td4KjQQSmxQQ"
      },
      "execution_count": null,
      "outputs": []
    },
    {
      "cell_type": "code",
      "source": [
        "arr.dtype"
      ],
      "metadata": {
        "colab": {
          "base_uri": "https://localhost:8080/"
        },
        "id": "sgEHpdRemxM5",
        "outputId": "a06dd30c-361a-4076-8160-68963659b9b1"
      },
      "execution_count": null,
      "outputs": [
        {
          "output_type": "execute_result",
          "data": {
            "text/plain": [
              "dtype('int64')"
            ]
          },
          "metadata": {},
          "execution_count": 38
        }
      ]
    },
    {
      "cell_type": "code",
      "source": [
        "arr = np.array([\"apple\",\"mangoes\",\"cherry\",9.9])"
      ],
      "metadata": {
        "id": "XGmNW0EnmxKg"
      },
      "execution_count": null,
      "outputs": []
    },
    {
      "cell_type": "code",
      "source": [
        "arr.dtype"
      ],
      "metadata": {
        "colab": {
          "base_uri": "https://localhost:8080/"
        },
        "id": "R2I0JMMtmxHs",
        "outputId": "67ceaac8-87f4-4e7a-ac2d-9d3f44d4eed6"
      },
      "execution_count": null,
      "outputs": [
        {
          "output_type": "execute_result",
          "data": {
            "text/plain": [
              "dtype('<U32')"
            ]
          },
          "metadata": {},
          "execution_count": 36
        }
      ]
    },
    {
      "cell_type": "code",
      "source": [],
      "metadata": {
        "id": "EcLAvjMXmxEy"
      },
      "execution_count": null,
      "outputs": []
    },
    {
      "cell_type": "markdown",
      "source": [
        "\n",
        "*   size - It tells us the total number of elements\n",
        "\n"
      ],
      "metadata": {
        "id": "zeg_WBU4oNX1"
      }
    },
    {
      "cell_type": "code",
      "source": [
        "arr = np.array([\n",
        "                [1,2,3,4,5],\n",
        "                [6,7,8,9,10],\n",
        "                [11,12,13,14,15]\n",
        "                ])"
      ],
      "metadata": {
        "id": "bG0yKmnVmxCC"
      },
      "execution_count": null,
      "outputs": []
    },
    {
      "cell_type": "code",
      "source": [
        "arr.size"
      ],
      "metadata": {
        "colab": {
          "base_uri": "https://localhost:8080/"
        },
        "id": "mCx0z6CaqDKy",
        "outputId": "d6fa9a55-f61f-42dc-f7be-ff9cd1d984eb"
      },
      "execution_count": null,
      "outputs": [
        {
          "output_type": "execute_result",
          "data": {
            "text/plain": [
              "15"
            ]
          },
          "metadata": {},
          "execution_count": 42
        }
      ]
    },
    {
      "cell_type": "code",
      "source": [
        "#np.size(ndarray,1(row)/0(column))"
      ],
      "metadata": {
        "id": "wd0i6mxXrWGS"
      },
      "execution_count": null,
      "outputs": []
    },
    {
      "cell_type": "code",
      "source": [
        "np.size(arr,0)"
      ],
      "metadata": {
        "colab": {
          "base_uri": "https://localhost:8080/"
        },
        "id": "7A8lM063n_xs",
        "outputId": "cd3d1097-4ca1-47bd-e648-53d1c3df3966"
      },
      "execution_count": null,
      "outputs": [
        {
          "output_type": "execute_result",
          "data": {
            "text/plain": [
              "3"
            ]
          },
          "metadata": {},
          "execution_count": 46
        }
      ]
    },
    {
      "cell_type": "code",
      "source": [
        "np.size(arr,1)"
      ],
      "metadata": {
        "colab": {
          "base_uri": "https://localhost:8080/"
        },
        "id": "JhRb-gj8n_s1",
        "outputId": "43fe2e81-9b3b-42d8-a3a4-806746c5f043"
      },
      "execution_count": null,
      "outputs": [
        {
          "output_type": "execute_result",
          "data": {
            "text/plain": [
              "5"
            ]
          },
          "metadata": {},
          "execution_count": 47
        }
      ]
    },
    {
      "cell_type": "code",
      "source": [],
      "metadata": {
        "id": "TKiPzmDHn_p5"
      },
      "execution_count": null,
      "outputs": []
    },
    {
      "cell_type": "markdown",
      "source": [
        "\n",
        "\n",
        " * Itemsize - It tells us about the length of the single element in bytes\n"
      ],
      "metadata": {
        "id": "cDJNCgkire0O"
      }
    },
    {
      "cell_type": "code",
      "source": [
        "arr = np.array([\n",
        "                [1,2,3,4,5],\n",
        "                [6,7,8,9,10],\n",
        "                [11,12,13,14,15]\n",
        "                ])"
      ],
      "metadata": {
        "id": "jPKTNBbYreP8"
      },
      "execution_count": null,
      "outputs": []
    },
    {
      "cell_type": "code",
      "source": [
        "arr.itemsize"
      ],
      "metadata": {
        "colab": {
          "base_uri": "https://localhost:8080/"
        },
        "id": "UECQT1dcreMx",
        "outputId": "25c9d9e0-ce21-4d35-d544-1588868a8319"
      },
      "execution_count": null,
      "outputs": [
        {
          "output_type": "execute_result",
          "data": {
            "text/plain": [
              "8"
            ]
          },
          "metadata": {},
          "execution_count": 49
        }
      ]
    },
    {
      "cell_type": "markdown",
      "source": [
        "\n",
        "\n",
        "*  nbytes - returns total bytes"
      ],
      "metadata": {
        "id": "FgfWSxEssFNO"
      }
    },
    {
      "cell_type": "code",
      "source": [
        "arr.nbytes"
      ],
      "metadata": {
        "colab": {
          "base_uri": "https://localhost:8080/"
        },
        "id": "zZ5DY6yzreJN",
        "outputId": "bb422b0c-dd59-4c4b-c64f-bb583c58c649"
      },
      "execution_count": null,
      "outputs": [
        {
          "output_type": "execute_result",
          "data": {
            "text/plain": [
              "120"
            ]
          },
          "metadata": {},
          "execution_count": 50
        }
      ]
    },
    {
      "cell_type": "code",
      "source": [
        "arr = np.array([4])"
      ],
      "metadata": {
        "id": "8fHXMETTreF9"
      },
      "execution_count": null,
      "outputs": []
    },
    {
      "cell_type": "code",
      "source": [
        "arr.itemsize"
      ],
      "metadata": {
        "colab": {
          "base_uri": "https://localhost:8080/"
        },
        "id": "KE3YxpnmreDL",
        "outputId": "29c4eeaa-dbd2-4caa-aded-0f17038734a7"
      },
      "execution_count": null,
      "outputs": [
        {
          "output_type": "execute_result",
          "data": {
            "text/plain": [
              "8"
            ]
          },
          "metadata": {},
          "execution_count": 52
        }
      ]
    },
    {
      "cell_type": "code",
      "source": [
        "arr.nbytes"
      ],
      "metadata": {
        "colab": {
          "base_uri": "https://localhost:8080/"
        },
        "id": "6lV-cUbxreAm",
        "outputId": "9a373298-3fe1-433e-c99a-166544829bd6"
      },
      "execution_count": null,
      "outputs": [
        {
          "output_type": "execute_result",
          "data": {
            "text/plain": [
              "8"
            ]
          },
          "metadata": {},
          "execution_count": 53
        }
      ]
    }
  ]
}