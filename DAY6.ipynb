{
  "nbformat": 4,
  "nbformat_minor": 0,
  "metadata": {
    "colab": {
      "provenance": [],
      "toc_visible": true,
      "authorship_tag": "ABX9TyNlL/ZMq7lfYICRkBqhmEXo",
      "include_colab_link": true
    },
    "kernelspec": {
      "name": "python3",
      "display_name": "Python 3"
    },
    "language_info": {
      "name": "python"
    }
  },
  "cells": [
    {
      "cell_type": "markdown",
      "metadata": {
        "id": "view-in-github",
        "colab_type": "text"
      },
      "source": [
        "<a href=\"https://colab.research.google.com/github/OmkarSolat/Data-Science-in-DevTown/blob/main/DAY6.ipynb\" target=\"_parent\"><img src=\"https://colab.research.google.com/assets/colab-badge.svg\" alt=\"Open In Colab\"/></a>"
      ]
    },
    {
      "cell_type": "markdown",
      "source": [
        "# LOOPS\n"
      ],
      "metadata": {
        "id": "_ifJ7vRExoIZ"
      }
    },
    {
      "cell_type": "code",
      "source": [
        "for i in range(0,10):\n",
        " print(i)"
      ],
      "metadata": {
        "colab": {
          "base_uri": "https://localhost:8080/"
        },
        "id": "UWSa7d_DuUP4",
        "outputId": "d790c429-63a5-4cf9-dfaf-3633ae080a79"
      },
      "execution_count": null,
      "outputs": [
        {
          "output_type": "stream",
          "name": "stdout",
          "text": [
            "0\n",
            "1\n",
            "2\n",
            "3\n",
            "4\n",
            "5\n",
            "6\n",
            "7\n",
            "8\n",
            "9\n"
          ]
        }
      ]
    },
    {
      "cell_type": "code",
      "source": [
        "count=0\n",
        "while count<10:\n",
        " count=count+1\n",
        " print(\"hello!!!\")"
      ],
      "metadata": {
        "colab": {
          "base_uri": "https://localhost:8080/"
        },
        "id": "lKI_SzCLuUNd",
        "outputId": "43d0e95c-bca5-4728-c8a5-dbf0f509701d"
      },
      "execution_count": null,
      "outputs": [
        {
          "output_type": "stream",
          "name": "stdout",
          "text": [
            "hello!!!\n",
            "hello!!!\n",
            "hello!!!\n",
            "hello!!!\n",
            "hello!!!\n",
            "hello!!!\n",
            "hello!!!\n",
            "hello!!!\n",
            "hello!!!\n",
            "hello!!!\n"
          ]
        }
      ]
    },
    {
      "cell_type": "code",
      "source": [
        "count = 15\n",
        "while count >10:\n",
        "  count -= 1\n",
        "  #count = count - 1\n",
        "  print(\"What's the output?\")\n",
        "else:\n",
        "  print(\"This is else\")"
      ],
      "metadata": {
        "colab": {
          "base_uri": "https://localhost:8080/"
        },
        "id": "d3yPV-QmuUKj",
        "outputId": "7ef7d546-e611-4962-aaef-d41528891266"
      },
      "execution_count": null,
      "outputs": [
        {
          "output_type": "stream",
          "name": "stdout",
          "text": [
            "What's the output?\n",
            "What's the output?\n",
            "What's the output?\n",
            "What's the output?\n",
            "What's the output?\n",
            "This is else\n"
          ]
        }
      ]
    },
    {
      "cell_type": "code",
      "source": [
        "#hardwork\n",
        "\n",
        "arr = []\n",
        "a = int(input())\n",
        "b = int(input())\n",
        "c = int(input())\n",
        "d = int(input())\n",
        "e = int(input())\n",
        "\n",
        "arr.append(a)\n",
        "arr.append(b)\n",
        "arr.append(c)\n",
        "arr.append(d)\n",
        "arr.append(e)\n",
        "\n",
        "arr"
      ],
      "metadata": {
        "colab": {
          "base_uri": "https://localhost:8080/"
        },
        "id": "kxG0UIgAuUH3",
        "outputId": "0dcaf49e-2177-4e7d-ab65-faf4033be267"
      },
      "execution_count": null,
      "outputs": [
        {
          "name": "stdout",
          "output_type": "stream",
          "text": [
            "18\n",
            "7\n",
            "45\n",
            "1\n",
            "33\n"
          ]
        },
        {
          "output_type": "execute_result",
          "data": {
            "text/plain": [
              "[18, 7, 45, 1, 33]"
            ]
          },
          "metadata": {},
          "execution_count": 7
        }
      ]
    },
    {
      "cell_type": "code",
      "source": [
        "#smartwork\n",
        "\n",
        "arr=[]\n",
        "for i in range(5):\n",
        "  arr.append(int(input()))\n",
        "print(arr)"
      ],
      "metadata": {
        "colab": {
          "base_uri": "https://localhost:8080/"
        },
        "id": "tjq2Qn-8uUFD",
        "outputId": "c03dc57a-b45d-41ba-ae4e-09dc9ab6d6a4"
      },
      "execution_count": null,
      "outputs": [
        {
          "output_type": "stream",
          "name": "stdout",
          "text": [
            "18\n",
            "45\n",
            "7\n",
            "1\n",
            "33\n",
            "[18, 45, 7, 1, 33]\n"
          ]
        }
      ]
    },
    {
      "cell_type": "code",
      "source": [
        "#smartest work\n",
        "# List comprehension\n",
        "\n",
        "arr = [int(input()) for i in range(5)]\n",
        "arr"
      ],
      "metadata": {
        "colab": {
          "base_uri": "https://localhost:8080/"
        },
        "id": "ZPZfyA3VuUB7",
        "outputId": "6f3fafb2-aef4-4554-8795-2cdc48a688da"
      },
      "execution_count": null,
      "outputs": [
        {
          "name": "stdout",
          "output_type": "stream",
          "text": [
            "18\n",
            "45\n",
            "7\n",
            "1\n",
            "33\n"
          ]
        },
        {
          "output_type": "execute_result",
          "data": {
            "text/plain": [
              "[18, 45, 7, 1, 33]"
            ]
          },
          "metadata": {},
          "execution_count": 14
        }
      ]
    },
    {
      "cell_type": "code",
      "source": [
        "brr = [i for i in range(0,10) if i%2==0]\n",
        "brr"
      ],
      "metadata": {
        "colab": {
          "base_uri": "https://localhost:8080/"
        },
        "id": "r5D8UU-RuT_Z",
        "outputId": "815d16fc-01c9-4159-9dd8-503762990c5f"
      },
      "execution_count": null,
      "outputs": [
        {
          "output_type": "execute_result",
          "data": {
            "text/plain": [
              "[0, 2, 4, 6, 8]"
            ]
          },
          "metadata": {},
          "execution_count": 15
        }
      ]
    },
    {
      "cell_type": "code",
      "source": [
        "fruits = [\"apples\",\"mangoes\",\"grapes\",\"orange\"]\n",
        "crr=[i for i in fruits if i!=\"mangoes\"]\n",
        "crr"
      ],
      "metadata": {
        "colab": {
          "base_uri": "https://localhost:8080/"
        },
        "id": "jjgKYJtnuT8j",
        "outputId": "19538119-b015-4b53-9597-8c5cc6de91e4"
      },
      "execution_count": null,
      "outputs": [
        {
          "output_type": "execute_result",
          "data": {
            "text/plain": [
              "['apples', 'grapes', 'orange']"
            ]
          },
          "metadata": {},
          "execution_count": 18
        }
      ]
    },
    {
      "cell_type": "code",
      "source": [
        "for i in range(10,0,-1):\n",
        "  print(i)"
      ],
      "metadata": {
        "colab": {
          "base_uri": "https://localhost:8080/"
        },
        "id": "-pbiOZMouT58",
        "outputId": "d0aa0374-35c8-4511-b95f-77ca8c8d9997"
      },
      "execution_count": null,
      "outputs": [
        {
          "output_type": "stream",
          "name": "stdout",
          "text": [
            "10\n",
            "9\n",
            "8\n",
            "7\n",
            "6\n",
            "5\n",
            "4\n",
            "3\n",
            "2\n",
            "1\n"
          ]
        }
      ]
    },
    {
      "cell_type": "code",
      "source": [],
      "metadata": {
        "id": "1zA2EOOOFL1h"
      },
      "execution_count": null,
      "outputs": []
    },
    {
      "cell_type": "code",
      "source": [],
      "metadata": {
        "id": "5PhLAySCFLhQ"
      },
      "execution_count": null,
      "outputs": []
    },
    {
      "cell_type": "markdown",
      "source": [
        "# NESTED LOOPS\n"
      ],
      "metadata": {
        "id": "-i-30RAACJvR"
      }
    },
    {
      "cell_type": "code",
      "source": [
        "var=5000\n",
        "if var>1000:\n",
        "  if var<10000:\n",
        "    print(\"yes,it is nested\")\n",
        "  print(\"no,it is not nested\")\n",
        "else:\n",
        "  print(\"I am done it!!!\")"
      ],
      "metadata": {
        "colab": {
          "base_uri": "https://localhost:8080/"
        },
        "id": "Q3VvRIjvuT20",
        "outputId": "725fd3a0-42b3-413b-a6de-89942d058b30"
      },
      "execution_count": null,
      "outputs": [
        {
          "output_type": "stream",
          "name": "stdout",
          "text": [
            "yes,it is nested\n",
            "no,it is not nested\n"
          ]
        }
      ]
    },
    {
      "cell_type": "code",
      "source": [
        "variable = 5000\n",
        "if variable > 9000:\n",
        "  if variable < 10000:\n",
        "    if variable == 5000:\n",
        "      print(\"This is the 3rd time you are visiting me\")\n",
        "    print(\"Yes, it is the nested\")\n",
        "  print(\"No, it is not nested\")\n",
        "else:\n",
        "  print(\"I am done it!!!\")"
      ],
      "metadata": {
        "colab": {
          "base_uri": "https://localhost:8080/"
        },
        "id": "GFMuwIG9uTz5",
        "outputId": "9ea69dfa-12d3-47b2-83d7-6435906be26e"
      },
      "execution_count": null,
      "outputs": [
        {
          "output_type": "stream",
          "name": "stdout",
          "text": [
            "I am done it!!!\n"
          ]
        }
      ]
    },
    {
      "cell_type": "code",
      "source": [
        "for i in range(5):\n",
        "  for j in range(5):\n",
        "    print(j)\n"
      ],
      "metadata": {
        "colab": {
          "base_uri": "https://localhost:8080/"
        },
        "id": "01F4aKq3uTxC",
        "outputId": "6011a40a-1e96-421b-c87c-6e833b55099c"
      },
      "execution_count": null,
      "outputs": [
        {
          "output_type": "stream",
          "name": "stdout",
          "text": [
            "0\n",
            "1\n",
            "2\n",
            "3\n",
            "4\n",
            "0\n",
            "1\n",
            "2\n",
            "3\n",
            "4\n",
            "0\n",
            "1\n",
            "2\n",
            "3\n",
            "4\n",
            "0\n",
            "1\n",
            "2\n",
            "3\n",
            "4\n",
            "0\n",
            "1\n",
            "2\n",
            "3\n",
            "4\n"
          ]
        }
      ]
    },
    {
      "cell_type": "code",
      "source": [
        "fruits = [\"apples\", \"mangoes\", \"kiwi\"]\n",
        "quantity = [3,1,1]\n",
        "\n",
        "final={}\n",
        "\n",
        "for i in fruits :\n",
        "  for j in quantity:\n",
        "    final[i]=j\n",
        "\n",
        "print(final)"
      ],
      "metadata": {
        "colab": {
          "base_uri": "https://localhost:8080/"
        },
        "id": "RvMO0QbZuTlw",
        "outputId": "86e0cc8c-2c5c-4dd0-c838-f08b4e594fc6"
      },
      "execution_count": null,
      "outputs": [
        {
          "output_type": "stream",
          "name": "stdout",
          "text": [
            "{'apples': 1, 'mangoes': 1, 'kiwi': 1}\n"
          ]
        }
      ]
    },
    {
      "cell_type": "code",
      "source": [
        "fruits = [\"apples\", \"mangoes\", \"kiwi\"]\n",
        "quantity = [3,1,1]\n",
        "\n",
        "zip1=zip(fruits,quantity)\n",
        "final={}\n",
        "\n",
        "for i,j in zip(fruits,quantity):\n",
        "  final[i]=j\n",
        "\n",
        "final"
      ],
      "metadata": {
        "colab": {
          "base_uri": "https://localhost:8080/"
        },
        "id": "Q6Y2S2_9uTip",
        "outputId": "872eb334-4c0e-4012-aeed-c5fbd4149834"
      },
      "execution_count": null,
      "outputs": [
        {
          "output_type": "execute_result",
          "data": {
            "text/plain": [
              "{'apples': 3, 'mangoes': 1, 'kiwi': 1}"
            ]
          },
          "metadata": {},
          "execution_count": 19
        }
      ]
    },
    {
      "cell_type": "code",
      "source": [],
      "metadata": {
        "id": "G9YGTD34uTfN"
      },
      "execution_count": null,
      "outputs": []
    },
    {
      "cell_type": "code",
      "execution_count": null,
      "metadata": {
        "id": "V3s13yH-uO_I"
      },
      "outputs": [],
      "source": []
    },
    {
      "cell_type": "markdown",
      "source": [
        "# break,continue,pass\n"
      ],
      "metadata": {
        "id": "rGIe1wc8mdq2"
      }
    },
    {
      "cell_type": "code",
      "source": [],
      "metadata": {
        "id": "paRlqB6emmuu"
      },
      "execution_count": null,
      "outputs": []
    },
    {
      "cell_type": "code",
      "source": [
        "for i in range(10):\n",
        "  if i == 8:\n",
        "    break\n",
        "  print(i)"
      ],
      "metadata": {
        "colab": {
          "base_uri": "https://localhost:8080/"
        },
        "id": "V0p3UH4Emn6V",
        "outputId": "b4216832-fa66-4310-ac5b-80e971208861"
      },
      "execution_count": null,
      "outputs": [
        {
          "output_type": "stream",
          "name": "stdout",
          "text": [
            "0\n",
            "1\n",
            "2\n",
            "3\n",
            "4\n",
            "5\n",
            "6\n",
            "7\n"
          ]
        }
      ]
    },
    {
      "cell_type": "code",
      "source": [
        "for i in range(10):\n",
        "  if i == 8:\n",
        "    continue\n",
        "  print(i)"
      ],
      "metadata": {
        "colab": {
          "base_uri": "https://localhost:8080/"
        },
        "id": "7xx5-Z7Wmn20",
        "outputId": "1469fb61-f980-4cf2-9440-7732ad677307"
      },
      "execution_count": null,
      "outputs": [
        {
          "output_type": "stream",
          "name": "stdout",
          "text": [
            "0\n",
            "1\n",
            "2\n",
            "3\n",
            "4\n",
            "5\n",
            "6\n",
            "7\n",
            "9\n"
          ]
        }
      ]
    },
    {
      "cell_type": "code",
      "source": [
        "for i in range(10):\n",
        "  if i == 8:\n",
        "    pass\n",
        "  print(i)"
      ],
      "metadata": {
        "colab": {
          "base_uri": "https://localhost:8080/"
        },
        "id": "IeVGqqAVmnzy",
        "outputId": "a9d023b6-4e2f-4689-990d-4478f31dc5b3"
      },
      "execution_count": null,
      "outputs": [
        {
          "output_type": "stream",
          "name": "stdout",
          "text": [
            "0\n",
            "1\n",
            "2\n",
            "3\n",
            "4\n",
            "5\n",
            "6\n",
            "7\n",
            "8\n",
            "9\n"
          ]
        }
      ]
    },
    {
      "cell_type": "code",
      "source": [],
      "metadata": {
        "id": "lXW4CIH4mnw8"
      },
      "execution_count": null,
      "outputs": []
    },
    {
      "cell_type": "code",
      "source": [],
      "metadata": {
        "id": "1iySZ-_Wmnt0"
      },
      "execution_count": null,
      "outputs": []
    },
    {
      "cell_type": "code",
      "source": [],
      "metadata": {
        "id": "lm2w73rdmnqr"
      },
      "execution_count": null,
      "outputs": []
    },
    {
      "cell_type": "code",
      "source": [],
      "metadata": {
        "id": "gDNHB_JMmnn9"
      },
      "execution_count": null,
      "outputs": []
    },
    {
      "cell_type": "code",
      "source": [],
      "metadata": {
        "id": "HwO6xsOrmnk6"
      },
      "execution_count": null,
      "outputs": []
    },
    {
      "cell_type": "code",
      "source": [],
      "metadata": {
        "id": "99ZxhsHbmniD"
      },
      "execution_count": null,
      "outputs": []
    },
    {
      "cell_type": "code",
      "source": [],
      "metadata": {
        "id": "UosEgeZ5mnfO"
      },
      "execution_count": null,
      "outputs": []
    },
    {
      "cell_type": "code",
      "source": [],
      "metadata": {
        "id": "7Fi8uDKMmnX0"
      },
      "execution_count": null,
      "outputs": []
    }
  ]
}