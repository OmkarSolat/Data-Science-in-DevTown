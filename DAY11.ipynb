{
  "nbformat": 4,
  "nbformat_minor": 0,
  "metadata": {
    "colab": {
      "provenance": [],
      "toc_visible": true,
      "authorship_tag": "ABX9TyOr69RwxY3TVqDjQfcwms6a",
      "include_colab_link": true
    },
    "kernelspec": {
      "name": "python3",
      "display_name": "Python 3"
    },
    "language_info": {
      "name": "python"
    }
  },
  "cells": [
    {
      "cell_type": "markdown",
      "metadata": {
        "id": "view-in-github",
        "colab_type": "text"
      },
      "source": [
        "<a href=\"https://colab.research.google.com/github/OmkarSolat/Data-Science-in-DevTown/blob/main/DAY11.ipynb\" target=\"_parent\"><img src=\"https://colab.research.google.com/assets/colab-badge.svg\" alt=\"Open In Colab\"/></a>"
      ]
    },
    {
      "cell_type": "markdown",
      "source": [
        "# Constructors"
      ],
      "metadata": {
        "id": "ugxskux-6-8U"
      }
    },
    {
      "cell_type": "code",
      "source": [
        "class Animal:\n",
        "  #a = 10       # class variables (Global Variable)\n",
        "  def __init__(self, animal, sound, activity):       #constructor\n",
        "    self.animal = animal        # Instance variables (Local variable)\n",
        "    self.sound = sound\n",
        "    self.activity = activity\n",
        "    # body of the constructor\n",
        "\n",
        "  def speak1(self):\n",
        "    print(f\"The {self.animal} makes the sound {self.sound}\")\n",
        "\n",
        "  def speak2(self):\n",
        "    print(f\"The {self.animal} has an activity {self.activity}\")\n"
      ],
      "metadata": {
        "id": "LTT7Mur57B8X"
      },
      "execution_count": null,
      "outputs": []
    },
    {
      "cell_type": "code",
      "source": [
        "obj = Animal(\"Dog\", \"Bhaw Bhaw\", \"Barks\")"
      ],
      "metadata": {
        "id": "GNjlqKQr7B1X"
      },
      "execution_count": null,
      "outputs": []
    },
    {
      "cell_type": "code",
      "source": [
        "obj.speak1()"
      ],
      "metadata": {
        "colab": {
          "base_uri": "https://localhost:8080/"
        },
        "id": "zdN99cp57Bx8",
        "outputId": "e95f0e9f-d274-40da-b511-3c2cb9a34f5e"
      },
      "execution_count": null,
      "outputs": [
        {
          "output_type": "stream",
          "name": "stdout",
          "text": [
            "The Dog makes the sound Bhaw Bhaw\n"
          ]
        }
      ]
    },
    {
      "cell_type": "code",
      "source": [
        "obj.speak2()"
      ],
      "metadata": {
        "colab": {
          "base_uri": "https://localhost:8080/"
        },
        "id": "P5utejOn7BkL",
        "outputId": "9d17b65f-34d4-4005-ddc1-0c611542c3f8"
      },
      "execution_count": null,
      "outputs": [
        {
          "output_type": "stream",
          "name": "stdout",
          "text": [
            "The Dog has an activity Barks\n"
          ]
        }
      ]
    },
    {
      "cell_type": "code",
      "source": [
        "class Electronics:\n",
        "  def __init__(self, mobile, laptop):\n",
        "    self.mobile = mobile\n",
        "    self.laptop = laptop\n",
        "    print(f\"The mobile is {self.mobile} and the laptop is {self.laptop}\")\n",
        "\n",
        "  def __init__(self, speaker, microphone):    #method overriding\n",
        "    self.speaker = speaker\n",
        "    self.microphone = microphone\n",
        "    print(f\"The speaker is {self.speaker} and the microphone is {self.microphone}\")"
      ],
      "metadata": {
        "id": "HYKgeMNB7Bgz"
      },
      "execution_count": null,
      "outputs": []
    },
    {
      "cell_type": "code",
      "source": [
        "obj=Electronics(\"iphone\",\"Mac\")"
      ],
      "metadata": {
        "colab": {
          "base_uri": "https://localhost:8080/"
        },
        "id": "ti64O_6E7BeI",
        "outputId": "9c248a88-2b41-4dfc-b636-5cb976e402f9"
      },
      "execution_count": null,
      "outputs": [
        {
          "output_type": "stream",
          "name": "stdout",
          "text": [
            "The speaker is iphone and the microphone is Mac\n"
          ]
        }
      ]
    },
    {
      "cell_type": "code",
      "source": [
        "class xyz:\n",
        "  a = 0\n",
        "  def __init__(self):\n",
        "    #self.a = a\n",
        "    print(self.a)\n",
        "    self.a += 1\n",
        "\n",
        "  def abcd(self,a):\n",
        "    print(self.a)"
      ],
      "metadata": {
        "id": "oTHv1ELZ7Baz"
      },
      "execution_count": null,
      "outputs": []
    },
    {
      "cell_type": "code",
      "source": [
        "obj1 = xyz()"
      ],
      "metadata": {
        "colab": {
          "base_uri": "https://localhost:8080/"
        },
        "id": "DE3vMCm07BXp",
        "outputId": "232f6925-fe84-432a-99b0-b70dcd67701c"
      },
      "execution_count": null,
      "outputs": [
        {
          "output_type": "stream",
          "name": "stdout",
          "text": [
            "0\n"
          ]
        }
      ]
    },
    {
      "cell_type": "code",
      "source": [
        "# Quiz\n",
        "\n",
        "class Employee:\n",
        "  a = 0\n",
        "  def __init__(self,fname, lname, salary):\n",
        "    self.fname = fname\n",
        "    self.lname = lname\n",
        "    self.salary = salary\n",
        "    self.a = self.a + 1\n",
        "    print(self.a)"
      ],
      "metadata": {
        "id": "xpRHdNPXJN9Q"
      },
      "execution_count": null,
      "outputs": []
    },
    {
      "cell_type": "code",
      "source": [
        "obj = Employee(\"Ram\",\"Mohan\",45000)\n",
        "obj1 = Employee(\"Ravi\",\"Chandra\",10000)\n",
        "obj2 = Employee(\"Steve\",\"Rogers\",1000)"
      ],
      "metadata": {
        "colab": {
          "base_uri": "https://localhost:8080/"
        },
        "id": "F0KTTQGdJN5s",
        "outputId": "6d87844d-0afc-4ba7-bc87-b8c4b27c56b9"
      },
      "execution_count": null,
      "outputs": [
        {
          "output_type": "stream",
          "name": "stdout",
          "text": [
            "1\n",
            "1\n",
            "1\n"
          ]
        }
      ]
    },
    {
      "cell_type": "code",
      "source": [
        "# Quiz\n",
        "\n",
        "class Student:\n",
        "  a = 4\n",
        "\n",
        "  def __init__(self,num):\n",
        "    self.num = num\n",
        "\n",
        "  def fun1(self):\n",
        "    print(self.num*self.a)"
      ],
      "metadata": {
        "id": "Tc77GrDlJN2Y"
      },
      "execution_count": null,
      "outputs": []
    },
    {
      "cell_type": "code",
      "source": [
        "obj=Student(5)"
      ],
      "metadata": {
        "id": "Y1LuXuzWJNz0"
      },
      "execution_count": null,
      "outputs": []
    },
    {
      "cell_type": "code",
      "source": [
        "obj.fun1()"
      ],
      "metadata": {
        "colab": {
          "base_uri": "https://localhost:8080/"
        },
        "id": "7lET8_BmJNxB",
        "outputId": "91c76268-9457-46a7-a74d-00ffa1674c98"
      },
      "execution_count": null,
      "outputs": [
        {
          "output_type": "stream",
          "name": "stdout",
          "text": [
            "20\n"
          ]
        }
      ]
    },
    {
      "cell_type": "markdown",
      "source": [
        "#Destructors\n"
      ],
      "metadata": {
        "id": "Xh2JQM1hMlSQ"
      }
    },
    {
      "cell_type": "code",
      "source": [
        "class Animal:\n",
        "  a = 10\n",
        "  def __init__(self):\n",
        "    print(\"Over here, the constructor has initialized\")\n",
        "\n",
        "  def __del__(self):\n",
        "    print(\"Over here, the destructor has initialized\")"
      ],
      "metadata": {
        "id": "p-j0lM9ZJNub"
      },
      "execution_count": null,
      "outputs": []
    },
    {
      "cell_type": "code",
      "source": [
        "obj = Animal()"
      ],
      "metadata": {
        "colab": {
          "base_uri": "https://localhost:8080/"
        },
        "id": "pGtkc6fhJNro",
        "outputId": "edc66588-bcaf-4e34-c180-27ce3fb8dcb3"
      },
      "execution_count": null,
      "outputs": [
        {
          "output_type": "stream",
          "name": "stdout",
          "text": [
            "Over here, the constructor has initialized\n",
            "Over here, the destructor has initialized\n"
          ]
        }
      ]
    },
    {
      "cell_type": "code",
      "source": [
        "obj"
      ],
      "metadata": {
        "colab": {
          "base_uri": "https://localhost:8080/"
        },
        "id": "i25nPrAvJNo-",
        "outputId": "85bd5c2b-6c1d-486e-c502-6cfe2bdc46e1"
      },
      "execution_count": null,
      "outputs": [
        {
          "output_type": "execute_result",
          "data": {
            "text/plain": [
              "<__main__.Animal at 0x7d5242c54e20>"
            ]
          },
          "metadata": {},
          "execution_count": 80
        }
      ]
    },
    {
      "cell_type": "code",
      "source": [
        "obj.a"
      ],
      "metadata": {
        "colab": {
          "base_uri": "https://localhost:8080/"
        },
        "id": "nIox_BvSN2Nd",
        "outputId": "c47486e3-306f-4b09-b11f-fdd424f756f4"
      },
      "execution_count": null,
      "outputs": [
        {
          "output_type": "execute_result",
          "data": {
            "text/plain": [
              "10"
            ]
          },
          "metadata": {},
          "execution_count": 81
        }
      ]
    },
    {
      "cell_type": "code",
      "source": [
        "del obj"
      ],
      "metadata": {
        "id": "IpHAEauHN2J7"
      },
      "execution_count": null,
      "outputs": []
    },
    {
      "cell_type": "code",
      "source": [
        "obj"
      ],
      "metadata": {
        "colab": {
          "base_uri": "https://localhost:8080/",
          "height": 175
        },
        "id": "FmcN_qIGN2HG",
        "outputId": "fdaf0cd9-2a13-4d87-bacf-2076b7b965a2"
      },
      "execution_count": null,
      "outputs": [
        {
          "output_type": "error",
          "ename": "NameError",
          "evalue": "ignored",
          "traceback": [
            "\u001b[0;31m---------------------------------------------------------------------------\u001b[0m",
            "\u001b[0;31mNameError\u001b[0m                                 Traceback (most recent call last)",
            "\u001b[0;32m<ipython-input-83-c88944e91e53>\u001b[0m in \u001b[0;36m<cell line: 1>\u001b[0;34m()\u001b[0m\n\u001b[0;32m----> 1\u001b[0;31m \u001b[0mobj\u001b[0m\u001b[0;34m\u001b[0m\u001b[0;34m\u001b[0m\u001b[0m\n\u001b[0m",
            "\u001b[0;31mNameError\u001b[0m: name 'obj' is not defined"
          ]
        }
      ]
    },
    {
      "cell_type": "code",
      "source": [],
      "metadata": {
        "id": "GdOcK3fgN2Em"
      },
      "execution_count": null,
      "outputs": []
    },
    {
      "cell_type": "markdown",
      "source": [
        "# Data abstraction & Encapsulation"
      ],
      "metadata": {
        "id": "rpK0lHwCQQWX"
      }
    },
    {
      "cell_type": "code",
      "source": [
        "class Animal:\n",
        "  a=10\n",
        "  def __init__(self):\n",
        "    print(\"Constructor initializes!!!\")"
      ],
      "metadata": {
        "id": "Lrb-MCtCN2B8"
      },
      "execution_count": null,
      "outputs": []
    },
    {
      "cell_type": "code",
      "source": [
        "obj = Animal()"
      ],
      "metadata": {
        "id": "fVOhWrIoN1_H",
        "colab": {
          "base_uri": "https://localhost:8080/"
        },
        "outputId": "be4957c7-140b-4f90-fbc5-ea6da8371087"
      },
      "execution_count": null,
      "outputs": [
        {
          "output_type": "stream",
          "name": "stdout",
          "text": [
            "Constructor initializes!!!\n"
          ]
        }
      ]
    },
    {
      "cell_type": "code",
      "source": [
        "obj.a"
      ],
      "metadata": {
        "colab": {
          "base_uri": "https://localhost:8080/"
        },
        "id": "HinKybmLkECd",
        "outputId": "57259160-11dd-46ce-e8c6-870ac73440e6"
      },
      "execution_count": null,
      "outputs": [
        {
          "output_type": "execute_result",
          "data": {
            "text/plain": [
              "10"
            ]
          },
          "metadata": {},
          "execution_count": 3
        }
      ]
    },
    {
      "cell_type": "code",
      "source": [
        "class Animal:\n",
        "  __a=10\n",
        "  def __init__(self):\n",
        "    print(\"Constructor initializes!!!\")"
      ],
      "metadata": {
        "id": "DN_g-StckD-8"
      },
      "execution_count": null,
      "outputs": []
    },
    {
      "cell_type": "code",
      "source": [
        "obj = Animal()"
      ],
      "metadata": {
        "colab": {
          "base_uri": "https://localhost:8080/"
        },
        "id": "3u9klrewkD8c",
        "outputId": "0bf51801-c3fa-424e-f802-733e877a9cc4"
      },
      "execution_count": null,
      "outputs": [
        {
          "output_type": "stream",
          "name": "stdout",
          "text": [
            "Constructor initializes!!!\n"
          ]
        }
      ]
    },
    {
      "cell_type": "code",
      "source": [
        "obj.__a    #Data abstraction -> i.e.hidden a"
      ],
      "metadata": {
        "colab": {
          "base_uri": "https://localhost:8080/",
          "height": 175
        },
        "id": "iZQ9FqBRk0ln",
        "outputId": "89d8b816-ba7b-4752-cb97-a786f34c500c"
      },
      "execution_count": null,
      "outputs": [
        {
          "output_type": "error",
          "ename": "AttributeError",
          "evalue": "ignored",
          "traceback": [
            "\u001b[0;31m---------------------------------------------------------------------------\u001b[0m",
            "\u001b[0;31mAttributeError\u001b[0m                            Traceback (most recent call last)",
            "\u001b[0;32m<ipython-input-6-12ce154418bb>\u001b[0m in \u001b[0;36m<cell line: 1>\u001b[0;34m()\u001b[0m\n\u001b[0;32m----> 1\u001b[0;31m \u001b[0mobj\u001b[0m\u001b[0;34m.\u001b[0m\u001b[0m__a\u001b[0m\u001b[0;34m\u001b[0m\u001b[0;34m\u001b[0m\u001b[0m\n\u001b[0m",
            "\u001b[0;31mAttributeError\u001b[0m: 'Animal' object has no attribute '__a'"
          ]
        }
      ]
    },
    {
      "cell_type": "code",
      "source": [
        "class Animal:\n",
        "  __a = 10\n",
        "  def speak(self):\n",
        "    print(self)\n",
        "    print(f\"The value of __a is {self.__a + 1}\")            #{Animal.__a+1}"
      ],
      "metadata": {
        "id": "I9KpkndBk0iM"
      },
      "execution_count": null,
      "outputs": []
    },
    {
      "cell_type": "code",
      "source": [
        "obj = Animal()"
      ],
      "metadata": {
        "id": "YGPreIkTk0fO"
      },
      "execution_count": null,
      "outputs": []
    },
    {
      "cell_type": "code",
      "source": [
        "obj.speak()"
      ],
      "metadata": {
        "colab": {
          "base_uri": "https://localhost:8080/"
        },
        "id": "O5h-K305k0cY",
        "outputId": "5d91bb43-ce92-4a90-a7e9-2f782be63d18"
      },
      "execution_count": null,
      "outputs": [
        {
          "output_type": "stream",
          "name": "stdout",
          "text": [
            "<__main__.Animal object at 0x7883253e7a00>\n",
            "The value of __a is 11\n"
          ]
        }
      ]
    },
    {
      "cell_type": "code",
      "source": [],
      "metadata": {
        "id": "cwrhp-Abk0Zc"
      },
      "execution_count": null,
      "outputs": []
    }
  ]
}