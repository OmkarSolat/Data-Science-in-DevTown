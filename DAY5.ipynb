{
  "nbformat": 4,
  "nbformat_minor": 0,
  "metadata": {
    "colab": {
      "provenance": [],
      "toc_visible": true,
      "authorship_tag": "ABX9TyPPihOnh4tqAeETn2bh6/Jc",
      "include_colab_link": true
    },
    "kernelspec": {
      "name": "python3",
      "display_name": "Python 3"
    },
    "language_info": {
      "name": "python"
    }
  },
  "cells": [
    {
      "cell_type": "markdown",
      "metadata": {
        "id": "view-in-github",
        "colab_type": "text"
      },
      "source": [
        "<a href=\"https://colab.research.google.com/github/OmkarSolat/Data-Science-in-DevTown/blob/main/DAY5.ipynb\" target=\"_parent\"><img src=\"https://colab.research.google.com/assets/colab-badge.svg\" alt=\"Open In Colab\"/></a>"
      ]
    },
    {
      "cell_type": "markdown",
      "source": [
        "# SET\n"
      ],
      "metadata": {
        "id": "iS3eH1O8l6ii"
      }
    },
    {
      "cell_type": "code",
      "source": [
        "set1={1,18,7,3,45.77}"
      ],
      "metadata": {
        "id": "iaCC85Spl74U"
      },
      "execution_count": null,
      "outputs": []
    },
    {
      "cell_type": "code",
      "source": [
        "print(set1)"
      ],
      "metadata": {
        "colab": {
          "base_uri": "https://localhost:8080/"
        },
        "id": "2Ylix6qbl702",
        "outputId": "7d6263d5-0145-44c0-f0c8-b88185b0dc77"
      },
      "execution_count": null,
      "outputs": [
        {
          "output_type": "stream",
          "name": "stdout",
          "text": [
            "{1, 18, 3, 7, 45.77}\n"
          ]
        }
      ]
    },
    {
      "cell_type": "code",
      "source": [
        "set2={1,3,3,4,5,2,2,3,4}"
      ],
      "metadata": {
        "id": "ftHj8oH7l7yE"
      },
      "execution_count": null,
      "outputs": []
    },
    {
      "cell_type": "code",
      "source": [
        "print(set2)"
      ],
      "metadata": {
        "colab": {
          "base_uri": "https://localhost:8080/"
        },
        "id": "bJZVg52hl7ut",
        "outputId": "228668ae-de7f-4e29-edbe-53837f2dbd49"
      },
      "execution_count": null,
      "outputs": [
        {
          "output_type": "stream",
          "name": "stdout",
          "text": [
            "{1, 2, 3, 4, 5}\n"
          ]
        }
      ]
    },
    {
      "cell_type": "code",
      "source": [
        "set1={\"cherry\",\"banana\",\"apple\",\"Banana\"}"
      ],
      "metadata": {
        "id": "Y6Izd8Mxl7rf"
      },
      "execution_count": null,
      "outputs": []
    },
    {
      "cell_type": "code",
      "source": [
        "set1"
      ],
      "metadata": {
        "colab": {
          "base_uri": "https://localhost:8080/"
        },
        "id": "cEUysJcml7ou",
        "outputId": "b7923e94-a1d5-4caa-81f1-f7d94cd3ed01"
      },
      "execution_count": null,
      "outputs": [
        {
          "output_type": "execute_result",
          "data": {
            "text/plain": [
              "{'Banana', 'apple', 'banana', 'cherry'}"
            ]
          },
          "metadata": {},
          "execution_count": 17
        }
      ]
    },
    {
      "cell_type": "code",
      "source": [
        "list1 = list(set1)"
      ],
      "metadata": {
        "id": "Y0dM2dRBl7lX"
      },
      "execution_count": null,
      "outputs": []
    },
    {
      "cell_type": "code",
      "source": [
        "list1"
      ],
      "metadata": {
        "colab": {
          "base_uri": "https://localhost:8080/"
        },
        "id": "VAur3irMl7in",
        "outputId": "339868ae-c994-4e46-9059-618b0cd4c153"
      },
      "execution_count": null,
      "outputs": [
        {
          "output_type": "execute_result",
          "data": {
            "text/plain": [
              "['cherry', 'Banana', 'apple', 'banana']"
            ]
          },
          "metadata": {},
          "execution_count": 20
        }
      ]
    },
    {
      "cell_type": "code",
      "source": [
        "list1[0]=\"grapes\""
      ],
      "metadata": {
        "id": "3BgHVyw8l7fi"
      },
      "execution_count": null,
      "outputs": []
    },
    {
      "cell_type": "code",
      "source": [
        "list1"
      ],
      "metadata": {
        "colab": {
          "base_uri": "https://localhost:8080/"
        },
        "id": "Gd6EozF2l7cZ",
        "outputId": "fad8f89b-3099-4a2e-d48c-2e6929b4c2ca"
      },
      "execution_count": null,
      "outputs": [
        {
          "output_type": "execute_result",
          "data": {
            "text/plain": [
              "['grapes', 'Banana', 'apple', 'banana']"
            ]
          },
          "metadata": {},
          "execution_count": 32
        }
      ]
    },
    {
      "cell_type": "code",
      "source": [
        "set1=set(list1)"
      ],
      "metadata": {
        "id": "MJ4IVsRMrGue"
      },
      "execution_count": null,
      "outputs": []
    },
    {
      "cell_type": "code",
      "source": [
        "set1"
      ],
      "metadata": {
        "colab": {
          "base_uri": "https://localhost:8080/"
        },
        "id": "uPHiEW8HrGrE",
        "outputId": "e5145e2d-1b39-4335-900c-1012d89747e4"
      },
      "execution_count": null,
      "outputs": [
        {
          "output_type": "execute_result",
          "data": {
            "text/plain": [
              "{'Banana', 'apple', 'banana', 'grapes'}"
            ]
          },
          "metadata": {},
          "execution_count": 36
        }
      ]
    },
    {
      "cell_type": "code",
      "source": [
        "\"Banana\" in  set1"
      ],
      "metadata": {
        "colab": {
          "base_uri": "https://localhost:8080/"
        },
        "id": "-YYJ1QfrrGoL",
        "outputId": "770a8ec0-ac70-44b3-de63-a5a8405691a8"
      },
      "execution_count": null,
      "outputs": [
        {
          "output_type": "execute_result",
          "data": {
            "text/plain": [
              "True"
            ]
          },
          "metadata": {},
          "execution_count": 38
        }
      ]
    },
    {
      "cell_type": "code",
      "source": [
        "\"cherry\" in set1"
      ],
      "metadata": {
        "colab": {
          "base_uri": "https://localhost:8080/"
        },
        "id": "uYqDv458rGlP",
        "outputId": "b870dfbc-8e2a-4906-f260-fb3d1b1f0406"
      },
      "execution_count": null,
      "outputs": [
        {
          "output_type": "execute_result",
          "data": {
            "text/plain": [
              "False"
            ]
          },
          "metadata": {},
          "execution_count": 39
        }
      ]
    },
    {
      "cell_type": "code",
      "source": [
        "#updation"
      ],
      "metadata": {
        "id": "4o2biw_grGir"
      },
      "execution_count": null,
      "outputs": []
    },
    {
      "cell_type": "code",
      "source": [
        "set1 = {\"apples\", \"bananas\", \"mangoes\"}\n",
        "set2 = {\"oranges\",\"chikoo\"}"
      ],
      "metadata": {
        "id": "oZIhHKCesOP1"
      },
      "execution_count": null,
      "outputs": []
    },
    {
      "cell_type": "code",
      "source": [
        "set1.update(set2)"
      ],
      "metadata": {
        "id": "AS6vwqN_sOMd"
      },
      "execution_count": null,
      "outputs": []
    },
    {
      "cell_type": "code",
      "source": [
        "set1"
      ],
      "metadata": {
        "colab": {
          "base_uri": "https://localhost:8080/"
        },
        "id": "bHxUp4btsOJn",
        "outputId": "be74287f-8da4-41e0-aae8-35857d264bbd"
      },
      "execution_count": null,
      "outputs": [
        {
          "output_type": "execute_result",
          "data": {
            "text/plain": [
              "{'apples', 'bananas', 'chikoo', 'mangoes', 'oranges'}"
            ]
          },
          "metadata": {},
          "execution_count": 42
        }
      ]
    },
    {
      "cell_type": "code",
      "source": [
        "set1.add(\"grapes\")"
      ],
      "metadata": {
        "id": "F86HVqzosOGi"
      },
      "execution_count": null,
      "outputs": []
    },
    {
      "cell_type": "code",
      "source": [
        "set1"
      ],
      "metadata": {
        "colab": {
          "base_uri": "https://localhost:8080/"
        },
        "id": "NaxJEYs6sODm",
        "outputId": "8c548ff6-d3fc-4359-eadd-7b1f489f317c"
      },
      "execution_count": null,
      "outputs": [
        {
          "output_type": "execute_result",
          "data": {
            "text/plain": [
              "{'apples', 'bananas', 'chikoo', 'grapes', 'mangoes', 'oranges'}"
            ]
          },
          "metadata": {},
          "execution_count": 44
        }
      ]
    },
    {
      "cell_type": "code",
      "source": [
        "#deletion"
      ],
      "metadata": {
        "id": "0Z6BIxt4rGfy"
      },
      "execution_count": null,
      "outputs": []
    },
    {
      "cell_type": "code",
      "source": [
        "set1.remove(\"chikoo\")"
      ],
      "metadata": {
        "id": "i8hJ3crRt6p2"
      },
      "execution_count": null,
      "outputs": []
    },
    {
      "cell_type": "code",
      "source": [
        "set1"
      ],
      "metadata": {
        "colab": {
          "base_uri": "https://localhost:8080/"
        },
        "id": "Mus0BShdt6mP",
        "outputId": "cf811c4d-4235-4ae6-893e-6fb16a276bf4"
      },
      "execution_count": null,
      "outputs": [
        {
          "output_type": "execute_result",
          "data": {
            "text/plain": [
              "{'apples', 'bananas', 'grapes', 'mangoes', 'oranges'}"
            ]
          },
          "metadata": {},
          "execution_count": 46
        }
      ]
    },
    {
      "cell_type": "code",
      "source": [
        "set1.discard(\"grapes\")"
      ],
      "metadata": {
        "id": "LijngmFat6j3"
      },
      "execution_count": null,
      "outputs": []
    },
    {
      "cell_type": "code",
      "source": [
        "set1"
      ],
      "metadata": {
        "colab": {
          "base_uri": "https://localhost:8080/"
        },
        "id": "ekAQiLnbt6hW",
        "outputId": "05997acc-b401-43c7-9c3d-6251c902ea1a"
      },
      "execution_count": null,
      "outputs": [
        {
          "output_type": "execute_result",
          "data": {
            "text/plain": [
              "{'apples', 'bananas', 'mangoes', 'oranges'}"
            ]
          },
          "metadata": {},
          "execution_count": 48
        }
      ]
    },
    {
      "cell_type": "code",
      "source": [
        "set1.discard(\"chikoo\")   #doesn't give error even if element is not present"
      ],
      "metadata": {
        "id": "hRcm48tUt6et"
      },
      "execution_count": null,
      "outputs": []
    },
    {
      "cell_type": "code",
      "source": [
        "set1"
      ],
      "metadata": {
        "colab": {
          "base_uri": "https://localhost:8080/"
        },
        "id": "HNuAbW61rGdA",
        "outputId": "a7870a6a-1603-42de-fa4d-0b98a2ec28cb"
      },
      "execution_count": null,
      "outputs": [
        {
          "output_type": "execute_result",
          "data": {
            "text/plain": [
              "{'apples', 'bananas', 'mangoes', 'oranges'}"
            ]
          },
          "metadata": {},
          "execution_count": 52
        }
      ]
    },
    {
      "cell_type": "code",
      "source": [
        "set1.clear()"
      ],
      "metadata": {
        "id": "-RB-Ci2nrGZt"
      },
      "execution_count": null,
      "outputs": []
    },
    {
      "cell_type": "code",
      "source": [
        "set1"
      ],
      "metadata": {
        "colab": {
          "base_uri": "https://localhost:8080/"
        },
        "id": "qTxqt2ZerGWl",
        "outputId": "d2085faf-b209-461e-ec5c-a7c171d362c7"
      },
      "execution_count": null,
      "outputs": [
        {
          "output_type": "execute_result",
          "data": {
            "text/plain": [
              "set()"
            ]
          },
          "metadata": {},
          "execution_count": 54
        }
      ]
    },
    {
      "cell_type": "code",
      "source": [
        "#union/intersection, etc."
      ],
      "metadata": {
        "id": "Jl2-sER2xCTQ"
      },
      "execution_count": null,
      "outputs": []
    },
    {
      "cell_type": "code",
      "source": [
        "set1 = {\"apple\", \"bananas\", \"cherries\"}\n",
        "set2 = {\"google\", \"microsoft\", \"apple\"}"
      ],
      "metadata": {
        "id": "ybymaVhIl7Zh"
      },
      "execution_count": null,
      "outputs": []
    },
    {
      "cell_type": "code",
      "source": [
        "set3=set1.union(set2)"
      ],
      "metadata": {
        "id": "beVJZocvveBY"
      },
      "execution_count": null,
      "outputs": []
    },
    {
      "cell_type": "code",
      "source": [
        "set3"
      ],
      "metadata": {
        "colab": {
          "base_uri": "https://localhost:8080/"
        },
        "id": "VarJPQNlySIb",
        "outputId": "e048b340-a822-4b55-be46-0491ea939d6c"
      },
      "execution_count": null,
      "outputs": [
        {
          "output_type": "execute_result",
          "data": {
            "text/plain": [
              "{'apple', 'bananas', 'cherries', 'google', 'microsoft'}"
            ]
          },
          "metadata": {},
          "execution_count": 66
        }
      ]
    },
    {
      "cell_type": "code",
      "source": [
        "set3=set1.intersection(set2)"
      ],
      "metadata": {
        "id": "dRLeOE5Avd9u"
      },
      "execution_count": null,
      "outputs": []
    },
    {
      "cell_type": "code",
      "source": [
        "set3"
      ],
      "metadata": {
        "colab": {
          "base_uri": "https://localhost:8080/"
        },
        "id": "ahZ7RrpRyc7g",
        "outputId": "5dd9bc95-4152-480a-9861-16147f00eb49"
      },
      "execution_count": null,
      "outputs": [
        {
          "output_type": "execute_result",
          "data": {
            "text/plain": [
              "{'apple'}"
            ]
          },
          "metadata": {},
          "execution_count": 68
        }
      ]
    },
    {
      "cell_type": "code",
      "source": [
        "set3 = set2.difference(set1)\n"
      ],
      "metadata": {
        "id": "9evmKlRQvd3x"
      },
      "execution_count": null,
      "outputs": []
    },
    {
      "cell_type": "code",
      "source": [
        "set3"
      ],
      "metadata": {
        "colab": {
          "base_uri": "https://localhost:8080/"
        },
        "id": "gZP1VgdJvd0U",
        "outputId": "1e4aec3a-7799-4e9a-b645-b45c3f291b27"
      },
      "execution_count": null,
      "outputs": [
        {
          "output_type": "execute_result",
          "data": {
            "text/plain": [
              "{'google', 'microsoft'}"
            ]
          },
          "metadata": {},
          "execution_count": 70
        }
      ]
    },
    {
      "cell_type": "code",
      "source": [],
      "metadata": {
        "id": "9lYlNAT2vdwj"
      },
      "execution_count": null,
      "outputs": []
    },
    {
      "cell_type": "markdown",
      "source": [
        "Python for ML and Data analysis->\n",
        "\n",
        "\n",
        "Data Types -> String, Integers, Float, Boolean\n",
        "\n",
        "Data Structure -> List, Tuple, Dict, Set\n",
        "\n",
        "Conditional Statement -> if,elif,else\n",
        "\n",
        "Loop -> for & while\n",
        "\n",
        "Functions -> def ___()\n",
        "\n",
        "\n",
        "Oops -> Classes, objects, inheritence , abstraction, polymorphism, Encapsulation\n",
        "\n",
        "\n",
        "\n",
        "\n",
        "\n",
        "\n"
      ],
      "metadata": {
        "id": "tf2w9nvMzsfp"
      }
    },
    {
      "cell_type": "code",
      "source": [],
      "metadata": {
        "id": "wdfXJofnvdtE"
      },
      "execution_count": null,
      "outputs": []
    },
    {
      "cell_type": "markdown",
      "source": [
        "# CONDITIONAL STATEMENTS (if,elif,else)\n"
      ],
      "metadata": {
        "id": "wwDGpqvK0EVs"
      }
    },
    {
      "cell_type": "code",
      "source": [
        "winner = \"Austrelia\"\n",
        "\n",
        "if winner == \"Austrelia\":\n",
        "  print(\"I am not going to watch cricket\")\n",
        "elif winner==\"New zealand\":\n",
        "  print(\"saddd!!!\")\n",
        "else:\n",
        "  print(\"happpy!!!\")"
      ],
      "metadata": {
        "colab": {
          "base_uri": "https://localhost:8080/"
        },
        "id": "p9hIpP2jvdpr",
        "outputId": "8ec0ee61-0dc5-4d41-beb9-d533f42e9e34"
      },
      "execution_count": null,
      "outputs": [
        {
          "output_type": "stream",
          "name": "stdout",
          "text": [
            "I am not going to watch cricket\n"
          ]
        }
      ]
    },
    {
      "cell_type": "code",
      "source": [
        "price = int(input(\"Enter the price: \"))\n",
        "\n",
        "if price <100:\n",
        "  print(\"Buy some snacks\")\n",
        "elif price == 100:\n",
        "  print(\"Purchase the PR T. Cards\")\n",
        "elif price > 100:\n",
        "  print(\"Purchase the PS5\")\n",
        "elif price > 1500:\n",
        "  print(\"Purchase the RC car\")\n",
        "else:\n",
        "  print(\"Cry\")"
      ],
      "metadata": {
        "colab": {
          "base_uri": "https://localhost:8080/"
        },
        "id": "zE7UEmS7vdmr",
        "outputId": "f7f96970-bbef-4b4f-a40e-199cbc504dc3"
      },
      "execution_count": null,
      "outputs": [
        {
          "output_type": "stream",
          "name": "stdout",
          "text": [
            "Enter the price: 3000\n",
            "Purchase the PS5\n"
          ]
        }
      ]
    },
    {
      "cell_type": "code",
      "source": [
        "\n",
        "  if strings:\n",
        "    print(\"hello world\")\n",
        "  else:\n",
        "    print(\"bbye world\")\n",
        "\n",
        "# try except"
      ],
      "metadata": {
        "colab": {
          "base_uri": "https://localhost:8080/",
          "height": 245
        },
        "id": "jsYEZZN2vdjI",
        "outputId": "6810a895-38d5-4d20-aefa-e118baf7087a"
      },
      "execution_count": null,
      "outputs": [
        {
          "output_type": "error",
          "ename": "NameError",
          "evalue": "ignored",
          "traceback": [
            "\u001b[0;31m---------------------------------------------------------------------------\u001b[0m",
            "\u001b[0;31mNameError\u001b[0m                                 Traceback (most recent call last)",
            "\u001b[0;32m<ipython-input-77-526b45e123f7>\u001b[0m in \u001b[0;36m<cell line: 1>\u001b[0;34m()\u001b[0m\n\u001b[0;32m----> 1\u001b[0;31m \u001b[0;32mif\u001b[0m \u001b[0mstrings\u001b[0m\u001b[0;34m:\u001b[0m\u001b[0;34m\u001b[0m\u001b[0;34m\u001b[0m\u001b[0m\n\u001b[0m\u001b[1;32m      2\u001b[0m   \u001b[0mprint\u001b[0m\u001b[0;34m(\u001b[0m\u001b[0;34m\"hello world\"\u001b[0m\u001b[0;34m)\u001b[0m\u001b[0;34m\u001b[0m\u001b[0;34m\u001b[0m\u001b[0m\n\u001b[1;32m      3\u001b[0m \u001b[0;32melse\u001b[0m\u001b[0;34m:\u001b[0m\u001b[0;34m\u001b[0m\u001b[0;34m\u001b[0m\u001b[0m\n\u001b[1;32m      4\u001b[0m   \u001b[0mprint\u001b[0m\u001b[0;34m(\u001b[0m\u001b[0;34m\"bbye world\"\u001b[0m\u001b[0;34m)\u001b[0m\u001b[0;34m\u001b[0m\u001b[0;34m\u001b[0m\u001b[0m\n\u001b[1;32m      5\u001b[0m \u001b[0;34m\u001b[0m\u001b[0m\n",
            "\u001b[0;31mNameError\u001b[0m: name 'strings' is not defined"
          ]
        }
      ]
    },
    {
      "cell_type": "code",
      "source": [
        "try:\n",
        "  if stripop:\n",
        "    print(\"hello world\")\n",
        "except:\n",
        "    print(\"bbye world\")\n",
        "\n",
        "# try except"
      ],
      "metadata": {
        "colab": {
          "base_uri": "https://localhost:8080/"
        },
        "id": "2yyk7h9D5giO",
        "outputId": "25233ad8-028f-4f1f-feab-45748230fd28"
      },
      "execution_count": null,
      "outputs": [
        {
          "output_type": "stream",
          "name": "stdout",
          "text": [
            "bbye world\n"
          ]
        }
      ]
    },
    {
      "cell_type": "code",
      "source": [
        "list1 = [\"Mr Bean\", \"Tom & Jerry\", \"Bob the Builder\", \"Richie Rich\"]"
      ],
      "metadata": {
        "id": "M2HabD0-5gey"
      },
      "execution_count": null,
      "outputs": []
    },
    {
      "cell_type": "code",
      "source": [
        "if \"Doremon\" in list1:\n",
        "  print(\"YES,it is!!!\")\n",
        "elif \"chota bheem\" not in list1:\n",
        "  list1.append(\"chota bheem\")\n",
        "else:\n",
        "  print(\"NO cartoons!!!\")"
      ],
      "metadata": {
        "id": "J6cboT4n5gcE"
      },
      "execution_count": null,
      "outputs": []
    },
    {
      "cell_type": "code",
      "source": [
        "list1"
      ],
      "metadata": {
        "colab": {
          "base_uri": "https://localhost:8080/"
        },
        "id": "DN3BC5Vk5gZR",
        "outputId": "1e731fb2-f7f3-4ee1-f6bf-4b1d927ce3ae"
      },
      "execution_count": null,
      "outputs": [
        {
          "output_type": "execute_result",
          "data": {
            "text/plain": [
              "['Mr Bean', 'Tom & Jerry', 'Bob the Builder', 'Richie Rich', 'chota bheem']"
            ]
          },
          "metadata": {},
          "execution_count": 83
        }
      ]
    },
    {
      "cell_type": "code",
      "source": [
        "# num = 0-1\n",
        "# alpha = a-zA-Z\n",
        "#isnumeric()\n",
        "#isalpha()\n",
        "#isalnum() -> Alpha Numberic"
      ],
      "metadata": {
        "id": "Y5pmOllq-nf9"
      },
      "execution_count": null,
      "outputs": []
    },
    {
      "cell_type": "code",
      "source": [
        "inp = input(\"Enter name: \")\n",
        "\n",
        "\n",
        "if inp.isalnum():\n",
        "  print(\"Sorry, try again\")\n",
        "else:\n",
        "  print(\"Drop off from the college\")"
      ],
      "metadata": {
        "colab": {
          "base_uri": "https://localhost:8080/"
        },
        "id": "wnrAXzdU5gWW",
        "outputId": "f70379e2-04a7-49bd-8319-f2c9b2d791bc"
      },
      "execution_count": null,
      "outputs": [
        {
          "output_type": "stream",
          "name": "stdout",
          "text": [
            "Enter name: omkar@24\n",
            "Drop off from the college\n"
          ]
        }
      ]
    },
    {
      "cell_type": "code",
      "source": [],
      "metadata": {
        "id": "rSCV9HQF5gTu"
      },
      "execution_count": null,
      "outputs": []
    },
    {
      "cell_type": "code",
      "source": [],
      "metadata": {
        "id": "1wlTUQNz9jUS"
      },
      "execution_count": null,
      "outputs": []
    },
    {
      "cell_type": "code",
      "source": [],
      "metadata": {
        "id": "lJkydlgK9jQ6"
      },
      "execution_count": null,
      "outputs": []
    },
    {
      "cell_type": "code",
      "source": [],
      "metadata": {
        "id": "_j9w8gTx9jOa"
      },
      "execution_count": null,
      "outputs": []
    },
    {
      "cell_type": "code",
      "source": [],
      "metadata": {
        "id": "M4C7x9sr9jMD"
      },
      "execution_count": null,
      "outputs": []
    },
    {
      "cell_type": "code",
      "source": [],
      "metadata": {
        "id": "kcrw68RH9jJe"
      },
      "execution_count": null,
      "outputs": []
    },
    {
      "cell_type": "code",
      "source": [],
      "metadata": {
        "id": "gidqoqq99jGj"
      },
      "execution_count": null,
      "outputs": []
    },
    {
      "cell_type": "code",
      "source": [],
      "metadata": {
        "id": "coGH7T4f9jD4"
      },
      "execution_count": null,
      "outputs": []
    },
    {
      "cell_type": "code",
      "source": [],
      "metadata": {
        "id": "M_aDlVk_l7V1"
      },
      "execution_count": null,
      "outputs": []
    }
  ]
}