{
  "nbformat": 4,
  "nbformat_minor": 0,
  "metadata": {
    "colab": {
      "provenance": [],
      "toc_visible": true,
      "authorship_tag": "ABX9TyMuGt1wBsu0WsBSEhjRse7C",
      "include_colab_link": true
    },
    "kernelspec": {
      "name": "python3",
      "display_name": "Python 3"
    },
    "language_info": {
      "name": "python"
    }
  },
  "cells": [
    {
      "cell_type": "markdown",
      "metadata": {
        "id": "view-in-github",
        "colab_type": "text"
      },
      "source": [
        "<a href=\"https://colab.research.google.com/github/OmkarSolat/Data-Science-in-DevTown/blob/main/DAY9.ipynb\" target=\"_parent\"><img src=\"https://colab.research.google.com/assets/colab-badge.svg\" alt=\"Open In Colab\"/></a>"
      ]
    },
    {
      "cell_type": "markdown",
      "source": [
        "# lambda function\n"
      ],
      "metadata": {
        "id": "r86knR_JuCXA"
      }
    },
    {
      "cell_type": "code",
      "source": [
        "def addition(a,b):\n",
        "  return a+b\n",
        "\n",
        "addition(18,7)"
      ],
      "metadata": {
        "colab": {
          "base_uri": "https://localhost:8080/"
        },
        "id": "dc_ccYH7uLiJ",
        "outputId": "03d8854d-1aed-4153-aa75-2fd71ed617b9"
      },
      "execution_count": null,
      "outputs": [
        {
          "output_type": "execute_result",
          "data": {
            "text/plain": [
              "25"
            ]
          },
          "metadata": {},
          "execution_count": 1
        }
      ]
    },
    {
      "cell_type": "code",
      "source": [
        "(lambda a,b : a+b) (18,7)"
      ],
      "metadata": {
        "colab": {
          "base_uri": "https://localhost:8080/"
        },
        "id": "TDc111osuMZm",
        "outputId": "f49f70ee-07dc-4f77-a88a-561d66bcf241"
      },
      "execution_count": null,
      "outputs": [
        {
          "output_type": "execute_result",
          "data": {
            "text/plain": [
              "25"
            ]
          },
          "metadata": {},
          "execution_count": 2
        }
      ]
    },
    {
      "cell_type": "code",
      "source": [
        "(lambda a,b,c,d,e,f: a+b+c+d+e+f) (1,1,1,1,1,1)"
      ],
      "metadata": {
        "colab": {
          "base_uri": "https://localhost:8080/"
        },
        "id": "EpLT-I3AuMQh",
        "outputId": "65a9b0c7-f7dc-4dec-fb72-391d91118f77"
      },
      "execution_count": null,
      "outputs": [
        {
          "output_type": "execute_result",
          "data": {
            "text/plain": [
              "6"
            ]
          },
          "metadata": {},
          "execution_count": 7
        }
      ]
    },
    {
      "cell_type": "code",
      "source": [
        "lam = lambda a,b : a+b\n",
        "lam(5,4)"
      ],
      "metadata": {
        "colab": {
          "base_uri": "https://localhost:8080/"
        },
        "id": "ydkL2Mt_uMN3",
        "outputId": "ebc02b18-5805-4828-b32c-38ad8602a02d"
      },
      "execution_count": null,
      "outputs": [
        {
          "output_type": "execute_result",
          "data": {
            "text/plain": [
              "9"
            ]
          },
          "metadata": {},
          "execution_count": 9
        }
      ]
    },
    {
      "cell_type": "markdown",
      "source": [
        "# filter() method\n"
      ],
      "metadata": {
        "id": "HHngtN8pzdh2"
      }
    },
    {
      "cell_type": "code",
      "source": [
        "list1=[1,3,2,4,5,3,9,7,8,5,3,2,6,8]\n",
        "\n",
        "def even(list1):\n",
        "  arr=[]\n",
        "  for i in list1:\n",
        "    if i%2==0:\n",
        "      arr.append(i)\n",
        "    else:\n",
        "      pass\n",
        "\n",
        "  return arr\n"
      ],
      "metadata": {
        "id": "08B8-dZHuL9K"
      },
      "execution_count": null,
      "outputs": []
    },
    {
      "cell_type": "code",
      "source": [
        "even(list1)"
      ],
      "metadata": {
        "colab": {
          "base_uri": "https://localhost:8080/"
        },
        "id": "vNM6Etg6uL6I",
        "outputId": "9dc7ea19-e2d0-4623-cedb-f753058bf73f"
      },
      "execution_count": null,
      "outputs": [
        {
          "output_type": "execute_result",
          "data": {
            "text/plain": [
              "[2, 4, 8, 2, 6, 8]"
            ]
          },
          "metadata": {},
          "execution_count": 13
        }
      ]
    },
    {
      "cell_type": "code",
      "source": [
        "a = lambda x:x%2==0\n",
        "a(5)"
      ],
      "metadata": {
        "colab": {
          "base_uri": "https://localhost:8080/"
        },
        "id": "H00ABT-73uEp",
        "outputId": "95ee5cbb-ad8f-4aef-aaa7-a77531b0704b"
      },
      "execution_count": null,
      "outputs": [
        {
          "output_type": "execute_result",
          "data": {
            "text/plain": [
              "False"
            ]
          },
          "metadata": {},
          "execution_count": 17
        }
      ]
    },
    {
      "cell_type": "code",
      "source": [
        "list1"
      ],
      "metadata": {
        "colab": {
          "base_uri": "https://localhost:8080/"
        },
        "id": "mldcNubw5tzs",
        "outputId": "8d3e90d9-3857-484d-9102-fdfd8fd7cc53"
      },
      "execution_count": null,
      "outputs": [
        {
          "output_type": "execute_result",
          "data": {
            "text/plain": [
              "[1, 3, 2, 4, 5, 3, 9, 7, 8, 5, 3, 2, 6, 8]"
            ]
          },
          "metadata": {},
          "execution_count": 21
        }
      ]
    },
    {
      "cell_type": "code",
      "source": [
        "list(filter(lambda x: x%2==0 ,list1))"
      ],
      "metadata": {
        "colab": {
          "base_uri": "https://localhost:8080/"
        },
        "id": "l5DPBEySuL3L",
        "outputId": "443de858-51c9-4ff6-ab82-129948f30682"
      },
      "execution_count": null,
      "outputs": [
        {
          "output_type": "execute_result",
          "data": {
            "text/plain": [
              "[2, 4, 8, 2, 6, 8]"
            ]
          },
          "metadata": {},
          "execution_count": 18
        }
      ]
    },
    {
      "cell_type": "code",
      "source": [
        "set(filter(lambda x: x%2==0 ,list1))"
      ],
      "metadata": {
        "colab": {
          "base_uri": "https://localhost:8080/"
        },
        "id": "8fsLaBwyuL0J",
        "outputId": "0a99e7ea-f608-4daa-976d-ef3386a0085e"
      },
      "execution_count": null,
      "outputs": [
        {
          "output_type": "execute_result",
          "data": {
            "text/plain": [
              "{2, 4, 6, 8}"
            ]
          },
          "metadata": {},
          "execution_count": 19
        }
      ]
    },
    {
      "cell_type": "code",
      "source": [
        "tuple(filter(lambda x: x%2==0 ,list1))"
      ],
      "metadata": {
        "colab": {
          "base_uri": "https://localhost:8080/"
        },
        "id": "yfuVF2SPuLw0",
        "outputId": "dfbb9f18-6020-470f-b9e7-a3c07daba3e8"
      },
      "execution_count": null,
      "outputs": [
        {
          "output_type": "execute_result",
          "data": {
            "text/plain": [
              "(2, 4, 8, 2, 6, 8)"
            ]
          },
          "metadata": {},
          "execution_count": 20
        }
      ]
    },
    {
      "cell_type": "code",
      "source": [],
      "metadata": {
        "id": "V0XtT5Iw4W7t"
      },
      "execution_count": null,
      "outputs": []
    },
    {
      "cell_type": "markdown",
      "source": [
        "# map() function\n"
      ],
      "metadata": {
        "id": "KJAyX9tl4wcx"
      }
    },
    {
      "cell_type": "code",
      "source": [
        "list1"
      ],
      "metadata": {
        "colab": {
          "base_uri": "https://localhost:8080/"
        },
        "id": "9yBNdbtj4W4i",
        "outputId": "630e6620-8f27-4f16-a316-9e9cbc6291b5"
      },
      "execution_count": null,
      "outputs": [
        {
          "output_type": "execute_result",
          "data": {
            "text/plain": [
              "[1, 3, 2, 4, 5, 3, 9, 7, 8, 5, 3, 2, 6, 8]"
            ]
          },
          "metadata": {},
          "execution_count": 22
        }
      ]
    },
    {
      "cell_type": "code",
      "source": [
        "lambda x: x**x"
      ],
      "metadata": {
        "colab": {
          "base_uri": "https://localhost:8080/"
        },
        "id": "rg6UK_jc4W1c",
        "outputId": "5fd16587-4882-4e72-8458-bdcb3d7d0367"
      },
      "execution_count": null,
      "outputs": [
        {
          "output_type": "execute_result",
          "data": {
            "text/plain": [
              "<function __main__.<lambda>(x)>"
            ]
          },
          "metadata": {},
          "execution_count": 24
        }
      ]
    },
    {
      "cell_type": "code",
      "source": [
        "list(map(lambda x: x**x,list1))"
      ],
      "metadata": {
        "colab": {
          "base_uri": "https://localhost:8080/"
        },
        "id": "bnar3wvO4Wya",
        "outputId": "1d8eb002-99d1-44c8-bc94-dfafa7f37b2e"
      },
      "execution_count": null,
      "outputs": [
        {
          "output_type": "execute_result",
          "data": {
            "text/plain": [
              "[1,\n",
              " 27,\n",
              " 4,\n",
              " 256,\n",
              " 3125,\n",
              " 27,\n",
              " 387420489,\n",
              " 823543,\n",
              " 16777216,\n",
              " 3125,\n",
              " 27,\n",
              " 4,\n",
              " 46656,\n",
              " 16777216]"
            ]
          },
          "metadata": {},
          "execution_count": 26
        }
      ]
    },
    {
      "cell_type": "code",
      "source": [
        "set(map(lambda x: x**x,list1))"
      ],
      "metadata": {
        "colab": {
          "base_uri": "https://localhost:8080/"
        },
        "id": "FL2kJ-KT4WwN",
        "outputId": "826db1f7-04e0-46bb-c398-fbea3107a12c"
      },
      "execution_count": null,
      "outputs": [
        {
          "output_type": "execute_result",
          "data": {
            "text/plain": [
              "{1, 4, 27, 256, 3125, 46656, 823543, 16777216, 387420489}"
            ]
          },
          "metadata": {},
          "execution_count": 27
        }
      ]
    },
    {
      "cell_type": "code",
      "source": [
        "tuple(map(lambda x: x**x,list1))"
      ],
      "metadata": {
        "colab": {
          "base_uri": "https://localhost:8080/"
        },
        "id": "9CA7v-GG4WtJ",
        "outputId": "3c42dd02-cc42-44d1-b89d-c4fca0b51fa8"
      },
      "execution_count": null,
      "outputs": [
        {
          "output_type": "execute_result",
          "data": {
            "text/plain": [
              "(1,\n",
              " 27,\n",
              " 4,\n",
              " 256,\n",
              " 3125,\n",
              " 27,\n",
              " 387420489,\n",
              " 823543,\n",
              " 16777216,\n",
              " 3125,\n",
              " 27,\n",
              " 4,\n",
              " 46656,\n",
              " 16777216)"
            ]
          },
          "metadata": {},
          "execution_count": 28
        }
      ]
    },
    {
      "cell_type": "code",
      "source": [
        "list(map(lambda x: x+x , list1))"
      ],
      "metadata": {
        "colab": {
          "base_uri": "https://localhost:8080/"
        },
        "id": "EqL40Kns4WqL",
        "outputId": "a3e46677-3c5b-441b-a458-358dd00d6325"
      },
      "execution_count": null,
      "outputs": [
        {
          "output_type": "execute_result",
          "data": {
            "text/plain": [
              "[2, 6, 4, 8, 10, 6, 18, 14, 16, 10, 6, 4, 12, 16]"
            ]
          },
          "metadata": {},
          "execution_count": 29
        }
      ]
    },
    {
      "cell_type": "markdown",
      "source": [
        "# Advantages\n",
        "\n",
        "1. Simplify Code\n",
        "2. Enhance the readibility\n",
        "3. Uses less storage\n",
        "4. Complexity is less\n",
        "5. It also don't require a varible\n",
        "6. We don't have the name of the function\n",
        "7. The code is simple and clear and understandable"
      ],
      "metadata": {
        "id": "dK6uuHdf9kvr"
      }
    },
    {
      "cell_type": "markdown",
      "source": [
        "# Disadvantages\n",
        "\n",
        "1. We cannot reuse the code\n",
        "2. We cannot give multiple logic\n",
        "3. It doesn't have any name\n",
        "4. It don't involves the docstring"
      ],
      "metadata": {
        "id": "_b-bBKyC9nu-"
      }
    },
    {
      "cell_type": "markdown",
      "source": [
        "# Applications\n",
        "\n",
        "1. When we know that we won't be using the function again\n",
        "2. When the function is not so complex and only performing the basic functionality\n",
        "3. We can use it when everyone in your groups are fimiliar about the lambda function"
      ],
      "metadata": {
        "id": "m-FcY5CV9zGc"
      }
    },
    {
      "cell_type": "code",
      "source": [],
      "metadata": {
        "id": "ROytrwiL4WnM"
      },
      "execution_count": null,
      "outputs": []
    },
    {
      "cell_type": "markdown",
      "source": [
        "# Modules"
      ],
      "metadata": {
        "id": "rORIwlbE-fxo"
      }
    },
    {
      "cell_type": "code",
      "source": [
        "# math, random, datetime, time, os, pickle"
      ],
      "metadata": {
        "id": "iAZDtpSVuLsj"
      },
      "execution_count": null,
      "outputs": []
    },
    {
      "cell_type": "markdown",
      "source": [
        "math"
      ],
      "metadata": {
        "id": "FCxfPRC6_tjM"
      }
    },
    {
      "cell_type": "code",
      "source": [
        "import math"
      ],
      "metadata": {
        "id": "oCDCMywg-mgb"
      },
      "execution_count": null,
      "outputs": []
    },
    {
      "cell_type": "code",
      "source": [
        "print(math.ceil(5.7))\n",
        "print(math.floor(5.7))\n"
      ],
      "metadata": {
        "colab": {
          "base_uri": "https://localhost:8080/"
        },
        "id": "KIFhi7MJ-mdD",
        "outputId": "83513b26-a865-482e-94b9-412fd0847d80"
      },
      "execution_count": null,
      "outputs": [
        {
          "output_type": "stream",
          "name": "stdout",
          "text": [
            "6\n",
            "5\n"
          ]
        }
      ]
    },
    {
      "cell_type": "code",
      "source": [
        "math.factorial(5)"
      ],
      "metadata": {
        "colab": {
          "base_uri": "https://localhost:8080/"
        },
        "id": "XLlEbE2H-mVb",
        "outputId": "19828ddb-1051-42ed-ab9a-a781efde399b"
      },
      "execution_count": null,
      "outputs": [
        {
          "output_type": "execute_result",
          "data": {
            "text/plain": [
              "120"
            ]
          },
          "metadata": {},
          "execution_count": 32
        }
      ]
    },
    {
      "cell_type": "code",
      "source": [
        "math.sqrt(25)"
      ],
      "metadata": {
        "colab": {
          "base_uri": "https://localhost:8080/"
        },
        "id": "g8Wpr5lP-mR5",
        "outputId": "0b361277-0aec-42e1-ab6d-cdeb5b026328"
      },
      "execution_count": null,
      "outputs": [
        {
          "output_type": "execute_result",
          "data": {
            "text/plain": [
              "5.0"
            ]
          },
          "metadata": {},
          "execution_count": 33
        }
      ]
    },
    {
      "cell_type": "code",
      "source": [
        "a=25    #squareroot logic\n",
        "print(a**0.5)"
      ],
      "metadata": {
        "colab": {
          "base_uri": "https://localhost:8080/"
        },
        "id": "UUMOHUyk-mN6",
        "outputId": "721f54cc-80d0-44d3-cbe5-401253798800"
      },
      "execution_count": null,
      "outputs": [
        {
          "output_type": "stream",
          "name": "stdout",
          "text": [
            "5.0\n"
          ]
        }
      ]
    },
    {
      "cell_type": "code",
      "source": [
        "math.isqrt(27)\n",
        "\n",
        "#27->26->25   ==5\n"
      ],
      "metadata": {
        "colab": {
          "base_uri": "https://localhost:8080/"
        },
        "id": "yT-SpDdV-mK_",
        "outputId": "b429e5e8-8402-464e-c8a9-9634bb2fc80d"
      },
      "execution_count": null,
      "outputs": [
        {
          "output_type": "execute_result",
          "data": {
            "text/plain": [
              "5"
            ]
          },
          "metadata": {},
          "execution_count": 41
        }
      ]
    },
    {
      "cell_type": "code",
      "source": [
        "def pow(x,y):\n",
        "   return x**y\n",
        "\n",
        "pow(2,4)"
      ],
      "metadata": {
        "colab": {
          "base_uri": "https://localhost:8080/"
        },
        "id": "gf6owIq7DPOQ",
        "outputId": "416e455b-3b40-433a-fd3e-ae8413e3f9a9"
      },
      "execution_count": null,
      "outputs": [
        {
          "output_type": "execute_result",
          "data": {
            "text/plain": [
              "16"
            ]
          },
          "metadata": {},
          "execution_count": 43
        }
      ]
    },
    {
      "cell_type": "code",
      "source": [
        "math.pow(2,4)"
      ],
      "metadata": {
        "colab": {
          "base_uri": "https://localhost:8080/"
        },
        "id": "etI0JhtWDPKz",
        "outputId": "e7b3272f-361e-4b9a-aeab-6d0cbd5fba77"
      },
      "execution_count": null,
      "outputs": [
        {
          "output_type": "execute_result",
          "data": {
            "text/plain": [
              "16.0"
            ]
          },
          "metadata": {},
          "execution_count": 44
        }
      ]
    },
    {
      "cell_type": "markdown",
      "source": [
        "import math\n",
        "\n",
        "from math import ceil, floor\n",
        "\n",
        "import math as ma\n",
        "\n",
        "import pandas as pd\n",
        "\n",
        "import numpy as np\n",
        "\n",
        "import seaborn as sns"
      ],
      "metadata": {
        "id": "cwlG8vRpE4NX"
      }
    },
    {
      "cell_type": "code",
      "source": [
        "import math as ma\n",
        "ma.floor(4.6)"
      ],
      "metadata": {
        "colab": {
          "base_uri": "https://localhost:8080/"
        },
        "id": "QDdxLpz0DPIN",
        "outputId": "4746f372-d6ca-45f1-ac17-9505296a4a23"
      },
      "execution_count": null,
      "outputs": [
        {
          "output_type": "execute_result",
          "data": {
            "text/plain": [
              "4"
            ]
          },
          "metadata": {},
          "execution_count": 46
        }
      ]
    },
    {
      "cell_type": "markdown",
      "source": [
        "random"
      ],
      "metadata": {
        "id": "aqR65Z0LO8OJ"
      }
    },
    {
      "cell_type": "markdown",
      "source": [
        "import random\n",
        "\n",
        "from random import randint\n",
        "\n",
        "import random as ran"
      ],
      "metadata": {
        "id": "rfoOQOsuQMfv"
      }
    },
    {
      "cell_type": "code",
      "source": [
        "import random\n",
        "\n",
        "Cars = [\"Audi\", \"BMW\", \"RR\", \"Ferrari\", \"Tesla\", \"Benz\", \"Bentley\", \"VW\", \"TATA\"]"
      ],
      "metadata": {
        "id": "6hUU3T1qDPFZ"
      },
      "execution_count": null,
      "outputs": []
    },
    {
      "cell_type": "code",
      "source": [
        "random.choice(Cars)"
      ],
      "metadata": {
        "colab": {
          "base_uri": "https://localhost:8080/",
          "height": 35
        },
        "id": "pcYJIawYPBDc",
        "outputId": "d72f70c5-0163-4a7e-c2a0-71e95ce36ba6"
      },
      "execution_count": null,
      "outputs": [
        {
          "output_type": "execute_result",
          "data": {
            "text/plain": [
              "'Tesla'"
            ],
            "application/vnd.google.colaboratory.intrinsic+json": {
              "type": "string"
            }
          },
          "metadata": {},
          "execution_count": 53
        }
      ]
    },
    {
      "cell_type": "code",
      "source": [
        "random.randint(1,20)"
      ],
      "metadata": {
        "colab": {
          "base_uri": "https://localhost:8080/"
        },
        "id": "UZZIOQJ8PBAA",
        "outputId": "0f55b58c-761d-4cdc-833b-dfdc83a15517"
      },
      "execution_count": null,
      "outputs": [
        {
          "output_type": "execute_result",
          "data": {
            "text/plain": [
              "18"
            ]
          },
          "metadata": {},
          "execution_count": 72
        }
      ]
    },
    {
      "cell_type": "code",
      "source": [
        "random.random()\n",
        "\n",
        "#Random value b/w 0.0 to 1.1(excluded)"
      ],
      "metadata": {
        "colab": {
          "base_uri": "https://localhost:8080/"
        },
        "id": "5M3I8jroPA9I",
        "outputId": "4e729bf8-a0f9-4aa3-c3e4-0b5cd7911cf2"
      },
      "execution_count": null,
      "outputs": [
        {
          "output_type": "execute_result",
          "data": {
            "text/plain": [
              "0.16715659525573134"
            ]
          },
          "metadata": {},
          "execution_count": 74
        }
      ]
    },
    {
      "cell_type": "code",
      "source": [
        "Cars"
      ],
      "metadata": {
        "colab": {
          "base_uri": "https://localhost:8080/"
        },
        "id": "WGeiUHdlTbbc",
        "outputId": "13079fe9-0b57-4924-82a9-921251a9e113"
      },
      "execution_count": null,
      "outputs": [
        {
          "output_type": "execute_result",
          "data": {
            "text/plain": [
              "['Audi', 'BMW', 'RR', 'Ferrari', 'Tesla', 'Benz', 'Bentley', 'VW', 'TATA']"
            ]
          },
          "metadata": {},
          "execution_count": 76
        }
      ]
    },
    {
      "cell_type": "code",
      "source": [
        "random.sample(Cars,k=3)"
      ],
      "metadata": {
        "colab": {
          "base_uri": "https://localhost:8080/"
        },
        "id": "fS89mQIEPA6U",
        "outputId": "52a89b6b-c4d7-4ebe-999f-47377e18ee57"
      },
      "execution_count": null,
      "outputs": [
        {
          "output_type": "execute_result",
          "data": {
            "text/plain": [
              "['BMW', 'RR', 'Ferrari']"
            ]
          },
          "metadata": {},
          "execution_count": 80
        }
      ]
    },
    {
      "cell_type": "code",
      "source": [
        "random.shuffle(Cars)"
      ],
      "metadata": {
        "id": "U61cPm-hDPCx"
      },
      "execution_count": null,
      "outputs": []
    },
    {
      "cell_type": "code",
      "source": [
        "Cars"
      ],
      "metadata": {
        "colab": {
          "base_uri": "https://localhost:8080/"
        },
        "id": "Oi5A45BPThZN",
        "outputId": "69b2ec8f-946f-4d45-e860-8d8abf47da76"
      },
      "execution_count": null,
      "outputs": [
        {
          "output_type": "execute_result",
          "data": {
            "text/plain": [
              "['Ferrari', 'Audi', 'Bentley', 'Tesla', 'TATA', 'RR', 'BMW', 'VW', 'Benz']"
            ]
          },
          "metadata": {},
          "execution_count": 83
        }
      ]
    },
    {
      "cell_type": "markdown",
      "source": [
        "# TASK(mini project)"
      ],
      "metadata": {
        "id": "TZ8wUZmmT9bx"
      }
    },
    {
      "cell_type": "code",
      "source": [],
      "metadata": {
        "id": "1jrz6GJNThVp"
      },
      "execution_count": null,
      "outputs": []
    },
    {
      "cell_type": "code",
      "source": [],
      "metadata": {
        "id": "93aPe94zThSh"
      },
      "execution_count": null,
      "outputs": []
    },
    {
      "cell_type": "code",
      "source": [],
      "metadata": {
        "id": "gCGdQcLPThPi"
      },
      "execution_count": null,
      "outputs": []
    }
  ]
}