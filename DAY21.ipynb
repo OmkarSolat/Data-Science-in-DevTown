{
  "nbformat": 4,
  "nbformat_minor": 0,
  "metadata": {
    "colab": {
      "provenance": [],
      "toc_visible": true,
      "authorship_tag": "ABX9TyNY2xcJUcqBi8NcfR5hsSh5",
      "include_colab_link": true
    },
    "kernelspec": {
      "name": "python3",
      "display_name": "Python 3"
    },
    "language_info": {
      "name": "python"
    }
  },
  "cells": [
    {
      "cell_type": "markdown",
      "metadata": {
        "id": "view-in-github",
        "colab_type": "text"
      },
      "source": [
        "<a href=\"https://colab.research.google.com/github/OmkarSolat/Data-Science-in-DevTown/blob/main/DAY21.ipynb\" target=\"_parent\"><img src=\"https://colab.research.google.com/assets/colab-badge.svg\" alt=\"Open In Colab\"/></a>"
      ]
    },
    {
      "cell_type": "markdown",
      "source": [
        "# Regular Expression (RegEx)"
      ],
      "metadata": {
        "id": "9jAV5R8hwxQa"
      }
    },
    {
      "cell_type": "code",
      "source": [
        "import re"
      ],
      "metadata": {
        "id": "ii2OZvccwE_I"
      },
      "execution_count": null,
      "outputs": []
    },
    {
      "cell_type": "markdown",
      "source": [
        "* re.findall()"
      ],
      "metadata": {
        "id": "eGQCXcsG7uAH"
      }
    },
    {
      "cell_type": "code",
      "source": [
        "str1 = '''I was free on sunday so,i called my friend omkar to play kho kho and his number is\n",
        " 111-99603317118 ans 222-99999999999 '''\n",
        "\n",
        "str1"
      ],
      "metadata": {
        "colab": {
          "base_uri": "https://localhost:8080/",
          "height": 35
        },
        "id": "RNHB5qvIw5t3",
        "outputId": "c343fdb2-facc-4df2-b0df-88b638057053"
      },
      "execution_count": null,
      "outputs": [
        {
          "output_type": "execute_result",
          "data": {
            "text/plain": [
              "'I was free on sunday so,i called my friend omkar to play kho kho and his number is\\n 111-99603317118 ans 222-99999999999 '"
            ],
            "application/vnd.google.colaboratory.intrinsic+json": {
              "type": "string"
            }
          },
          "metadata": {},
          "execution_count": 10
        }
      ]
    },
    {
      "cell_type": "code",
      "source": [
        "number = re.findall('111-99603317118',str1)\n",
        "number"
      ],
      "metadata": {
        "colab": {
          "base_uri": "https://localhost:8080/"
        },
        "id": "HY76AxZX4Bxn",
        "outputId": "4c753c72-4a80-4f7d-f2c5-ef6ff5eb2760"
      },
      "execution_count": null,
      "outputs": [
        {
          "output_type": "execute_result",
          "data": {
            "text/plain": [
              "['111-99603317118']"
            ]
          },
          "metadata": {},
          "execution_count": 12
        }
      ]
    },
    {
      "cell_type": "code",
      "source": [
        "number = re.findall('\\d',str1)      #\\d -->single digit\n",
        "number"
      ],
      "metadata": {
        "colab": {
          "base_uri": "https://localhost:8080/"
        },
        "id": "PhLzRpqVw5xF",
        "outputId": "247df8a4-be66-4698-def4-0374d1f75195"
      },
      "execution_count": null,
      "outputs": [
        {
          "output_type": "execute_result",
          "data": {
            "text/plain": [
              "['1',\n",
              " '1',\n",
              " '1',\n",
              " '9',\n",
              " '9',\n",
              " '6',\n",
              " '0',\n",
              " '3',\n",
              " '3',\n",
              " '1',\n",
              " '7',\n",
              " '1',\n",
              " '1',\n",
              " '8',\n",
              " '2',\n",
              " '2',\n",
              " '2',\n",
              " '9',\n",
              " '9',\n",
              " '9',\n",
              " '9',\n",
              " '9',\n",
              " '9',\n",
              " '9',\n",
              " '9',\n",
              " '9',\n",
              " '9',\n",
              " '9']"
            ]
          },
          "metadata": {},
          "execution_count": 13
        }
      ]
    },
    {
      "cell_type": "code",
      "source": [
        "number = re.findall('\\d+',str1)      #\\d+ -->batch of digits\n",
        "number"
      ],
      "metadata": {
        "colab": {
          "base_uri": "https://localhost:8080/"
        },
        "id": "tgcOykKzw50e",
        "outputId": "5e8d4037-9751-45b8-b8a4-3715710b530e"
      },
      "execution_count": null,
      "outputs": [
        {
          "output_type": "execute_result",
          "data": {
            "text/plain": [
              "['111', '99603317118', '222', '99999999999']"
            ]
          },
          "metadata": {},
          "execution_count": 14
        }
      ]
    },
    {
      "cell_type": "code",
      "source": [
        "number = re.findall('\\d{3}-\\d{11}',str1)      #by using pattern\n",
        "number"
      ],
      "metadata": {
        "colab": {
          "base_uri": "https://localhost:8080/"
        },
        "id": "SBfRL3mSwFCR",
        "outputId": "188ae386-51d2-49ad-f5f2-aa2518028416"
      },
      "execution_count": null,
      "outputs": [
        {
          "output_type": "execute_result",
          "data": {
            "text/plain": [
              "['111-99603317118', '222-99999999999']"
            ]
          },
          "metadata": {},
          "execution_count": 15
        }
      ]
    },
    {
      "cell_type": "markdown",
      "source": [
        "re.search()"
      ],
      "metadata": {
        "id": "RjwGTy3n7ys1"
      }
    },
    {
      "cell_type": "code",
      "source": [
        "str2 =\"On monday,I am going to start my training\"\n",
        "str2"
      ],
      "metadata": {
        "colab": {
          "base_uri": "https://localhost:8080/",
          "height": 35
        },
        "id": "QzvDriDWwFHY",
        "outputId": "6fdb48bd-9817-4e90-bb44-236b6d0aad98"
      },
      "execution_count": null,
      "outputs": [
        {
          "output_type": "execute_result",
          "data": {
            "text/plain": [
              "'On monday,I am going to start my training'"
            ],
            "application/vnd.google.colaboratory.intrinsic+json": {
              "type": "string"
            }
          },
          "metadata": {},
          "execution_count": 16
        }
      ]
    },
    {
      "cell_type": "code",
      "source": [
        "op = re.search('training',str2)\n",
        "if op:\n",
        "  print(\"matched\")\n",
        "else:\n",
        "  print(\"Not matched\")"
      ],
      "metadata": {
        "colab": {
          "base_uri": "https://localhost:8080/"
        },
        "id": "jHZvjCigwFNg",
        "outputId": "87c7c779-a0b4-4fd5-8ee0-97a90e5e9086"
      },
      "execution_count": null,
      "outputs": [
        {
          "output_type": "stream",
          "name": "stdout",
          "text": [
            "matched\n"
          ]
        }
      ]
    },
    {
      "cell_type": "code",
      "source": [],
      "metadata": {
        "id": "CwHVj0-3wFQu"
      },
      "execution_count": null,
      "outputs": []
    },
    {
      "cell_type": "markdown",
      "source": [
        "* re.match()"
      ],
      "metadata": {
        "id": "gIRyDm5L9mmH"
      }
    },
    {
      "cell_type": "code",
      "source": [
        "str3 =\"Dog and Cat is a pet animal of Dob Denis\"\n",
        "str3"
      ],
      "metadata": {
        "colab": {
          "base_uri": "https://localhost:8080/",
          "height": 35
        },
        "id": "NThADHznwFUV",
        "outputId": "a576180c-ecc0-462b-83ec-f4402a458ea0"
      },
      "execution_count": null,
      "outputs": [
        {
          "output_type": "execute_result",
          "data": {
            "text/plain": [
              "'Dog and Cat is a pet animal of Dob Denis'"
            ],
            "application/vnd.google.colaboratory.intrinsic+json": {
              "type": "string"
            }
          },
          "metadata": {},
          "execution_count": 28
        }
      ]
    },
    {
      "cell_type": "code",
      "source": [
        "var = re.match('D\\w\\w',str3)          #It checks begining of string to match with pattern and returns if pattern match\n",
        "var                                      # \\w -->single character"
      ],
      "metadata": {
        "colab": {
          "base_uri": "https://localhost:8080/"
        },
        "id": "zobfwhWIwFXT",
        "outputId": "b9e2a02d-5054-4a80-9844-2ab7421f8def"
      },
      "execution_count": null,
      "outputs": [
        {
          "output_type": "execute_result",
          "data": {
            "text/plain": [
              "<re.Match object; span=(0, 3), match='Dog'>"
            ]
          },
          "metadata": {},
          "execution_count": 35
        }
      ]
    },
    {
      "cell_type": "code",
      "source": [
        "var.group()"
      ],
      "metadata": {
        "colab": {
          "base_uri": "https://localhost:8080/",
          "height": 35
        },
        "id": "4DDs0l2pwFaT",
        "outputId": "d6d91526-4efa-4242-8ba1-d2901f0adc47"
      },
      "execution_count": null,
      "outputs": [
        {
          "output_type": "execute_result",
          "data": {
            "text/plain": [
              "'Dog'"
            ],
            "application/vnd.google.colaboratory.intrinsic+json": {
              "type": "string"
            }
          },
          "metadata": {},
          "execution_count": 33
        }
      ]
    },
    {
      "cell_type": "code",
      "source": [],
      "metadata": {
        "id": "aNQ5r-cOAFNn"
      },
      "execution_count": null,
      "outputs": []
    },
    {
      "cell_type": "markdown",
      "source": [
        "\n",
        "\n",
        "*  re.split()\n",
        "\n"
      ],
      "metadata": {
        "id": "bgYn6ctyAFxd"
      }
    },
    {
      "cell_type": "code",
      "source": [
        "str4 =\"On monday,I am going to start my intense training\"\n",
        "str4"
      ],
      "metadata": {
        "colab": {
          "base_uri": "https://localhost:8080/",
          "height": 35
        },
        "id": "B7WPpgAzAFKK",
        "outputId": "93eba41b-d97c-4347-e5b6-08188f8a98d9"
      },
      "execution_count": null,
      "outputs": [
        {
          "output_type": "execute_result",
          "data": {
            "text/plain": [
              "'On monday,I am going to start my intense training'"
            ],
            "application/vnd.google.colaboratory.intrinsic+json": {
              "type": "string"
            }
          },
          "metadata": {},
          "execution_count": 36
        }
      ]
    },
    {
      "cell_type": "code",
      "source": [
        "sp = re.split('\\s',str4)         # \\s ---->space\n",
        "sp"
      ],
      "metadata": {
        "colab": {
          "base_uri": "https://localhost:8080/"
        },
        "id": "ZdMlBF-cAFHP",
        "outputId": "603e03b2-1762-446d-adee-941f7a95b165"
      },
      "execution_count": null,
      "outputs": [
        {
          "output_type": "execute_result",
          "data": {
            "text/plain": [
              "['On', 'monday,I', 'am', 'going', 'to', 'start', 'my', 'intense', 'training']"
            ]
          },
          "metadata": {},
          "execution_count": 70
        }
      ]
    },
    {
      "cell_type": "code",
      "source": [
        "str5 =\"Omkar 21 student +91-9960331922 male computer\"\n",
        "str5"
      ],
      "metadata": {
        "colab": {
          "base_uri": "https://localhost:8080/",
          "height": 35
        },
        "id": "x6e9_NT1AFEN",
        "outputId": "73ef8564-8d6e-4aa3-95a7-65d7e51adc6e"
      },
      "execution_count": null,
      "outputs": [
        {
          "output_type": "execute_result",
          "data": {
            "text/plain": [
              "'Omkar 21 student +91-9960331922 male computer'"
            ],
            "application/vnd.google.colaboratory.intrinsic+json": {
              "type": "string"
            }
          },
          "metadata": {},
          "execution_count": 41
        }
      ]
    },
    {
      "cell_type": "code",
      "source": [
        "spli =re.split('\\s',str5)\n",
        "spli"
      ],
      "metadata": {
        "colab": {
          "base_uri": "https://localhost:8080/"
        },
        "id": "qBiA6bvgAFAf",
        "outputId": "f21f2076-4f74-4ea0-8818-7f5daef16250"
      },
      "execution_count": null,
      "outputs": [
        {
          "output_type": "execute_result",
          "data": {
            "text/plain": [
              "['Omkar', '21', 'student', '+91-9960331922', 'male', 'computer']"
            ]
          },
          "metadata": {},
          "execution_count": 42
        }
      ]
    },
    {
      "cell_type": "code",
      "source": [
        "spli =re.split('\\s',str5,2)          #Here; 2 is occurence\n",
        "spli"
      ],
      "metadata": {
        "colab": {
          "base_uri": "https://localhost:8080/"
        },
        "id": "EyLGzAhFAE8e",
        "outputId": "9fbe541e-527b-4f06-830f-e0392a12e3eb"
      },
      "execution_count": null,
      "outputs": [
        {
          "output_type": "execute_result",
          "data": {
            "text/plain": [
              "['Omkar', '21', 'student +91-9960331922 male computer']"
            ]
          },
          "metadata": {},
          "execution_count": 44
        }
      ]
    },
    {
      "cell_type": "code",
      "source": [],
      "metadata": {
        "id": "_78uPkS3wFdp"
      },
      "execution_count": null,
      "outputs": []
    },
    {
      "cell_type": "markdown",
      "source": [
        "* re.sub()    --->substitute or replace"
      ],
      "metadata": {
        "id": "DTaLZnwxDoQm"
      }
    },
    {
      "cell_type": "code",
      "source": [
        "# re.sub(patern, replace patern, str)"
      ],
      "metadata": {
        "id": "mv4WUr-CEQ00"
      },
      "execution_count": null,
      "outputs": []
    },
    {
      "cell_type": "code",
      "source": [
        "str6 = \"KHO KHO game is not everyones cup of tea\"\n",
        "str6"
      ],
      "metadata": {
        "colab": {
          "base_uri": "https://localhost:8080/",
          "height": 35
        },
        "id": "dcAqzuX5DncR",
        "outputId": "e350bc81-c3a9-4752-84ca-4dad999a5ef1"
      },
      "execution_count": null,
      "outputs": [
        {
          "output_type": "execute_result",
          "data": {
            "text/plain": [
              "'KHO KHO game is not everyones cup of tea'"
            ],
            "application/vnd.google.colaboratory.intrinsic+json": {
              "type": "string"
            }
          },
          "metadata": {},
          "execution_count": 45
        }
      ]
    },
    {
      "cell_type": "code",
      "source": [
        "su = re.sub('O','X',str6)\n",
        "su"
      ],
      "metadata": {
        "colab": {
          "base_uri": "https://localhost:8080/",
          "height": 35
        },
        "id": "qpt_cp9jDne5",
        "outputId": "6be3e469-db3c-42a7-cf5a-2d88ef92643b"
      },
      "execution_count": null,
      "outputs": [
        {
          "output_type": "execute_result",
          "data": {
            "text/plain": [
              "'KHX KHX game is not everyones cup of tea'"
            ],
            "application/vnd.google.colaboratory.intrinsic+json": {
              "type": "string"
            }
          },
          "metadata": {},
          "execution_count": 47
        }
      ]
    },
    {
      "cell_type": "code",
      "source": [],
      "metadata": {
        "id": "9YDxCLefDnhl"
      },
      "execution_count": null,
      "outputs": []
    },
    {
      "cell_type": "markdown",
      "source": [
        "# Metacharacters"
      ],
      "metadata": {
        "id": "dIGtBSk9FY6r"
      }
    },
    {
      "cell_type": "markdown",
      "source": [
        "\n",
        "\n",
        "*   [a-b]  -->set of characters\n",
        "\n"
      ],
      "metadata": {
        "id": "-5GP-nBgGHz4"
      }
    },
    {
      "cell_type": "code",
      "source": [
        "str1 = \"Cricket is a getlemens game\"\n",
        "str1"
      ],
      "metadata": {
        "colab": {
          "base_uri": "https://localhost:8080/",
          "height": 35
        },
        "id": "pdWwJEFkDnkM",
        "outputId": "a4050986-d407-4f57-b7fb-f9d90cc5bd65"
      },
      "execution_count": null,
      "outputs": [
        {
          "output_type": "execute_result",
          "data": {
            "text/plain": [
              "'Cricket is a getlemens game'"
            ],
            "application/vnd.google.colaboratory.intrinsic+json": {
              "type": "string"
            }
          },
          "metadata": {},
          "execution_count": 48
        }
      ]
    },
    {
      "cell_type": "code",
      "source": [
        "abc = re.findall(\"[c-m]\",str1)\n",
        "abc"
      ],
      "metadata": {
        "colab": {
          "base_uri": "https://localhost:8080/"
        },
        "id": "IAhZuHk2GG3d",
        "outputId": "5cfb3f94-1266-41b0-cf66-8e1f4829331d"
      },
      "execution_count": null,
      "outputs": [
        {
          "output_type": "execute_result",
          "data": {
            "text/plain": [
              "['i', 'c', 'k', 'e', 'i', 'g', 'e', 'l', 'e', 'm', 'e', 'g', 'm', 'e']"
            ]
          },
          "metadata": {},
          "execution_count": 52
        }
      ]
    },
    {
      "cell_type": "code",
      "source": [],
      "metadata": {
        "id": "2tks0MMeGG6u"
      },
      "execution_count": null,
      "outputs": []
    },
    {
      "cell_type": "markdown",
      "source": [
        "$  --> ends with\n",
        "\n",
        "^  -->starts with"
      ],
      "metadata": {
        "id": "1xJErv6-HlC9"
      }
    },
    {
      "cell_type": "code",
      "source": [
        "str1"
      ],
      "metadata": {
        "colab": {
          "base_uri": "https://localhost:8080/",
          "height": 35
        },
        "id": "eIMmVXKtGG9b",
        "outputId": "d922a8b4-a1eb-46cf-e2dc-0a169da05772"
      },
      "execution_count": null,
      "outputs": [
        {
          "output_type": "execute_result",
          "data": {
            "text/plain": [
              "'Cricket is a getlemens game'"
            ],
            "application/vnd.google.colaboratory.intrinsic+json": {
              "type": "string"
            }
          },
          "metadata": {},
          "execution_count": 53
        }
      ]
    },
    {
      "cell_type": "code",
      "source": [
        "abc = re.findall('game$',str1)          #$ -->to check string ends with given patern\n",
        "abc"
      ],
      "metadata": {
        "colab": {
          "base_uri": "https://localhost:8080/"
        },
        "id": "EhlpGma5GHAz",
        "outputId": "c13dfdcc-adcd-45c1-e60f-2e2ae0e41963"
      },
      "execution_count": null,
      "outputs": [
        {
          "output_type": "execute_result",
          "data": {
            "text/plain": [
              "['game']"
            ]
          },
          "metadata": {},
          "execution_count": 55
        }
      ]
    },
    {
      "cell_type": "code",
      "source": [],
      "metadata": {
        "id": "OTH0zPv1Dnny"
      },
      "execution_count": null,
      "outputs": []
    },
    {
      "cell_type": "markdown",
      "source": [
        "1. -->   .   ---> match single character except newline\n",
        "\n",
        "2. -->  +   ---> match one or more ocuurences\n",
        "\n",
        "3. --> *   ---> match zero or more ocuurences"
      ],
      "metadata": {
        "id": "PgDKKCgbIZOg"
      }
    },
    {
      "cell_type": "code",
      "source": [
        "stri = \"Today is hkhdljv hogs u uosjdsndsj ugjdjgoiug monday\"\n",
        "stri"
      ],
      "metadata": {
        "colab": {
          "base_uri": "https://localhost:8080/",
          "height": 35
        },
        "id": "RnNO6mJRDnrJ",
        "outputId": "ed7ecddb-12c7-4dd2-e674-9ac1e86417d0"
      },
      "execution_count": null,
      "outputs": [
        {
          "output_type": "execute_result",
          "data": {
            "text/plain": [
              "'Today is hkhdljv hogs u uosjdsndsj ugjdjgoiug monday'"
            ],
            "application/vnd.google.colaboratory.intrinsic+json": {
              "type": "string"
            }
          },
          "metadata": {},
          "execution_count": 72
        }
      ]
    },
    {
      "cell_type": "code",
      "source": [
        "asd = re.findall('^T.+',stri)\n",
        "asd"
      ],
      "metadata": {
        "colab": {
          "base_uri": "https://localhost:8080/"
        },
        "id": "qV0sBYsMKNyd",
        "outputId": "7246d2b4-4455-452f-feb4-03928c800847"
      },
      "execution_count": null,
      "outputs": [
        {
          "output_type": "execute_result",
          "data": {
            "text/plain": [
              "['Today is hkhdljv hogs u uosjdsndsj ugjdjgoiug monday']"
            ]
          },
          "metadata": {},
          "execution_count": 78
        }
      ]
    },
    {
      "cell_type": "code",
      "source": [],
      "metadata": {
        "id": "50ikbRd5KNvI"
      },
      "execution_count": null,
      "outputs": []
    },
    {
      "cell_type": "markdown",
      "source": [
        "# Quiz"
      ],
      "metadata": {
        "id": "Cu6JAXCrW0ru"
      }
    },
    {
      "cell_type": "code",
      "source": [
        "'''\n",
        "user input(email)-->\n",
        "valid  -->len(100)--------@----------(10).---(3)\n",
        "'''"
      ],
      "metadata": {
        "id": "SrMnHySyZCVv"
      },
      "execution_count": null,
      "outputs": []
    },
    {
      "cell_type": "code",
      "source": [
        "inp =input(\"Enter Email :\")\n",
        "\n",
        "if len(inp) <= 100:\n",
        "  val = re.search(\"[\\w] + @ [\\w]+. [\\w]+\",inp)\n",
        "  if val:\n",
        "    print(\"VALID\")\n",
        "  else:\n",
        "    print(\"INVALID\")"
      ],
      "metadata": {
        "colab": {
          "base_uri": "https://localhost:8080/"
        },
        "id": "rSovsX0iKNsO",
        "outputId": "e71f9b7d-9d2e-4456-9b36-dfd5b2817136"
      },
      "execution_count": null,
      "outputs": [
        {
          "output_type": "stream",
          "name": "stdout",
          "text": [
            "Enter Email :abc@gmail.com\n",
            "INVALID\n"
          ]
        }
      ]
    },
    {
      "cell_type": "code",
      "source": [],
      "metadata": {
        "id": "QTnEWANKwFjP"
      },
      "execution_count": null,
      "outputs": []
    },
    {
      "cell_type": "code",
      "source": [],
      "metadata": {
        "id": "fVDwuXMTwF3d"
      },
      "execution_count": null,
      "outputs": []
    }
  ]
}