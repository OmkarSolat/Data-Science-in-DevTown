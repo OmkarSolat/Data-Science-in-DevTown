{
  "nbformat": 4,
  "nbformat_minor": 0,
  "metadata": {
    "colab": {
      "provenance": [],
      "toc_visible": true,
      "authorship_tag": "ABX9TyN3l8M1exbLPWo7U3g4pwyH",
      "include_colab_link": true
    },
    "kernelspec": {
      "name": "python3",
      "display_name": "Python 3"
    },
    "language_info": {
      "name": "python"
    }
  },
  "cells": [
    {
      "cell_type": "markdown",
      "metadata": {
        "id": "view-in-github",
        "colab_type": "text"
      },
      "source": [
        "<a href=\"https://colab.research.google.com/github/OmkarSolat/Data-Science-in-DevTown/blob/main/DAY16.ipynb\" target=\"_parent\"><img src=\"https://colab.research.google.com/assets/colab-badge.svg\" alt=\"Open In Colab\"/></a>"
      ]
    },
    {
      "cell_type": "markdown",
      "source": [
        "#DATABASE with Python"
      ],
      "metadata": {
        "id": "_NncSULBisp9"
      }
    },
    {
      "cell_type": "markdown",
      "source": [
        "Creating Database"
      ],
      "metadata": {
        "id": "u_8Ui5zrjDbE"
      }
    },
    {
      "cell_type": "code",
      "source": [
        "import sqlite3 as sq"
      ],
      "metadata": {
        "id": "ty5Sn6O-jhVA"
      },
      "execution_count": null,
      "outputs": []
    },
    {
      "cell_type": "code",
      "source": [
        "database = sq.connect(\"test.db\")\n",
        "print(\"Database Successfuly created!\")"
      ],
      "metadata": {
        "colab": {
          "base_uri": "https://localhost:8080/"
        },
        "id": "MC2uPCUVi1Ym",
        "outputId": "edeef702-f8db-4c50-e2b4-a339b5a0ebdb"
      },
      "execution_count": null,
      "outputs": [
        {
          "output_type": "stream",
          "name": "stdout",
          "text": [
            "Database Successfuly created!\n"
          ]
        }
      ]
    },
    {
      "cell_type": "markdown",
      "source": [
        "Performing Queries"
      ],
      "metadata": {
        "id": "q1FHxpuDj7Nt"
      }
    },
    {
      "cell_type": "code",
      "source": [
        "database.execute('''CREATE TABLE table_name(\n",
        "    Name char(100),\n",
        "    Age int\n",
        ");\n",
        "''')\n",
        "\n",
        "print(\"Table created\")"
      ],
      "metadata": {
        "colab": {
          "base_uri": "https://localhost:8080/"
        },
        "id": "c2HIBMc1i1Lf",
        "outputId": "f3909024-b1b4-4d19-e355-19f0cfccaebc"
      },
      "execution_count": null,
      "outputs": [
        {
          "output_type": "stream",
          "name": "stdout",
          "text": [
            "Table created\n"
          ]
        }
      ]
    },
    {
      "cell_type": "code",
      "source": [],
      "metadata": {
        "id": "yjvT6Ksai1H8"
      },
      "execution_count": null,
      "outputs": []
    },
    {
      "cell_type": "markdown",
      "source": [
        "Creating Table"
      ],
      "metadata": {
        "id": "TjqMSBNtmibp"
      }
    },
    {
      "cell_type": "code",
      "source": [
        "database.execute(\"CREATE TABLE Student(Name char(100),Age int);\")\n",
        "\n",
        "print(\"Student Table created\")"
      ],
      "metadata": {
        "colab": {
          "base_uri": "https://localhost:8080/"
        },
        "id": "PghFCSzPi1EM",
        "outputId": "8e9f0354-8c4a-43d1-a275-5512b64c9a6e"
      },
      "execution_count": null,
      "outputs": [
        {
          "output_type": "stream",
          "name": "stdout",
          "text": [
            "Student Table created\n"
          ]
        }
      ]
    },
    {
      "cell_type": "code",
      "source": [],
      "metadata": {
        "id": "KBDbqK6Ui0_7"
      },
      "execution_count": null,
      "outputs": []
    },
    {
      "cell_type": "markdown",
      "source": [
        "Inserting Data"
      ],
      "metadata": {
        "id": "ge1m4W9wncYz"
      }
    },
    {
      "cell_type": "code",
      "source": [
        "database.execute(\"INSERT INTO Student VALUES('Omkar',21);\")\n",
        "database.execute(\"INSERT INTO Student VALUES('Sahil',22);\")\n",
        "database.execute(\"INSERT INTO Student VALUES('Arif',20);\")\n",
        "\n",
        "print(\"Data has been inserted !!!\")"
      ],
      "metadata": {
        "colab": {
          "base_uri": "https://localhost:8080/"
        },
        "id": "rGbt60VNi07X",
        "outputId": "ef5f539c-7565-40d3-e650-43fbaf059836"
      },
      "execution_count": null,
      "outputs": [
        {
          "output_type": "stream",
          "name": "stdout",
          "text": [
            "Data has been inserted !!!\n"
          ]
        }
      ]
    },
    {
      "cell_type": "code",
      "source": [],
      "metadata": {
        "id": "9-jUv-eqog7c"
      },
      "execution_count": null,
      "outputs": []
    },
    {
      "cell_type": "markdown",
      "source": [
        "Showing Data"
      ],
      "metadata": {
        "id": "lgejMO7Nohgg"
      }
    },
    {
      "cell_type": "code",
      "source": [
        "data = database.execute(\"SELECT * FROM Student\")"
      ],
      "metadata": {
        "id": "B799iLSZm3rC"
      },
      "execution_count": null,
      "outputs": []
    },
    {
      "cell_type": "code",
      "source": [
        "for i in data:\n",
        "  print(i)"
      ],
      "metadata": {
        "colab": {
          "base_uri": "https://localhost:8080/"
        },
        "id": "HpRKF2Urm3ne",
        "outputId": "750b8517-ee13-4584-b998-752ab9c5cb09"
      },
      "execution_count": null,
      "outputs": [
        {
          "output_type": "stream",
          "name": "stdout",
          "text": [
            "('Omkar', 21)\n",
            "('Sahil', 22)\n",
            "('Arif', 20)\n"
          ]
        }
      ]
    },
    {
      "cell_type": "code",
      "source": [],
      "metadata": {
        "id": "DtGng3FBm3kU"
      },
      "execution_count": null,
      "outputs": []
    },
    {
      "cell_type": "code",
      "source": [],
      "metadata": {
        "id": "DqvnL8rCm3hP"
      },
      "execution_count": null,
      "outputs": []
    },
    {
      "cell_type": "code",
      "source": [],
      "metadata": {
        "id": "2DkNGZdWm3eV"
      },
      "execution_count": null,
      "outputs": []
    }
  ]
}