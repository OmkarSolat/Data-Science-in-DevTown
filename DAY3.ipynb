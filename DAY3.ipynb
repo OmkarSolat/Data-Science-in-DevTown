{
  "nbformat": 4,
  "nbformat_minor": 0,
  "metadata": {
    "colab": {
      "provenance": [],
      "toc_visible": true,
      "authorship_tag": "ABX9TyONSy+Avm9dGZbEEx2nHEKC",
      "include_colab_link": true
    },
    "kernelspec": {
      "name": "python3",
      "display_name": "Python 3"
    },
    "language_info": {
      "name": "python"
    }
  },
  "cells": [
    {
      "cell_type": "markdown",
      "metadata": {
        "id": "view-in-github",
        "colab_type": "text"
      },
      "source": [
        "<a href=\"https://colab.research.google.com/github/OmkarSolat/Data-Science-in-DevTown/blob/main/DAY3.ipynb\" target=\"_parent\"><img src=\"https://colab.research.google.com/assets/colab-badge.svg\" alt=\"Open In Colab\"/></a>"
      ]
    },
    {
      "cell_type": "code",
      "execution_count": null,
      "metadata": {
        "id": "I4qF1vjuZhH2"
      },
      "outputs": [],
      "source": []
    },
    {
      "cell_type": "markdown",
      "source": [
        "# LIST\n"
      ],
      "metadata": {
        "id": "CGFUebq_ZjwL"
      }
    },
    {
      "cell_type": "code",
      "source": [
        "list1 = [\"Potatoes\",\n",
        "\"Tomatoes\",\n",
        "\"Peas\",\n",
        "\"Onion\",\n",
        "\"Cauliflower\",\n",
        "\"Ladyfinger\"]"
      ],
      "metadata": {
        "id": "jiYoW2OtZtqQ"
      },
      "execution_count": null,
      "outputs": []
    },
    {
      "cell_type": "code",
      "source": [
        "type(list1)"
      ],
      "metadata": {
        "colab": {
          "base_uri": "https://localhost:8080/"
        },
        "id": "DEl4uPlDZu__",
        "outputId": "052db11a-6209-499b-d88e-29bfdd2871b3"
      },
      "execution_count": null,
      "outputs": [
        {
          "output_type": "execute_result",
          "data": {
            "text/plain": [
              "list"
            ]
          },
          "metadata": {},
          "execution_count": 2
        }
      ]
    },
    {
      "cell_type": "code",
      "source": [
        "list1"
      ],
      "metadata": {
        "colab": {
          "base_uri": "https://localhost:8080/"
        },
        "id": "ZIBW4_f0Zu8o",
        "outputId": "3f8eb52e-c27c-46a5-8034-4218d87b2955"
      },
      "execution_count": null,
      "outputs": [
        {
          "output_type": "execute_result",
          "data": {
            "text/plain": [
              "['Potatoes', 'Tomatoes', 'Peas', 'Onion', 'Cauliflower', 'Ladyfinger']"
            ]
          },
          "metadata": {},
          "execution_count": 3
        }
      ]
    },
    {
      "cell_type": "code",
      "source": [
        "list1[3]"
      ],
      "metadata": {
        "colab": {
          "base_uri": "https://localhost:8080/",
          "height": 36
        },
        "id": "DXmRsvd5Zu6K",
        "outputId": "6b90414d-23c4-4959-9179-d0e1552558a4"
      },
      "execution_count": null,
      "outputs": [
        {
          "output_type": "execute_result",
          "data": {
            "text/plain": [
              "'Onion'"
            ],
            "application/vnd.google.colaboratory.intrinsic+json": {
              "type": "string"
            }
          },
          "metadata": {},
          "execution_count": 4
        }
      ]
    },
    {
      "cell_type": "code",
      "source": [
        "list1[-3]"
      ],
      "metadata": {
        "colab": {
          "base_uri": "https://localhost:8080/",
          "height": 36
        },
        "id": "TGPG4CWtZu3Z",
        "outputId": "b992d299-c65d-4e94-be20-5ebfd3f528e9"
      },
      "execution_count": null,
      "outputs": [
        {
          "output_type": "execute_result",
          "data": {
            "text/plain": [
              "'Onion'"
            ],
            "application/vnd.google.colaboratory.intrinsic+json": {
              "type": "string"
            }
          },
          "metadata": {},
          "execution_count": 5
        }
      ]
    },
    {
      "cell_type": "code",
      "source": [
        "list1[1:4]"
      ],
      "metadata": {
        "colab": {
          "base_uri": "https://localhost:8080/"
        },
        "id": "0ZzcGsVKZu0j",
        "outputId": "a811eec4-3d45-4a66-b3a6-507c19616217"
      },
      "execution_count": null,
      "outputs": [
        {
          "output_type": "execute_result",
          "data": {
            "text/plain": [
              "['Tomatoes', 'Peas', 'Onion']"
            ]
          },
          "metadata": {},
          "execution_count": 7
        }
      ]
    },
    {
      "cell_type": "code",
      "source": [
        "stri = \"Hello world\""
      ],
      "metadata": {
        "id": "48kKK4WpZuxi"
      },
      "execution_count": null,
      "outputs": []
    },
    {
      "cell_type": "code",
      "source": [
        "stri[0:9]"
      ],
      "metadata": {
        "colab": {
          "base_uri": "https://localhost:8080/",
          "height": 36
        },
        "id": "M3aa0-PZZuuj",
        "outputId": "c619e2fc-0f19-4399-925c-7424c4533afd"
      },
      "execution_count": null,
      "outputs": [
        {
          "output_type": "execute_result",
          "data": {
            "text/plain": [
              "'Hello wor'"
            ],
            "application/vnd.google.colaboratory.intrinsic+json": {
              "type": "string"
            }
          },
          "metadata": {},
          "execution_count": 9
        }
      ]
    },
    {
      "cell_type": "code",
      "source": [
        "stri[0:9:2]"
      ],
      "metadata": {
        "colab": {
          "base_uri": "https://localhost:8080/",
          "height": 36
        },
        "id": "aehe0wm1Zuq1",
        "outputId": "6db9cad3-b2a1-44bc-8c6c-e721bea7150e"
      },
      "execution_count": null,
      "outputs": [
        {
          "output_type": "execute_result",
          "data": {
            "text/plain": [
              "'Hlowr'"
            ],
            "application/vnd.google.colaboratory.intrinsic+json": {
              "type": "string"
            }
          },
          "metadata": {},
          "execution_count": 10
        }
      ]
    },
    {
      "cell_type": "code",
      "source": [
        "list1"
      ],
      "metadata": {
        "colab": {
          "base_uri": "https://localhost:8080/"
        },
        "id": "RUqxLVlPZukm",
        "outputId": "daf90529-ebe6-4877-829f-dc95eb386a3d"
      },
      "execution_count": null,
      "outputs": [
        {
          "output_type": "execute_result",
          "data": {
            "text/plain": [
              "['Potatoes', 'Tomatoes', 'Peas', 'Onion', 'Cauliflower', 'Ladyfinger']"
            ]
          },
          "metadata": {},
          "execution_count": 11
        }
      ]
    },
    {
      "cell_type": "code",
      "source": [
        "list1[4]=\"brinjal\""
      ],
      "metadata": {
        "id": "p4ViRfAeZudC"
      },
      "execution_count": null,
      "outputs": []
    },
    {
      "cell_type": "code",
      "source": [
        "list1"
      ],
      "metadata": {
        "colab": {
          "base_uri": "https://localhost:8080/"
        },
        "id": "3ln7OXhnZuSX",
        "outputId": "0643b01a-4be5-4c4f-f560-0b1861d966c4"
      },
      "execution_count": null,
      "outputs": [
        {
          "output_type": "execute_result",
          "data": {
            "text/plain": [
              "['Potatoes', 'Tomatoes', 'Peas', 'Onion', 'brinjal', 'Ladyfinger']"
            ]
          },
          "metadata": {},
          "execution_count": 14
        }
      ]
    },
    {
      "cell_type": "code",
      "source": [
        "# Adding the list\n",
        "\n",
        "append() -> Adds the elements into the list in the end\n",
        "extend() -> Add the elements of two or more dictionary into one\n",
        "insert() -> Add the elements into the list w.r.t to the provided index"
      ],
      "metadata": {
        "id": "1SwoJ22OhzlU"
      },
      "execution_count": null,
      "outputs": []
    },
    {
      "cell_type": "code",
      "source": [
        "list1.append(\"milk\")\n",
        "list1.append(\"carrot\")"
      ],
      "metadata": {
        "id": "R72AOeLwh0Py"
      },
      "execution_count": null,
      "outputs": []
    },
    {
      "cell_type": "code",
      "source": [
        "list1"
      ],
      "metadata": {
        "colab": {
          "base_uri": "https://localhost:8080/"
        },
        "id": "er0w8Ejah0hS",
        "outputId": "9058aa2d-b0d1-41b3-fe85-2cf58fd4ee74"
      },
      "execution_count": null,
      "outputs": [
        {
          "output_type": "execute_result",
          "data": {
            "text/plain": [
              "['Potatoes',\n",
              " 'Tomatoes',\n",
              " 'Peas',\n",
              " 'Onion',\n",
              " 'brinjal',\n",
              " 'Ladyfinger',\n",
              " 'milk',\n",
              " 'milk',\n",
              " 'carrot']"
            ]
          },
          "metadata": {},
          "execution_count": 17
        }
      ]
    },
    {
      "cell_type": "code",
      "source": [
        "#list1.insert(index,\"element\")"
      ],
      "metadata": {
        "id": "iHA5nU19iIJT"
      },
      "execution_count": null,
      "outputs": []
    },
    {
      "cell_type": "code",
      "source": [
        "list1.insert(1,\"cauliflower\")"
      ],
      "metadata": {
        "id": "kjbtO3ZjiICf"
      },
      "execution_count": null,
      "outputs": []
    },
    {
      "cell_type": "code",
      "source": [
        "list1"
      ],
      "metadata": {
        "colab": {
          "base_uri": "https://localhost:8080/"
        },
        "id": "6XdDFQPoiH5I",
        "outputId": "91aba0e7-e472-4074-b8bd-1a5e15d9bcd8"
      },
      "execution_count": null,
      "outputs": [
        {
          "output_type": "execute_result",
          "data": {
            "text/plain": [
              "['Potatoes',\n",
              " 'cauliflower',\n",
              " 'Tomatoes',\n",
              " 'Peas',\n",
              " 'Onion',\n",
              " 'brinjal',\n",
              " 'Ladyfinger',\n",
              " 'milk',\n",
              " 'milk',\n",
              " 'carrot']"
            ]
          },
          "metadata": {},
          "execution_count": 19
        }
      ]
    },
    {
      "cell_type": "code",
      "source": [
        "list1[1]"
      ],
      "metadata": {
        "colab": {
          "base_uri": "https://localhost:8080/",
          "height": 36
        },
        "id": "j4RWvpspiHsD",
        "outputId": "1568e8d5-4843-44d6-8355-f79b3f345194"
      },
      "execution_count": null,
      "outputs": [
        {
          "output_type": "execute_result",
          "data": {
            "text/plain": [
              "'cauliflower'"
            ],
            "application/vnd.google.colaboratory.intrinsic+json": {
              "type": "string"
            }
          },
          "metadata": {},
          "execution_count": 20
        }
      ]
    },
    {
      "cell_type": "code",
      "source": [
        "E = [\"Laptop\", \"Speaker\", \"Microphone\"]\n",
        "G= [\"Temple Run\", \"COD\",\"COC\", \"PubG\"]"
      ],
      "metadata": {
        "id": "areZOdL6jWRo"
      },
      "execution_count": null,
      "outputs": []
    },
    {
      "cell_type": "code",
      "source": [
        "E.extend(G)"
      ],
      "metadata": {
        "id": "mYISM74UjWOH"
      },
      "execution_count": null,
      "outputs": []
    },
    {
      "cell_type": "code",
      "source": [
        "G"
      ],
      "metadata": {
        "colab": {
          "base_uri": "https://localhost:8080/"
        },
        "id": "rT3fhfE6jWKz",
        "outputId": "42debeef-48fb-4ffb-ca2b-e9bd2c24e102"
      },
      "execution_count": null,
      "outputs": [
        {
          "output_type": "execute_result",
          "data": {
            "text/plain": [
              "['Temple Run', 'COD', 'COC', 'PubG']"
            ]
          },
          "metadata": {},
          "execution_count": 23
        }
      ]
    },
    {
      "cell_type": "code",
      "source": [
        "E"
      ],
      "metadata": {
        "colab": {
          "base_uri": "https://localhost:8080/"
        },
        "id": "SAHXL9amjWHw",
        "outputId": "b12b58df-afce-4e47-e15a-aaf7e22b196c"
      },
      "execution_count": null,
      "outputs": [
        {
          "output_type": "execute_result",
          "data": {
            "text/plain": [
              "['Laptop', 'Speaker', 'Microphone', 'Temple Run', 'COD', 'COC', 'PubG']"
            ]
          },
          "metadata": {},
          "execution_count": 24
        }
      ]
    },
    {
      "cell_type": "code",
      "source": [
        "# To perform the deletion\n",
        "\n",
        "remove->(give the name of the element)\n",
        "pop->(give the index)\n",
        "delete -> delete it, just give the index"
      ],
      "metadata": {
        "id": "rCMgQ__1jWEJ"
      },
      "execution_count": null,
      "outputs": []
    },
    {
      "cell_type": "code",
      "source": [
        "E.pop(4)"
      ],
      "metadata": {
        "colab": {
          "base_uri": "https://localhost:8080/",
          "height": 36
        },
        "id": "KEtweIC5jV-2",
        "outputId": "6380198e-2afc-454d-f8bf-9b1a436b2ea3"
      },
      "execution_count": null,
      "outputs": [
        {
          "output_type": "execute_result",
          "data": {
            "text/plain": [
              "'COD'"
            ],
            "application/vnd.google.colaboratory.intrinsic+json": {
              "type": "string"
            }
          },
          "metadata": {},
          "execution_count": 26
        }
      ]
    },
    {
      "cell_type": "code",
      "source": [
        "E"
      ],
      "metadata": {
        "colab": {
          "base_uri": "https://localhost:8080/"
        },
        "id": "e-aWoAy2jVvq",
        "outputId": "78a23162-07b2-4df7-ad4d-a550a07ec907"
      },
      "execution_count": null,
      "outputs": [
        {
          "output_type": "execute_result",
          "data": {
            "text/plain": [
              "['Laptop', 'Speaker', 'Microphone', 'Temple Run', 'COC', 'PubG']"
            ]
          },
          "metadata": {},
          "execution_count": 27
        }
      ]
    },
    {
      "cell_type": "code",
      "source": [
        "E.pop()"
      ],
      "metadata": {
        "colab": {
          "base_uri": "https://localhost:8080/",
          "height": 36
        },
        "id": "iAr1MDnGkInE",
        "outputId": "3358f1cd-154c-4c8c-f139-402ea68ff8a9"
      },
      "execution_count": null,
      "outputs": [
        {
          "output_type": "execute_result",
          "data": {
            "text/plain": [
              "'PubG'"
            ],
            "application/vnd.google.colaboratory.intrinsic+json": {
              "type": "string"
            }
          },
          "metadata": {},
          "execution_count": 28
        }
      ]
    },
    {
      "cell_type": "code",
      "source": [
        "E"
      ],
      "metadata": {
        "colab": {
          "base_uri": "https://localhost:8080/"
        },
        "id": "7mzOLzbykJZW",
        "outputId": "b06a3d2d-16a8-4977-a06f-9b71e6d0bcd5"
      },
      "execution_count": null,
      "outputs": [
        {
          "output_type": "execute_result",
          "data": {
            "text/plain": [
              "['Laptop', 'Speaker', 'Microphone', 'Temple Run', 'COC']"
            ]
          },
          "metadata": {},
          "execution_count": 29
        }
      ]
    },
    {
      "cell_type": "code",
      "source": [
        "E.remove(\"COC\")"
      ],
      "metadata": {
        "id": "Z7PDabXXkJox"
      },
      "execution_count": null,
      "outputs": []
    },
    {
      "cell_type": "code",
      "source": [
        "E"
      ],
      "metadata": {
        "colab": {
          "base_uri": "https://localhost:8080/"
        },
        "id": "Ybpry2G-kJx8",
        "outputId": "dc8cfb56-a837-49af-84e1-7e39c8439658"
      },
      "execution_count": null,
      "outputs": [
        {
          "output_type": "execute_result",
          "data": {
            "text/plain": [
              "['Laptop', 'Speaker', 'Microphone', 'Temple Run']"
            ]
          },
          "metadata": {},
          "execution_count": 33
        }
      ]
    },
    {
      "cell_type": "code",
      "source": [
        "list2=[[1,2,3],[4,5,6,7,8]]"
      ],
      "metadata": {
        "id": "Wc7ZBRPJkJ_d"
      },
      "execution_count": null,
      "outputs": []
    },
    {
      "cell_type": "code",
      "source": [
        "list2[1][4]"
      ],
      "metadata": {
        "colab": {
          "base_uri": "https://localhost:8080/"
        },
        "id": "o7canCuClbVa",
        "outputId": "b0e9a300-fad1-456a-f6e1-9d958dd90f41"
      },
      "execution_count": null,
      "outputs": [
        {
          "output_type": "execute_result",
          "data": {
            "text/plain": [
              "8"
            ]
          },
          "metadata": {},
          "execution_count": 39
        }
      ]
    },
    {
      "cell_type": "code",
      "source": [
        "list2[0][2]"
      ],
      "metadata": {
        "colab": {
          "base_uri": "https://localhost:8080/"
        },
        "id": "XNgRra6qlbR3",
        "outputId": "a14d4964-06c3-4272-b2f3-4634405faca8"
      },
      "execution_count": null,
      "outputs": [
        {
          "output_type": "execute_result",
          "data": {
            "text/plain": [
              "3"
            ]
          },
          "metadata": {},
          "execution_count": 38
        }
      ]
    },
    {
      "cell_type": "code",
      "source": [
        "list2[1].remove(5)"
      ],
      "metadata": {
        "id": "R9jy_WR9lbPU"
      },
      "execution_count": null,
      "outputs": []
    },
    {
      "cell_type": "code",
      "source": [
        "list2"
      ],
      "metadata": {
        "colab": {
          "base_uri": "https://localhost:8080/"
        },
        "id": "XYc1HTk4lbM1",
        "outputId": "b0b93a1b-5e59-4ca1-870f-da29397eb3ae"
      },
      "execution_count": null,
      "outputs": [
        {
          "output_type": "execute_result",
          "data": {
            "text/plain": [
              "[[1, 2, 3], [4, 6, 7, 8]]"
            ]
          },
          "metadata": {},
          "execution_count": 42
        }
      ]
    },
    {
      "cell_type": "code",
      "source": [
        "del E[3]"
      ],
      "metadata": {
        "id": "deKyR_y_lbJq"
      },
      "execution_count": null,
      "outputs": []
    },
    {
      "cell_type": "code",
      "source": [
        "E"
      ],
      "metadata": {
        "colab": {
          "base_uri": "https://localhost:8080/"
        },
        "id": "B2XaaLWDlbGW",
        "outputId": "1dd86020-6379-4e58-f6ff-88cd83c29fa3"
      },
      "execution_count": null,
      "outputs": [
        {
          "output_type": "execute_result",
          "data": {
            "text/plain": [
              "['Laptop', 'Speaker', 'Microphone']"
            ]
          },
          "metadata": {},
          "execution_count": 45
        }
      ]
    },
    {
      "cell_type": "code",
      "source": [
        "grades=[90,87,84,95,75,97]"
      ],
      "metadata": {
        "id": "LEa1hsGIlbAv"
      },
      "execution_count": null,
      "outputs": []
    },
    {
      "cell_type": "code",
      "source": [
        "len(grades)"
      ],
      "metadata": {
        "colab": {
          "base_uri": "https://localhost:8080/"
        },
        "id": "7tRuhNEVla3D",
        "outputId": "c345cfd3-2320-4921-b7fe-b0ab52fefdd4"
      },
      "execution_count": null,
      "outputs": [
        {
          "output_type": "execute_result",
          "data": {
            "text/plain": [
              "6"
            ]
          },
          "metadata": {},
          "execution_count": 47
        }
      ]
    },
    {
      "cell_type": "code",
      "source": [
        "max(grades)"
      ],
      "metadata": {
        "colab": {
          "base_uri": "https://localhost:8080/"
        },
        "id": "7slY0qiglapA",
        "outputId": "1def20f7-effa-425c-cd5b-678f1fe75210"
      },
      "execution_count": null,
      "outputs": [
        {
          "output_type": "execute_result",
          "data": {
            "text/plain": [
              "97"
            ]
          },
          "metadata": {},
          "execution_count": 48
        }
      ]
    },
    {
      "cell_type": "code",
      "source": [
        "min(grades)"
      ],
      "metadata": {
        "colab": {
          "base_uri": "https://localhost:8080/"
        },
        "id": "Us28mmYFnomp",
        "outputId": "0d8e783e-53d4-46c6-8282-8c1d9218bba4"
      },
      "execution_count": null,
      "outputs": [
        {
          "output_type": "execute_result",
          "data": {
            "text/plain": [
              "75"
            ]
          },
          "metadata": {},
          "execution_count": 49
        }
      ]
    },
    {
      "cell_type": "code",
      "source": [
        "grades.sort()"
      ],
      "metadata": {
        "id": "YelobQh8noho"
      },
      "execution_count": null,
      "outputs": []
    },
    {
      "cell_type": "code",
      "source": [
        "grades"
      ],
      "metadata": {
        "colab": {
          "base_uri": "https://localhost:8080/"
        },
        "id": "xa6TgakTp5cP",
        "outputId": "06aead36-d13b-41f8-bb96-27dcfd8f95fd"
      },
      "execution_count": null,
      "outputs": [
        {
          "output_type": "execute_result",
          "data": {
            "text/plain": [
              "[75, 84, 87, 90, 95, 97]"
            ]
          },
          "metadata": {},
          "execution_count": 52
        }
      ]
    },
    {
      "cell_type": "code",
      "source": [
        "lis=[\"z\",\"p\",\"a\",\"e\"]"
      ],
      "metadata": {
        "id": "pLfV6QqWp5YC"
      },
      "execution_count": null,
      "outputs": []
    },
    {
      "cell_type": "code",
      "source": [
        "lis"
      ],
      "metadata": {
        "colab": {
          "base_uri": "https://localhost:8080/"
        },
        "id": "bPpwkoFep5Ui",
        "outputId": "fd466bee-f23d-43f0-ede5-e1b551162f93"
      },
      "execution_count": null,
      "outputs": [
        {
          "output_type": "execute_result",
          "data": {
            "text/plain": [
              "['z', 'p', 'a', 'e']"
            ]
          },
          "metadata": {},
          "execution_count": 54
        }
      ]
    },
    {
      "cell_type": "code",
      "source": [
        "lis.sort()"
      ],
      "metadata": {
        "id": "d7YmybHVp5Qj"
      },
      "execution_count": null,
      "outputs": []
    },
    {
      "cell_type": "code",
      "source": [
        "lis"
      ],
      "metadata": {
        "colab": {
          "base_uri": "https://localhost:8080/"
        },
        "id": "CLlklSX0p5KV",
        "outputId": "015ba1b4-53f1-4a8b-dc82-55c50c126efc"
      },
      "execution_count": null,
      "outputs": [
        {
          "output_type": "execute_result",
          "data": {
            "text/plain": [
              "['a', 'e', 'p', 'z']"
            ]
          },
          "metadata": {},
          "execution_count": 56
        }
      ]
    },
    {
      "cell_type": "code",
      "source": [
        "lis.reverse()"
      ],
      "metadata": {
        "id": "fDetFW0AnocE"
      },
      "execution_count": null,
      "outputs": []
    },
    {
      "cell_type": "code",
      "source": [
        "lis"
      ],
      "metadata": {
        "colab": {
          "base_uri": "https://localhost:8080/"
        },
        "id": "IyCxkQQlnoTm",
        "outputId": "114f720e-1dd9-4cd8-a7b3-70f66f636b8d"
      },
      "execution_count": null,
      "outputs": [
        {
          "output_type": "execute_result",
          "data": {
            "text/plain": [
              "['z', 'p', 'e', 'a']"
            ]
          },
          "metadata": {},
          "execution_count": 59
        }
      ]
    },
    {
      "cell_type": "code",
      "source": [
        "grades.reverse()"
      ],
      "metadata": {
        "id": "XlKhgbBXnoG2"
      },
      "execution_count": null,
      "outputs": []
    },
    {
      "cell_type": "code",
      "source": [
        "grades"
      ],
      "metadata": {
        "colab": {
          "base_uri": "https://localhost:8080/"
        },
        "id": "1uWOtrzRrwlh",
        "outputId": "897e98f5-7cbf-42fd-bdb8-5b35ea321800"
      },
      "execution_count": null,
      "outputs": [
        {
          "output_type": "execute_result",
          "data": {
            "text/plain": [
              "[97, 95, 90, 87, 84, 75]"
            ]
          },
          "metadata": {},
          "execution_count": 61
        }
      ]
    },
    {
      "cell_type": "code",
      "source": [
        "#clear()\n",
        "#  It removes all the elements from the list"
      ],
      "metadata": {
        "id": "CReQzwvfrwiG"
      },
      "execution_count": null,
      "outputs": []
    },
    {
      "cell_type": "code",
      "source": [
        "lis = [\"apples\", \"mangoes\",\"cherry\"]"
      ],
      "metadata": {
        "id": "rJtLmAZorwfE"
      },
      "execution_count": null,
      "outputs": []
    },
    {
      "cell_type": "code",
      "source": [
        "print(lis)"
      ],
      "metadata": {
        "id": "kuQ1IBU3rwb0",
        "colab": {
          "base_uri": "https://localhost:8080/"
        },
        "outputId": "d78bb322-6178-425b-d860-7e80f9738a5e"
      },
      "execution_count": null,
      "outputs": [
        {
          "output_type": "stream",
          "name": "stdout",
          "text": [
            "['apples', 'mangoes', 'cherry']\n"
          ]
        }
      ]
    },
    {
      "cell_type": "code",
      "source": [
        "lis.clear()"
      ],
      "metadata": {
        "id": "0I_YFm7c-uQv"
      },
      "execution_count": null,
      "outputs": []
    },
    {
      "cell_type": "code",
      "source": [
        "print(lis)"
      ],
      "metadata": {
        "colab": {
          "base_uri": "https://localhost:8080/"
        },
        "id": "0nzJILPg-uNP",
        "outputId": "a5d88990-44e4-403c-f43c-0d0df7477ff5"
      },
      "execution_count": null,
      "outputs": [
        {
          "output_type": "stream",
          "name": "stdout",
          "text": [
            "[]\n"
          ]
        }
      ]
    },
    {
      "cell_type": "code",
      "source": [
        "#copy()"
      ],
      "metadata": {
        "id": "c5gqT_-V-uEJ"
      },
      "execution_count": null,
      "outputs": []
    },
    {
      "cell_type": "code",
      "source": [
        "list1 = [1,2,3,4,5,6,7]"
      ],
      "metadata": {
        "id": "1hjuDLg9-uAk"
      },
      "execution_count": null,
      "outputs": []
    },
    {
      "cell_type": "code",
      "source": [
        "print(list1)"
      ],
      "metadata": {
        "colab": {
          "base_uri": "https://localhost:8080/"
        },
        "id": "qhP7Ee3p-t9f",
        "outputId": "f2a609f0-0338-4fbc-f754-91be65a32ee5"
      },
      "execution_count": null,
      "outputs": [
        {
          "output_type": "stream",
          "name": "stdout",
          "text": [
            "[1, 2, 3, 4, 5, 6, 7]\n"
          ]
        }
      ]
    },
    {
      "cell_type": "code",
      "source": [
        "list2=list1.copy()"
      ],
      "metadata": {
        "id": "vaSD7tkj-t22"
      },
      "execution_count": null,
      "outputs": []
    },
    {
      "cell_type": "code",
      "source": [
        "print(list2)"
      ],
      "metadata": {
        "colab": {
          "base_uri": "https://localhost:8080/"
        },
        "id": "tQ8rdkV6-tvq",
        "outputId": "b246b4c0-ca66-4b34-d4a1-f44244dd1e13"
      },
      "execution_count": null,
      "outputs": [
        {
          "output_type": "stream",
          "name": "stdout",
          "text": [
            "[1, 2, 3, 4, 5, 6, 7]\n"
          ]
        }
      ]
    },
    {
      "cell_type": "code",
      "source": [],
      "metadata": {
        "id": "ea5BHdMMrwSc"
      },
      "execution_count": null,
      "outputs": []
    }
  ]
}